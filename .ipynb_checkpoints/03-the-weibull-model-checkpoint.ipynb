{
 "cells": [
  {
   "cell_type": "markdown",
   "id": "golden-navigation",
   "metadata": {},
   "source": [
    "# The Weibull Model"
   ]
  },
  {
   "cell_type": "markdown",
   "id": "offshore-program",
   "metadata": {},
   "source": [
    "- Model time-to-event data with parametric model\n",
    "- Use the Weibull model and the Weibull AFT model\n",
    "- Know what different purposes they serve\n",
    "- Use survival regression to make inferences about how covariates affect the survival function\n",
    "- Learn how to select the best survival model for your data"
   ]
  },
  {
   "cell_type": "markdown",
   "id": "alone-disposition",
   "metadata": {},
   "source": [
    "- Weibull is a parametric model for survival analysis"
   ]
  },
  {
   "cell_type": "markdown",
   "id": "freelance-insured",
   "metadata": {},
   "source": [
    "## Probability Distribution Function"
   ]
  },
  {
   "cell_type": "markdown",
   "id": "brief-musical",
   "metadata": {},
   "source": [
    "**Probability Distribution Functiton (PDF)** is a function that describes the probability of different outcomes\n",
    "\n",
    "- The *Standard Normal PDF* is commonly used to model sample means\n",
    "- The *Standard Uniform PDF* describes an equal probability of all outcomes\n",
    "\n",
    "**The *Weibull Distribution* is a continuous PDF that models time-to-event data very well**\n",
    "\n",
    "- It was originally applied to model particle size distribution"
   ]
  },
  {
   "cell_type": "markdown",
   "id": "dangerous-seminar",
   "metadata": {},
   "source": [
    "To describe the Weibull Distribution, we need 2 parameters:\n",
    "\n",
    "- $\\lambda$: The *Scale* parameter. If $k$ is constant, it determines how tall and wide the distribution is\n",
    "- $k$: The *Shape* parameter. If $\\lambda$ is constant, it determines which shape the distribution takes"
   ]
  },
  {
   "cell_type": "markdown",
   "id": "moving-offer",
   "metadata": {},
   "source": [
    "$$f(x;\\lambda, k)=\\frac{k}{\\lambda}(\\frac{x}{\\lambda})^{k-1}e^{-(\\frac{x}{\\lambda})^k}$$\n",
    "\n",
    "where $x\\geq0$, $k\\gt0$, and $\\lambda\\gt0$"
   ]
  },
  {
   "cell_type": "markdown",
   "id": "fitted-enhancement",
   "metadata": {},
   "source": [
    "<img src=\"images/weibull-k-parameter.png\" width=40%>\n",
    "<img src=\"images/weibull-lambda-parameter.png\" width=40%>"
   ]
  },
  {
   "cell_type": "markdown",
   "id": "appreciated-myanmar",
   "metadata": {},
   "source": [
    "## Fitting Time-to-Event With Weibull"
   ]
  },
  {
   "cell_type": "markdown",
   "id": "japanese-links",
   "metadata": {},
   "source": [
    "Imagine a company with a fleet of machines prone to failure\n",
    "\n",
    "- Here is the distribution of the failures overtime\n",
    "- Supoerposing the Weibull distribution (orange), we have a descent fit\n",
    "\n",
    "<img src=\"images/machine-time-to-failure.png\" width=40%>"
   ]
  },
  {
   "cell_type": "markdown",
   "id": "crucial-engineering",
   "metadata": {},
   "source": [
    "## From Weibull Distribution to Survival Function"
   ]
  },
  {
   "cell_type": "markdown",
   "id": "oriental-clearing",
   "metadata": {},
   "source": [
    "From the distribution, we can derive the survival function"
   ]
  },
  {
   "cell_type": "markdown",
   "id": "intelligent-concrete",
   "metadata": {},
   "source": [
    "<img src=\"images/weibull-survival-function.png\" width=50%>"
   ]
  },
  {
   "cell_type": "markdown",
   "id": "blocked-license",
   "metadata": {},
   "source": [
    "<img src=\"images/weibull-survival-graphs.png\" width=80%>"
   ]
  },
  {
   "cell_type": "markdown",
   "id": "tested-hypothetical",
   "metadata": {},
   "source": [
    "**Note: $k$ is often replaced with $\\rho$ in survival functions, but they are the same parameter**"
   ]
  },
  {
   "cell_type": "markdown",
   "id": "passive-calendar",
   "metadata": {},
   "source": [
    "### The Parameters: $k$ and $\\lambda$"
   ]
  },
  {
   "cell_type": "markdown",
   "id": "dramatic-uzbekistan",
   "metadata": {},
   "source": [
    "These are the keys to understand how survival rate varies over time\n",
    "\n",
    "- $k$ or $\\rho$: Determines the shape\n",
    "- $\\lambda$: Determines the scale (indicates when 63.2% of the population has experienced the event)\n",
    "\n",
    "With Weibull Distribution, the failure/event rate is proportional to a power of time"
   ]
  },
  {
   "cell_type": "markdown",
   "id": "toxic-safety",
   "metadata": {},
   "source": [
    "**When $k<1$, the failure/event rate decrease over time**"
   ]
  },
  {
   "cell_type": "markdown",
   "id": "basic-leadership",
   "metadata": {},
   "source": [
    "<img src=\"images/weibull-k-less-than-1.png\" width=80%>"
   ]
  },
  {
   "cell_type": "markdown",
   "id": "published-alliance",
   "metadata": {},
   "source": [
    "**When $k=1$, the failure/event rate is constant over time**"
   ]
  },
  {
   "cell_type": "markdown",
   "id": "typical-colonial",
   "metadata": {},
   "source": [
    "<img src=\"images/weibull-k-is-1.png\" width=80%>"
   ]
  },
  {
   "cell_type": "markdown",
   "id": "sonic-dayton",
   "metadata": {},
   "source": [
    "**When $k>1$, the failure/event rate increases over time**"
   ]
  },
  {
   "cell_type": "markdown",
   "id": "arctic-broadcasting",
   "metadata": {},
   "source": [
    "<img src=\"images/weibull-k-greater-than-1.png\" width=80%>"
   ]
  },
  {
   "cell_type": "markdown",
   "id": "small-depth",
   "metadata": {},
   "source": [
    "## Modeling Time-To-Event Data With Weibull Model"
   ]
  },
  {
   "cell_type": "code",
   "execution_count": 1,
   "id": "portable-synthetic",
   "metadata": {},
   "outputs": [],
   "source": [
    "# Import the WeibullFitter class\n",
    "from lifelines import WeibullFitter\n",
    "import pandas as pd\n",
    "import matplotlib.pyplot as plt"
   ]
  },
  {
   "cell_type": "code",
   "execution_count": 2,
   "id": "standard-actress",
   "metadata": {},
   "outputs": [
    {
     "data": {
      "text/html": [
       "<div>\n",
       "<style scoped>\n",
       "    .dataframe tbody tr th:only-of-type {\n",
       "        vertical-align: middle;\n",
       "    }\n",
       "\n",
       "    .dataframe tbody tr th {\n",
       "        vertical-align: top;\n",
       "    }\n",
       "\n",
       "    .dataframe thead th {\n",
       "        text-align: right;\n",
       "    }\n",
       "</style>\n",
       "<table border=\"1\" class=\"dataframe\">\n",
       "  <thead>\n",
       "    <tr style=\"text-align: right;\">\n",
       "      <th></th>\n",
       "      <th>ctryname</th>\n",
       "      <th>cowcode2</th>\n",
       "      <th>politycode</th>\n",
       "      <th>un_region_name</th>\n",
       "      <th>un_continent_name</th>\n",
       "      <th>ehead</th>\n",
       "      <th>leaderspellreg</th>\n",
       "      <th>democracy</th>\n",
       "      <th>regime</th>\n",
       "      <th>start_year</th>\n",
       "      <th>duration</th>\n",
       "      <th>observed</th>\n",
       "    </tr>\n",
       "  </thead>\n",
       "  <tbody>\n",
       "    <tr>\n",
       "      <th>0</th>\n",
       "      <td>Afghanistan</td>\n",
       "      <td>700</td>\n",
       "      <td>700.0</td>\n",
       "      <td>Southern Asia</td>\n",
       "      <td>Asia</td>\n",
       "      <td>Mohammad Zahir Shah</td>\n",
       "      <td>Mohammad Zahir Shah.Afghanistan.1946.1952.Mona...</td>\n",
       "      <td>Non-democracy</td>\n",
       "      <td>Monarchy</td>\n",
       "      <td>1946</td>\n",
       "      <td>7</td>\n",
       "      <td>1</td>\n",
       "    </tr>\n",
       "    <tr>\n",
       "      <th>1</th>\n",
       "      <td>Afghanistan</td>\n",
       "      <td>700</td>\n",
       "      <td>700.0</td>\n",
       "      <td>Southern Asia</td>\n",
       "      <td>Asia</td>\n",
       "      <td>Sardar Mohammad Daoud</td>\n",
       "      <td>Sardar Mohammad Daoud.Afghanistan.1953.1962.Ci...</td>\n",
       "      <td>Non-democracy</td>\n",
       "      <td>Civilian Dict</td>\n",
       "      <td>1953</td>\n",
       "      <td>10</td>\n",
       "      <td>1</td>\n",
       "    </tr>\n",
       "    <tr>\n",
       "      <th>2</th>\n",
       "      <td>Afghanistan</td>\n",
       "      <td>700</td>\n",
       "      <td>700.0</td>\n",
       "      <td>Southern Asia</td>\n",
       "      <td>Asia</td>\n",
       "      <td>Mohammad Zahir Shah</td>\n",
       "      <td>Mohammad Zahir Shah.Afghanistan.1963.1972.Mona...</td>\n",
       "      <td>Non-democracy</td>\n",
       "      <td>Monarchy</td>\n",
       "      <td>1963</td>\n",
       "      <td>10</td>\n",
       "      <td>1</td>\n",
       "    </tr>\n",
       "    <tr>\n",
       "      <th>3</th>\n",
       "      <td>Afghanistan</td>\n",
       "      <td>700</td>\n",
       "      <td>700.0</td>\n",
       "      <td>Southern Asia</td>\n",
       "      <td>Asia</td>\n",
       "      <td>Sardar Mohammad Daoud</td>\n",
       "      <td>Sardar Mohammad Daoud.Afghanistan.1973.1977.Ci...</td>\n",
       "      <td>Non-democracy</td>\n",
       "      <td>Civilian Dict</td>\n",
       "      <td>1973</td>\n",
       "      <td>5</td>\n",
       "      <td>0</td>\n",
       "    </tr>\n",
       "    <tr>\n",
       "      <th>4</th>\n",
       "      <td>Afghanistan</td>\n",
       "      <td>700</td>\n",
       "      <td>700.0</td>\n",
       "      <td>Southern Asia</td>\n",
       "      <td>Asia</td>\n",
       "      <td>Nur Mohammad Taraki</td>\n",
       "      <td>Nur Mohammad Taraki.Afghanistan.1978.1978.Civi...</td>\n",
       "      <td>Non-democracy</td>\n",
       "      <td>Civilian Dict</td>\n",
       "      <td>1978</td>\n",
       "      <td>1</td>\n",
       "      <td>0</td>\n",
       "    </tr>\n",
       "  </tbody>\n",
       "</table>\n",
       "</div>"
      ],
      "text/plain": [
       "      ctryname  cowcode2  politycode un_region_name un_continent_name  \\\n",
       "0  Afghanistan       700       700.0  Southern Asia              Asia   \n",
       "1  Afghanistan       700       700.0  Southern Asia              Asia   \n",
       "2  Afghanistan       700       700.0  Southern Asia              Asia   \n",
       "3  Afghanistan       700       700.0  Southern Asia              Asia   \n",
       "4  Afghanistan       700       700.0  Southern Asia              Asia   \n",
       "\n",
       "                   ehead                                     leaderspellreg  \\\n",
       "0    Mohammad Zahir Shah  Mohammad Zahir Shah.Afghanistan.1946.1952.Mona...   \n",
       "1  Sardar Mohammad Daoud  Sardar Mohammad Daoud.Afghanistan.1953.1962.Ci...   \n",
       "2    Mohammad Zahir Shah  Mohammad Zahir Shah.Afghanistan.1963.1972.Mona...   \n",
       "3  Sardar Mohammad Daoud  Sardar Mohammad Daoud.Afghanistan.1973.1977.Ci...   \n",
       "4    Nur Mohammad Taraki  Nur Mohammad Taraki.Afghanistan.1978.1978.Civi...   \n",
       "\n",
       "       democracy         regime  start_year  duration  observed  \n",
       "0  Non-democracy       Monarchy        1946         7         1  \n",
       "1  Non-democracy  Civilian Dict        1953        10         1  \n",
       "2  Non-democracy       Monarchy        1963        10         1  \n",
       "3  Non-democracy  Civilian Dict        1973         5         0  \n",
       "4  Non-democracy  Civilian Dict        1978         1         0  "
      ]
     },
     "metadata": {},
     "output_type": "display_data"
    },
    {
     "data": {
      "text/plain": [
       "(1808, 12)"
      ]
     },
     "metadata": {},
     "output_type": "display_data"
    }
   ],
   "source": [
    "# Our dataset\n",
    "regimes = pd.read_csv(\"data/regimes.csv\")\n",
    "display(regimes.head())\n",
    "display(regimes.shape)"
   ]
  },
  {
   "cell_type": "code",
   "execution_count": 3,
   "id": "higher-individual",
   "metadata": {},
   "outputs": [],
   "source": [
    "# Instantiate the fitter\n",
    "wb = WeibullFitter()"
   ]
  },
  {
   "cell_type": "code",
   "execution_count": 4,
   "id": "psychological-scout",
   "metadata": {},
   "outputs": [
    {
     "data": {
      "text/plain": [
       "<lifelines.WeibullFitter:\"Weibull_estimate\", fitted with 1808 total observations, 340 right-censored observations>"
      ]
     },
     "execution_count": 4,
     "metadata": {},
     "output_type": "execute_result"
    }
   ],
   "source": [
    "# Fit on the data: This is a right-censored dataset\n",
    "wb.fit(\n",
    "    durations=regimes[\"duration\"],      # Duration\n",
    "    event_observed=regimes[\"observed\"]  # Censorship\n",
    ")"
   ]
  },
  {
   "cell_type": "markdown",
   "id": "dimensional-arrangement",
   "metadata": {},
   "source": [
    "**Some properties that we can access from the fitted model**\n",
    "\n",
    "- `wb.survival_function_`\n",
    "- `wb.lambda_`\n",
    "- `wb.rho_`\n",
    "- `wb.summary`\n",
    "- `wb.predict()`"
   ]
  },
  {
   "cell_type": "markdown",
   "id": "handy-portable",
   "metadata": {},
   "source": [
    "Let's plot the survival curve\n",
    "\n",
    "**Note:**\n",
    "\n",
    "- **`wb.plot()` plots the *Hazard Function*, a different type of survival function**\n",
    "- **For the actual survival function, use `wb.survival_function_.plot()`**"
   ]
  },
  {
   "cell_type": "code",
   "execution_count": 5,
   "id": "completed-investor",
   "metadata": {},
   "outputs": [
    {
     "data": {
      "image/png": "[encoded data removed]",
      "text/plain": [
       "<Figure size 432x288 with 1 Axes>"
      ]
     },
     "metadata": {
      "needs_background": "light"
     },
     "output_type": "display_data"
    }
   ],
   "source": [
    "# Plotting the survival function\n",
    "wb.survival_function_.plot()\n",
    "plt.show();"
   ]
  },
  {
   "cell_type": "markdown",
   "id": "tracked-joint",
   "metadata": {},
   "source": [
    "Unlike the K-M model, the Weibull model is Smooth and Continuous"
   ]
  },
  {
   "cell_type": "code",
   "execution_count": 6,
   "id": "occupational-peripheral",
   "metadata": {},
   "outputs": [
    {
     "name": "stdout",
     "output_type": "stream",
     "text": [
      "wb.lambda: 6.11019887296108\n",
      "wb.rho 0.9426436165831186\n"
     ]
    }
   ],
   "source": [
    "# Looking at the parameter values\n",
    "print(\"wb.lambda:\", wb.lambda_)\n",
    "print(\"wb.rho\", wb.rho_)"
   ]
  },
  {
   "cell_type": "markdown",
   "id": "german-builder",
   "metadata": {},
   "source": [
    "- Here, $\\rho$ is 0.94\n",
    "  - $\\rho < 1$ (same as $k < 1$ above) means that the failure/event rate decrease over time\n",
    "  - That is, regime that last a long time have increasingly lower likelihood of dying"
   ]
  },
  {
   "cell_type": "code",
   "execution_count": 7,
   "id": "typical-wings",
   "metadata": {},
   "outputs": [
    {
     "name": "stdout",
     "output_type": "stream",
     "text": [
      "Probability of regime survival after 20 years of power: 4.698153621165786 %\n"
     ]
    }
   ],
   "source": [
    "# Predicting: What is the probability that a regime will not die (survival rate) given they are 20 years old?\n",
    "print(\"Probability of regime survival after 20 years of power:\", wb.predict(20) * 100, \"%\")"
   ]
  },
  {
   "cell_type": "markdown",
   "id": "obvious-thriller",
   "metadata": {},
   "source": [
    "## Application Example: Prison Recidivism"
   ]
  },
  {
   "cell_type": "markdown",
   "id": "lightweight-pharmaceutical",
   "metadata": {},
   "source": [
    "- How long does it take for convicts to be rearrested after their release?\n",
    "- Dataset of 432 convicts who were released from Maryland state prisons in the 1970s and who were followed up with one year after release\n",
    "- Model the survival function of time-to-arrest using the Weibull model"
   ]
  },
  {
   "cell_type": "code",
   "execution_count": 8,
   "id": "higher-extra",
   "metadata": {},
   "outputs": [],
   "source": [
    "# Import the libraries\n",
    "from lifelines import WeibullFitter\n",
    "import pandas as pd\n",
    "import matplotlib.pyplot as plt"
   ]
  },
  {
   "cell_type": "code",
   "execution_count": 9,
   "id": "cellular-conflict",
   "metadata": {},
   "outputs": [
    {
     "data": {
      "text/html": [
       "<div>\n",
       "<style scoped>\n",
       "    .dataframe tbody tr th:only-of-type {\n",
       "        vertical-align: middle;\n",
       "    }\n",
       "\n",
       "    .dataframe tbody tr th {\n",
       "        vertical-align: top;\n",
       "    }\n",
       "\n",
       "    .dataframe thead th {\n",
       "        text-align: right;\n",
       "    }\n",
       "</style>\n",
       "<table border=\"1\" class=\"dataframe\">\n",
       "  <thead>\n",
       "    <tr style=\"text-align: right;\">\n",
       "      <th></th>\n",
       "      <th>week</th>\n",
       "      <th>arrest</th>\n",
       "      <th>fin</th>\n",
       "      <th>age</th>\n",
       "      <th>race</th>\n",
       "      <th>wexp</th>\n",
       "      <th>mar</th>\n",
       "      <th>paro</th>\n",
       "      <th>prio</th>\n",
       "    </tr>\n",
       "  </thead>\n",
       "  <tbody>\n",
       "    <tr>\n",
       "      <th>0</th>\n",
       "      <td>20</td>\n",
       "      <td>1</td>\n",
       "      <td>0</td>\n",
       "      <td>27</td>\n",
       "      <td>1</td>\n",
       "      <td>0</td>\n",
       "      <td>0</td>\n",
       "      <td>1</td>\n",
       "      <td>3</td>\n",
       "    </tr>\n",
       "    <tr>\n",
       "      <th>1</th>\n",
       "      <td>17</td>\n",
       "      <td>1</td>\n",
       "      <td>0</td>\n",
       "      <td>18</td>\n",
       "      <td>1</td>\n",
       "      <td>0</td>\n",
       "      <td>0</td>\n",
       "      <td>1</td>\n",
       "      <td>8</td>\n",
       "    </tr>\n",
       "    <tr>\n",
       "      <th>2</th>\n",
       "      <td>25</td>\n",
       "      <td>1</td>\n",
       "      <td>0</td>\n",
       "      <td>19</td>\n",
       "      <td>0</td>\n",
       "      <td>1</td>\n",
       "      <td>0</td>\n",
       "      <td>1</td>\n",
       "      <td>13</td>\n",
       "    </tr>\n",
       "    <tr>\n",
       "      <th>3</th>\n",
       "      <td>52</td>\n",
       "      <td>0</td>\n",
       "      <td>1</td>\n",
       "      <td>23</td>\n",
       "      <td>1</td>\n",
       "      <td>1</td>\n",
       "      <td>1</td>\n",
       "      <td>1</td>\n",
       "      <td>1</td>\n",
       "    </tr>\n",
       "    <tr>\n",
       "      <th>4</th>\n",
       "      <td>52</td>\n",
       "      <td>0</td>\n",
       "      <td>0</td>\n",
       "      <td>19</td>\n",
       "      <td>0</td>\n",
       "      <td>1</td>\n",
       "      <td>0</td>\n",
       "      <td>1</td>\n",
       "      <td>3</td>\n",
       "    </tr>\n",
       "  </tbody>\n",
       "</table>\n",
       "</div>"
      ],
      "text/plain": [
       "   week  arrest  fin  age  race  wexp  mar  paro  prio\n",
       "0    20       1    0   27     1     0    0     1     3\n",
       "1    17       1    0   18     1     0    0     1     8\n",
       "2    25       1    0   19     0     1    0     1    13\n",
       "3    52       0    1   23     1     1    1     1     1\n",
       "4    52       0    0   19     0     1    0     1     3"
      ]
     },
     "metadata": {},
     "output_type": "display_data"
    },
    {
     "data": {
      "text/plain": [
       "(432, 9)"
      ]
     },
     "metadata": {},
     "output_type": "display_data"
    }
   ],
   "source": [
    "# Our dataset\n",
    "prison = pd.read_csv(\"data/prison-recidivism.csv\")\n",
    "prison = prison.drop(columns=[\"index\"])\n",
    "display(prison.head())\n",
    "display(prison.shape)"
   ]
  },
  {
   "cell_type": "code",
   "execution_count": 10,
   "id": "economic-numbers",
   "metadata": {},
   "outputs": [],
   "source": [
    "# Instantiate the fitter\n",
    "wb = WeibullFitter()"
   ]
  },
  {
   "cell_type": "code",
   "execution_count": 11,
   "id": "valuable-notion",
   "metadata": {},
   "outputs": [
    {
     "data": {
      "text/plain": [
       "<lifelines.WeibullFitter:\"Weibull_estimate\", fitted with 432 total observations, 318 right-censored observations>"
      ]
     },
     "execution_count": 11,
     "metadata": {},
     "output_type": "execute_result"
    }
   ],
   "source": [
    "# Fit on the data: This is a right-censored dataset\n",
    "wb.fit(\n",
    "    durations=prison[\"week\"],        # Duration\n",
    "    event_observed=prison[\"arrest\"]  # Censorship\n",
    ")"
   ]
  },
  {
   "cell_type": "code",
   "execution_count": 12,
   "id": "adequate-tunnel",
   "metadata": {},
   "outputs": [
    {
     "data": {
      "image/png": "[encoded data removed]",
      "text/plain": [
       "<Figure size 432x288 with 1 Axes>"
      ]
     },
     "metadata": {
      "needs_background": "light"
     },
     "output_type": "display_data"
    }
   ],
   "source": [
    "# Plot survival function\n",
    "wb.survival_function_.plot()\n",
    "plt.show()"
   ]
  },
  {
   "cell_type": "markdown",
   "id": "female-lunch",
   "metadata": {},
   "source": [
    "Data Question: What is approximately the median time it takes for a released ex-convict to be arrested?"
   ]
  },
  {
   "cell_type": "code",
   "execution_count": 13,
   "id": "peaceful-maldives",
   "metadata": {},
   "outputs": [
    {
     "data": {
      "text/plain": [
       "94.5561872278691"
      ]
     },
     "execution_count": 13,
     "metadata": {},
     "output_type": "execute_result"
    }
   ],
   "source": [
    "wb.median_survival_time_"
   ]
  },
  {
   "cell_type": "markdown",
   "id": "radio-galaxy",
   "metadata": {},
   "source": [
    "Answer: That is about 95 Weeks"
   ]
  },
  {
   "cell_type": "markdown",
   "id": "human-sunglasses",
   "metadata": {},
   "source": [
    "- What if we analyze *Parole* and *Non-Parole* convicts separately?"
   ]
  },
  {
   "cell_type": "code",
   "execution_count": 14,
   "id": "elegant-insured",
   "metadata": {},
   "outputs": [],
   "source": [
    "# Mask for parole\n",
    "parole = (prison[\"paro\"] == 1)"
   ]
  },
  {
   "cell_type": "code",
   "execution_count": 15,
   "id": "proved-philip",
   "metadata": {},
   "outputs": [
    {
     "data": {
      "text/plain": [
       "<lifelines.WeibullFitter:\"Weibull_estimate\", fitted with 267 total observations, 199 right-censored observations>"
      ]
     },
     "execution_count": 15,
     "metadata": {},
     "output_type": "execute_result"
    }
   ],
   "source": [
    "# Fit to parolee data\n",
    "wb.fit(\n",
    "    durations=prison[parole][\"week\"],        # Duration\n",
    "    event_observed=prison[parole][\"arrest\"]  # Censorship\n",
    ")"
   ]
  },
  {
   "cell_type": "code",
   "execution_count": 16,
   "id": "radio-serve",
   "metadata": {},
   "outputs": [
    {
     "name": "stdout",
     "output_type": "stream",
     "text": [
      "The rho_ parameter of parolee survival function is:  1.4181024400796285\n"
     ]
    }
   ],
   "source": [
    "# Print rho\n",
    "print(\"The rho_ parameter of parolee survival function is: \", wb.rho_)"
   ]
  },
  {
   "cell_type": "code",
   "execution_count": 17,
   "id": "engaged-consultation",
   "metadata": {},
   "outputs": [
    {
     "data": {
      "text/plain": [
       "<lifelines.WeibullFitter:\"Weibull_estimate\", fitted with 165 total observations, 119 right-censored observations>"
      ]
     },
     "execution_count": 17,
     "metadata": {},
     "output_type": "execute_result"
    }
   ],
   "source": [
    "# Fit to non-parolee data\n",
    "wb.fit(\n",
    "    durations=prison[~parole][\"week\"],        # Duration\n",
    "    event_observed=prison[~parole][\"arrest\"]  # Censorship\n",
    ")"
   ]
  },
  {
   "cell_type": "code",
   "execution_count": 18,
   "id": "beginning-shock",
   "metadata": {},
   "outputs": [
    {
     "name": "stdout",
     "output_type": "stream",
     "text": [
      "The rho_ parameter of non-parolee survival function is:  1.2943809760486589\n"
     ]
    }
   ],
   "source": [
    "# Print rho\n",
    "print(\"The rho_ parameter of non-parolee survival function is: \", wb.rho_)"
   ]
  },
  {
   "cell_type": "markdown",
   "id": "appropriate-auditor",
   "metadata": {},
   "source": [
    "**Conclusion:** Both rho values are larger than 1, which indicates that both populations' rate of event increases as time goes on"
   ]
  },
  {
   "cell_type": "markdown",
   "id": "minimal-vegetation",
   "metadata": {},
   "source": [
    "## Weibull Model With Covariates"
   ]
  },
  {
   "cell_type": "markdown",
   "id": "impaired-conservative",
   "metadata": {},
   "source": [
    "How are Survival Functions affected by additional data we have about the population?\n",
    "\n",
    "- We can compare survival functions (compare groups) with the K-M Estimator and Log Rank test\n",
    "- But how do we assess if/how one or multiple continuous variables affect the survival function?\n",
    "- For this, we use a technique called **Survival Regression**"
   ]
  },
  {
   "cell_type": "markdown",
   "id": "coated-august",
   "metadata": {},
   "source": [
    "### Survival Regression"
   ]
  },
  {
   "cell_type": "markdown",
   "id": "economic-spending",
   "metadata": {},
   "source": [
    "- A method to model survival functions with covariates\n",
    "- Quantifies how each covariate affects the survival function\n",
    "- Similar to other regression model: Regress the covariates against another variable"
   ]
  },
  {
   "cell_type": "markdown",
   "id": "foreign-contact",
   "metadata": {},
   "source": [
    "$$Y_i=f(X_i, \\beta)$$\n",
    "\n",
    "Where $Y_i$: durations, and $X_i$: covariates"
   ]
  },
  {
   "cell_type": "markdown",
   "id": "injured-shannon",
   "metadata": {},
   "source": [
    "Covariates can either be Quantitative (Age, Weight...) or Qualitative (Country, Gender...)"
   ]
  },
  {
   "cell_type": "markdown",
   "id": "forbidden-shopper",
   "metadata": {},
   "source": [
    "#### Accelerated Failure Time (AFT) Model"
   ]
  },
  {
   "cell_type": "markdown",
   "id": "patient-pricing",
   "metadata": {},
   "source": [
    "- An example of a Survival Regression model\n",
    "- Suppose we have 2 groups\n",
    "\n",
    "$PopulationA: S_A(t)$\\\n",
    "$PopulationB: S_B(t)$\\\n",
    "$S_A(t)=S_B(t\\cdot\\lambda)$ "
   ]
  },
  {
   "cell_type": "markdown",
   "id": "civilian-scholarship",
   "metadata": {},
   "source": [
    "$S_B(t)$ is speeding up (accelerating) or slowing down (decelerating) along $S_A(t)$ by a factor of $\\lambda$\n",
    "\n",
    "- $\\lambda$ is the Accelerated Failure Rate (AFR)\n",
    "- AFT model uses this logic to vary the Survival Function based on model covariates\n",
    "- **When a covariate changes from $a$ to $b$, time-to-event speeds up or slows down by the AFR $\\lambda$**\n",
    "  - Example: Dogs age 7-times faster than humans: $S_{dog}(t)=S_{human}(t\\cdot7)$"
   ]
  },
  {
   "cell_type": "markdown",
   "id": "seventh-ribbon",
   "metadata": {},
   "source": [
    "<img src=\"images/data-for-survival-regression.png\" width=70%>"
   ]
  },
  {
   "cell_type": "markdown",
   "id": "continent-church",
   "metadata": {},
   "source": [
    "Data for Survival Regression has:\n",
    "\n",
    "- A *Duration* column\n",
    "- A *Censorship* column\n",
    "- Some covariate columns"
   ]
  },
  {
   "cell_type": "markdown",
   "id": "acoustic-conspiracy",
   "metadata": {},
   "source": [
    "- **Categorical variables should be one-hot encoded (dummified)**\n",
    "- **If no Censorship column is provided, the model assumes that there are no censored subjects**"
   ]
  },
  {
   "cell_type": "markdown",
   "id": "unnecessary-france",
   "metadata": {},
   "source": [
    "### Combining Weibull with AFT: The Weibull AFT Model"
   ]
  },
  {
   "cell_type": "markdown",
   "id": "afraid-locator",
   "metadata": {},
   "source": [
    "We also need a model for the Survival Distribution\n",
    "\n",
    "- The Weibull model is commonly used\n",
    "- Its AFT Regression implementation in the lifelines package as `WeibullAFTFitter`"
   ]
  },
  {
   "cell_type": "code",
   "execution_count": 19,
   "id": "united-violation",
   "metadata": {},
   "outputs": [],
   "source": [
    "# Import the libraries\n",
    "from lifelines import WeibullAFTFitter\n",
    "import pandas as pd\n",
    "import numpy as np\n",
    "import matplotlib.pyplot as plt"
   ]
  },
  {
   "cell_type": "code",
   "execution_count": 20,
   "id": "breeding-attraction",
   "metadata": {},
   "outputs": [
    {
     "data": {
      "text/html": [
       "<div>\n",
       "<style scoped>\n",
       "    .dataframe tbody tr th:only-of-type {\n",
       "        vertical-align: middle;\n",
       "    }\n",
       "\n",
       "    .dataframe tbody tr th {\n",
       "        vertical-align: top;\n",
       "    }\n",
       "\n",
       "    .dataframe thead th {\n",
       "        text-align: right;\n",
       "    }\n",
       "</style>\n",
       "<table border=\"1\" class=\"dataframe\">\n",
       "  <thead>\n",
       "    <tr style=\"text-align: right;\">\n",
       "      <th></th>\n",
       "      <th>week</th>\n",
       "      <th>arrest</th>\n",
       "      <th>fin</th>\n",
       "      <th>age</th>\n",
       "      <th>race</th>\n",
       "      <th>wexp</th>\n",
       "      <th>mar</th>\n",
       "      <th>paro</th>\n",
       "      <th>prio</th>\n",
       "    </tr>\n",
       "  </thead>\n",
       "  <tbody>\n",
       "    <tr>\n",
       "      <th>0</th>\n",
       "      <td>20</td>\n",
       "      <td>1</td>\n",
       "      <td>0</td>\n",
       "      <td>27</td>\n",
       "      <td>1</td>\n",
       "      <td>0</td>\n",
       "      <td>0</td>\n",
       "      <td>1</td>\n",
       "      <td>3</td>\n",
       "    </tr>\n",
       "    <tr>\n",
       "      <th>1</th>\n",
       "      <td>17</td>\n",
       "      <td>1</td>\n",
       "      <td>0</td>\n",
       "      <td>18</td>\n",
       "      <td>1</td>\n",
       "      <td>0</td>\n",
       "      <td>0</td>\n",
       "      <td>1</td>\n",
       "      <td>8</td>\n",
       "    </tr>\n",
       "    <tr>\n",
       "      <th>2</th>\n",
       "      <td>25</td>\n",
       "      <td>1</td>\n",
       "      <td>0</td>\n",
       "      <td>19</td>\n",
       "      <td>0</td>\n",
       "      <td>1</td>\n",
       "      <td>0</td>\n",
       "      <td>1</td>\n",
       "      <td>13</td>\n",
       "    </tr>\n",
       "    <tr>\n",
       "      <th>3</th>\n",
       "      <td>52</td>\n",
       "      <td>0</td>\n",
       "      <td>1</td>\n",
       "      <td>23</td>\n",
       "      <td>1</td>\n",
       "      <td>1</td>\n",
       "      <td>1</td>\n",
       "      <td>1</td>\n",
       "      <td>1</td>\n",
       "    </tr>\n",
       "    <tr>\n",
       "      <th>4</th>\n",
       "      <td>52</td>\n",
       "      <td>0</td>\n",
       "      <td>0</td>\n",
       "      <td>19</td>\n",
       "      <td>0</td>\n",
       "      <td>1</td>\n",
       "      <td>0</td>\n",
       "      <td>1</td>\n",
       "      <td>3</td>\n",
       "    </tr>\n",
       "  </tbody>\n",
       "</table>\n",
       "</div>"
      ],
      "text/plain": [
       "   week  arrest  fin  age  race  wexp  mar  paro  prio\n",
       "0    20       1    0   27     1     0    0     1     3\n",
       "1    17       1    0   18     1     0    0     1     8\n",
       "2    25       1    0   19     0     1    0     1    13\n",
       "3    52       0    1   23     1     1    1     1     1\n",
       "4    52       0    0   19     0     1    0     1     3"
      ]
     },
     "metadata": {},
     "output_type": "display_data"
    },
    {
     "data": {
      "text/plain": [
       "(432, 9)"
      ]
     },
     "metadata": {},
     "output_type": "display_data"
    }
   ],
   "source": [
    "# Our dataset\n",
    "prison = pd.read_csv(\"data/prison-recidivism.csv\")\n",
    "prison = prison.drop(columns=[\"index\"])\n",
    "display(prison.head())\n",
    "display(prison.shape)"
   ]
  },
  {
   "cell_type": "code",
   "execution_count": 21,
   "id": "driving-yemen",
   "metadata": {},
   "outputs": [],
   "source": [
    "# Instantiate the fitter\n",
    "aft = WeibullAFTFitter()"
   ]
  },
  {
   "cell_type": "code",
   "execution_count": 22,
   "id": "legitimate-transaction",
   "metadata": {},
   "outputs": [
    {
     "data": {
      "text/plain": [
       "<lifelines.WeibullAFTFitter: fitted with 432 total observations, 318 right-censored observations>"
      ]
     },
     "execution_count": 22,
     "metadata": {},
     "output_type": "execute_result"
    }
   ],
   "source": [
    "# Fit on the data: This is a right-censored dataset\n",
    "# Note: We only use the names of the columns here\n",
    "aft.fit(\n",
    "    df=prison,                       # Dataframe\n",
    "    duration_col=\"week\",             # Duration\n",
    "    event_col=\"arrest\"               # Censorship\n",
    ")"
   ]
  },
  {
   "cell_type": "markdown",
   "id": "blond-dictionary",
   "metadata": {},
   "source": [
    "After fitting, we can print the summary"
   ]
  },
  {
   "cell_type": "code",
   "execution_count": 23,
   "id": "white-victoria",
   "metadata": {},
   "outputs": [
    {
     "data": {
      "text/html": [
       "<div>\n",
       "<style scoped>\n",
       "    .dataframe tbody tr th:only-of-type {\n",
       "        vertical-align: middle;\n",
       "    }\n",
       "\n",
       "    .dataframe tbody tr th {\n",
       "        vertical-align: top;\n",
       "    }\n",
       "\n",
       "    .dataframe thead th {\n",
       "        text-align: right;\n",
       "    }\n",
       "</style>\n",
       "<table border=\"1\" class=\"dataframe\">\n",
       "  <thead>\n",
       "    <tr style=\"text-align: right;\">\n",
       "      <th></th>\n",
       "      <th></th>\n",
       "      <th>coef</th>\n",
       "      <th>exp(coef)</th>\n",
       "      <th>se(coef)</th>\n",
       "      <th>coef lower 95%</th>\n",
       "      <th>coef upper 95%</th>\n",
       "      <th>exp(coef) lower 95%</th>\n",
       "      <th>exp(coef) upper 95%</th>\n",
       "      <th>z</th>\n",
       "      <th>p</th>\n",
       "      <th>-log2(p)</th>\n",
       "    </tr>\n",
       "    <tr>\n",
       "      <th>param</th>\n",
       "      <th>covariate</th>\n",
       "      <th></th>\n",
       "      <th></th>\n",
       "      <th></th>\n",
       "      <th></th>\n",
       "      <th></th>\n",
       "      <th></th>\n",
       "      <th></th>\n",
       "      <th></th>\n",
       "      <th></th>\n",
       "      <th></th>\n",
       "    </tr>\n",
       "  </thead>\n",
       "  <tbody>\n",
       "    <tr>\n",
       "      <th rowspan=\"8\" valign=\"top\">lambda_</th>\n",
       "      <th>age</th>\n",
       "      <td>0.040715</td>\n",
       "      <td>1.041555</td>\n",
       "      <td>0.016004</td>\n",
       "      <td>0.009348</td>\n",
       "      <td>0.072082</td>\n",
       "      <td>1.009392</td>\n",
       "      <td>1.074743</td>\n",
       "      <td>2.544082</td>\n",
       "      <td>1.095655e-02</td>\n",
       "      <td>6.512063</td>\n",
       "    </tr>\n",
       "    <tr>\n",
       "      <th>fin</th>\n",
       "      <td>0.272172</td>\n",
       "      <td>1.312813</td>\n",
       "      <td>0.137963</td>\n",
       "      <td>0.001770</td>\n",
       "      <td>0.542575</td>\n",
       "      <td>1.001771</td>\n",
       "      <td>1.720432</td>\n",
       "      <td>1.972790</td>\n",
       "      <td>4.851948e-02</td>\n",
       "      <td>4.365292</td>\n",
       "    </tr>\n",
       "    <tr>\n",
       "      <th>mar</th>\n",
       "      <td>0.311260</td>\n",
       "      <td>1.365145</td>\n",
       "      <td>0.273302</td>\n",
       "      <td>-0.224401</td>\n",
       "      <td>0.846922</td>\n",
       "      <td>0.798995</td>\n",
       "      <td>2.332455</td>\n",
       "      <td>1.138890</td>\n",
       "      <td>2.547491e-01</td>\n",
       "      <td>1.972851</td>\n",
       "    </tr>\n",
       "    <tr>\n",
       "      <th>paro</th>\n",
       "      <td>0.058822</td>\n",
       "      <td>1.060586</td>\n",
       "      <td>0.139639</td>\n",
       "      <td>-0.214866</td>\n",
       "      <td>0.332510</td>\n",
       "      <td>0.806650</td>\n",
       "      <td>1.394464</td>\n",
       "      <td>0.421242</td>\n",
       "      <td>6.735780e-01</td>\n",
       "      <td>0.570083</td>\n",
       "    </tr>\n",
       "    <tr>\n",
       "      <th>prio</th>\n",
       "      <td>-0.065817</td>\n",
       "      <td>0.936303</td>\n",
       "      <td>0.020941</td>\n",
       "      <td>-0.106860</td>\n",
       "      <td>-0.024773</td>\n",
       "      <td>0.898652</td>\n",
       "      <td>0.975531</td>\n",
       "      <td>-3.142988</td>\n",
       "      <td>1.672324e-03</td>\n",
       "      <td>9.223930</td>\n",
       "    </tr>\n",
       "    <tr>\n",
       "      <th>race</th>\n",
       "      <td>-0.224808</td>\n",
       "      <td>0.798669</td>\n",
       "      <td>0.220161</td>\n",
       "      <td>-0.656316</td>\n",
       "      <td>0.206699</td>\n",
       "      <td>0.518759</td>\n",
       "      <td>1.229612</td>\n",
       "      <td>-1.021110</td>\n",
       "      <td>3.072026e-01</td>\n",
       "      <td>1.702738</td>\n",
       "    </tr>\n",
       "    <tr>\n",
       "      <th>wexp</th>\n",
       "      <td>0.106551</td>\n",
       "      <td>1.112434</td>\n",
       "      <td>0.151542</td>\n",
       "      <td>-0.190466</td>\n",
       "      <td>0.403567</td>\n",
       "      <td>0.826574</td>\n",
       "      <td>1.497156</td>\n",
       "      <td>0.703111</td>\n",
       "      <td>4.819864e-01</td>\n",
       "      <td>1.052936</td>\n",
       "    </tr>\n",
       "    <tr>\n",
       "      <th>Intercept</th>\n",
       "      <td>3.990123</td>\n",
       "      <td>54.061543</td>\n",
       "      <td>0.419099</td>\n",
       "      <td>3.168703</td>\n",
       "      <td>4.811543</td>\n",
       "      <td>23.776632</td>\n",
       "      <td>122.921129</td>\n",
       "      <td>9.520707</td>\n",
       "      <td>1.720051e-21</td>\n",
       "      <td>68.978039</td>\n",
       "    </tr>\n",
       "    <tr>\n",
       "      <th>rho_</th>\n",
       "      <th>Intercept</th>\n",
       "      <td>0.339103</td>\n",
       "      <td>1.403688</td>\n",
       "      <td>0.089027</td>\n",
       "      <td>0.164613</td>\n",
       "      <td>0.513593</td>\n",
       "      <td>1.178937</td>\n",
       "      <td>1.671285</td>\n",
       "      <td>3.808985</td>\n",
       "      <td>1.395386e-04</td>\n",
       "      <td>12.807048</td>\n",
       "    </tr>\n",
       "  </tbody>\n",
       "</table>\n",
       "</div>"
      ],
      "text/plain": [
       "                       coef  exp(coef)  se(coef)  coef lower 95%  \\\n",
       "param   covariate                                                  \n",
       "lambda_ age        0.040715   1.041555  0.016004        0.009348   \n",
       "        fin        0.272172   1.312813  0.137963        0.001770   \n",
       "        mar        0.311260   1.365145  0.273302       -0.224401   \n",
       "        paro       0.058822   1.060586  0.139639       -0.214866   \n",
       "        prio      -0.065817   0.936303  0.020941       -0.106860   \n",
       "        race      -0.224808   0.798669  0.220161       -0.656316   \n",
       "        wexp       0.106551   1.112434  0.151542       -0.190466   \n",
       "        Intercept  3.990123  54.061543  0.419099        3.168703   \n",
       "rho_    Intercept  0.339103   1.403688  0.089027        0.164613   \n",
       "\n",
       "                   coef upper 95%  exp(coef) lower 95%  exp(coef) upper 95%  \\\n",
       "param   covariate                                                             \n",
       "lambda_ age              0.072082             1.009392             1.074743   \n",
       "        fin              0.542575             1.001771             1.720432   \n",
       "        mar              0.846922             0.798995             2.332455   \n",
       "        paro             0.332510             0.806650             1.394464   \n",
       "        prio            -0.024773             0.898652             0.975531   \n",
       "        race             0.206699             0.518759             1.229612   \n",
       "        wexp             0.403567             0.826574             1.497156   \n",
       "        Intercept        4.811543            23.776632           122.921129   \n",
       "rho_    Intercept        0.513593             1.178937             1.671285   \n",
       "\n",
       "                          z             p   -log2(p)  \n",
       "param   covariate                                     \n",
       "lambda_ age        2.544082  1.095655e-02   6.512063  \n",
       "        fin        1.972790  4.851948e-02   4.365292  \n",
       "        mar        1.138890  2.547491e-01   1.972851  \n",
       "        paro       0.421242  6.735780e-01   0.570083  \n",
       "        prio      -3.142988  1.672324e-03   9.223930  \n",
       "        race      -1.021110  3.072026e-01   1.702738  \n",
       "        wexp       0.703111  4.819864e-01   1.052936  \n",
       "        Intercept  9.520707  1.720051e-21  68.978039  \n",
       "rho_    Intercept  3.808985  1.395386e-04  12.807048  "
      ]
     },
     "metadata": {},
     "output_type": "display_data"
    }
   ],
   "source": [
    "# Print the summary\n",
    "display(aft.summary)"
   ]
  },
  {
   "cell_type": "markdown",
   "id": "optical-coverage",
   "metadata": {},
   "source": [
    "Unlike the coefficient in linear regressions, $e^{coef}$ indicates how much the average survival time changes with a 1-unit change in the covariate\n",
    "\n",
    "- Which is why `exp(coef)` is sometimes more useful than just `coef`\n",
    "- `p` is the $p$-value that indicates statistical significance"
   ]
  },
  {
   "cell_type": "code",
   "execution_count": 24,
   "id": "brilliant-stand",
   "metadata": {},
   "outputs": [
    {
     "data": {
      "text/plain": [
       "param    covariate\n",
       "lambda_  age          0.040715\n",
       "         fin          0.272172\n",
       "         mar          0.311260\n",
       "         paro         0.058822\n",
       "         prio        -0.065817\n",
       "         race        -0.224808\n",
       "         wexp         0.106551\n",
       "         Intercept    3.990123\n",
       "rho_     Intercept    0.339103\n",
       "dtype: float64"
      ]
     },
     "execution_count": 24,
     "metadata": {},
     "output_type": "execute_result"
    }
   ],
   "source": [
    "# What are all the parameters?\n",
    "aft.params_"
   ]
  },
  {
   "cell_type": "markdown",
   "id": "naked-bridal",
   "metadata": {},
   "source": [
    "The intuitive coefficient interpretation is a nice feature of the Weibull AFT regression model"
   ]
  },
  {
   "cell_type": "code",
   "execution_count": 25,
   "id": "productive-string",
   "metadata": {},
   "outputs": [
    {
     "name": "stdout",
     "output_type": "stream",
     "text": [
      "When age increases by 1, the average survival duration changes by a factor of  1.0415551042343882\n"
     ]
    }
   ],
   "source": [
    "exp_age = np.exp(aft.params_.loc['lambda_'].loc['age'])\n",
    "print('When age increases by 1, the average survival duration changes by a factor of ', exp_age)"
   ]
  },
  {
   "cell_type": "markdown",
   "id": "religious-regular",
   "metadata": {},
   "source": [
    "#### WeibullAFTFitter with Custom Formula"
   ]
  },
  {
   "cell_type": "markdown",
   "id": "incorporated-reservoir",
   "metadata": {},
   "source": [
    "- We could also specify on which covariates to regress on\n",
    "- For this, we could use the `formula` parameter to handle the right-hand side of the model equation\n",
    "- This is analogous to a linear model for each term in the interaction term"
   ]
  },
  {
   "cell_type": "code",
   "execution_count": 26,
   "id": "religious-profession",
   "metadata": {},
   "outputs": [
    {
     "data": {
      "text/plain": [
       "<lifelines.WeibullAFTFitter: fitted with 432 total observations, 318 right-censored observations>"
      ]
     },
     "execution_count": 26,
     "metadata": {},
     "output_type": "execute_result"
    }
   ],
   "source": [
    "# Fitting with custom formula\n",
    "aft.fit(\n",
    "    df=prison,                       # Dataframe\n",
    "    duration_col=\"week\",             # Duration\n",
    "    event_col=\"arrest\",              # Censorship\n",
    "    formula=\"age + race * wexp\"\n",
    ")"
   ]
  },
  {
   "cell_type": "code",
   "execution_count": 27,
   "id": "modular-education",
   "metadata": {},
   "outputs": [
    {
     "data": {
      "text/html": [
       "<div>\n",
       "<style scoped>\n",
       "    .dataframe tbody tr th:only-of-type {\n",
       "        vertical-align: middle;\n",
       "    }\n",
       "\n",
       "    .dataframe tbody tr th {\n",
       "        vertical-align: top;\n",
       "    }\n",
       "\n",
       "    .dataframe thead th {\n",
       "        text-align: right;\n",
       "    }\n",
       "</style>\n",
       "<table border=\"1\" class=\"dataframe\">\n",
       "  <thead>\n",
       "    <tr style=\"text-align: right;\">\n",
       "      <th></th>\n",
       "      <th></th>\n",
       "      <th>coef</th>\n",
       "      <th>exp(coef)</th>\n",
       "      <th>se(coef)</th>\n",
       "      <th>coef lower 95%</th>\n",
       "      <th>coef upper 95%</th>\n",
       "      <th>exp(coef) lower 95%</th>\n",
       "      <th>exp(coef) upper 95%</th>\n",
       "      <th>z</th>\n",
       "      <th>p</th>\n",
       "      <th>-log2(p)</th>\n",
       "    </tr>\n",
       "    <tr>\n",
       "      <th>param</th>\n",
       "      <th>covariate</th>\n",
       "      <th></th>\n",
       "      <th></th>\n",
       "      <th></th>\n",
       "      <th></th>\n",
       "      <th></th>\n",
       "      <th></th>\n",
       "      <th></th>\n",
       "      <th></th>\n",
       "      <th></th>\n",
       "      <th></th>\n",
       "    </tr>\n",
       "  </thead>\n",
       "  <tbody>\n",
       "    <tr>\n",
       "      <th rowspan=\"5\" valign=\"top\">lambda_</th>\n",
       "      <th>Intercept</th>\n",
       "      <td>3.836770</td>\n",
       "      <td>46.375458</td>\n",
       "      <td>0.431752</td>\n",
       "      <td>2.990551</td>\n",
       "      <td>4.682990</td>\n",
       "      <td>19.896643</td>\n",
       "      <td>108.092759</td>\n",
       "      <td>8.886504</td>\n",
       "      <td>6.306166e-19</td>\n",
       "      <td>60.459871</td>\n",
       "    </tr>\n",
       "    <tr>\n",
       "      <th>age</th>\n",
       "      <td>0.043174</td>\n",
       "      <td>1.044120</td>\n",
       "      <td>0.016172</td>\n",
       "      <td>0.011477</td>\n",
       "      <td>0.074871</td>\n",
       "      <td>1.011544</td>\n",
       "      <td>1.077745</td>\n",
       "      <td>2.669669</td>\n",
       "      <td>7.592611e-03</td>\n",
       "      <td>7.041188</td>\n",
       "    </tr>\n",
       "    <tr>\n",
       "      <th>race</th>\n",
       "      <td>-0.211495</td>\n",
       "      <td>0.809373</td>\n",
       "      <td>0.311963</td>\n",
       "      <td>-0.822932</td>\n",
       "      <td>0.399942</td>\n",
       "      <td>0.439142</td>\n",
       "      <td>1.491738</td>\n",
       "      <td>-0.677948</td>\n",
       "      <td>4.978044e-01</td>\n",
       "      <td>1.006349</td>\n",
       "    </tr>\n",
       "    <tr>\n",
       "      <th>wexp</th>\n",
       "      <td>0.161109</td>\n",
       "      <td>1.174813</td>\n",
       "      <td>0.426439</td>\n",
       "      <td>-0.674696</td>\n",
       "      <td>0.996914</td>\n",
       "      <td>0.509311</td>\n",
       "      <td>2.709906</td>\n",
       "      <td>0.377801</td>\n",
       "      <td>7.055783e-01</td>\n",
       "      <td>0.503122</td>\n",
       "    </tr>\n",
       "    <tr>\n",
       "      <th>race:wexp</th>\n",
       "      <td>0.104310</td>\n",
       "      <td>1.109945</td>\n",
       "      <td>0.443327</td>\n",
       "      <td>-0.764594</td>\n",
       "      <td>0.973215</td>\n",
       "      <td>0.465523</td>\n",
       "      <td>2.646439</td>\n",
       "      <td>0.235290</td>\n",
       "      <td>8.139835e-01</td>\n",
       "      <td>0.296928</td>\n",
       "    </tr>\n",
       "    <tr>\n",
       "      <th>rho_</th>\n",
       "      <th>Intercept</th>\n",
       "      <td>0.323832</td>\n",
       "      <td>1.382415</td>\n",
       "      <td>0.089777</td>\n",
       "      <td>0.147873</td>\n",
       "      <td>0.499792</td>\n",
       "      <td>1.159365</td>\n",
       "      <td>1.648378</td>\n",
       "      <td>3.607077</td>\n",
       "      <td>3.096655e-04</td>\n",
       "      <td>11.657002</td>\n",
       "    </tr>\n",
       "  </tbody>\n",
       "</table>\n",
       "</div>"
      ],
      "text/plain": [
       "                       coef  exp(coef)  se(coef)  coef lower 95%  \\\n",
       "param   covariate                                                  \n",
       "lambda_ Intercept  3.836770  46.375458  0.431752        2.990551   \n",
       "        age        0.043174   1.044120  0.016172        0.011477   \n",
       "        race      -0.211495   0.809373  0.311963       -0.822932   \n",
       "        wexp       0.161109   1.174813  0.426439       -0.674696   \n",
       "        race:wexp  0.104310   1.109945  0.443327       -0.764594   \n",
       "rho_    Intercept  0.323832   1.382415  0.089777        0.147873   \n",
       "\n",
       "                   coef upper 95%  exp(coef) lower 95%  exp(coef) upper 95%  \\\n",
       "param   covariate                                                             \n",
       "lambda_ Intercept        4.682990            19.896643           108.092759   \n",
       "        age              0.074871             1.011544             1.077745   \n",
       "        race             0.399942             0.439142             1.491738   \n",
       "        wexp             0.996914             0.509311             2.709906   \n",
       "        race:wexp        0.973215             0.465523             2.646439   \n",
       "rho_    Intercept        0.499792             1.159365             1.648378   \n",
       "\n",
       "                          z             p   -log2(p)  \n",
       "param   covariate                                     \n",
       "lambda_ Intercept  8.886504  6.306166e-19  60.459871  \n",
       "        age        2.669669  7.592611e-03   7.041188  \n",
       "        race      -0.677948  4.978044e-01   1.006349  \n",
       "        wexp       0.377801  7.055783e-01   0.503122  \n",
       "        race:wexp  0.235290  8.139835e-01   0.296928  \n",
       "rho_    Intercept  3.607077  3.096655e-04  11.657002  "
      ]
     },
     "metadata": {},
     "output_type": "display_data"
    }
   ],
   "source": [
    "# Print the summary\n",
    "display(aft.summary)"
   ]
  },
  {
   "cell_type": "code",
   "execution_count": 28,
   "id": "interested-lesbian",
   "metadata": {},
   "outputs": [
    {
     "data": {
      "text/plain": [
       "param    covariate\n",
       "lambda_  Intercept    3.836770\n",
       "         age          0.043174\n",
       "         race        -0.211495\n",
       "         wexp         0.161109\n",
       "         race:wexp    0.104310\n",
       "rho_     Intercept    0.323832\n",
       "dtype: float64"
      ]
     },
     "execution_count": 28,
     "metadata": {},
     "output_type": "execute_result"
    }
   ],
   "source": [
    "# What are all the parameters?\n",
    "aft.params_"
   ]
  },
  {
   "cell_type": "markdown",
   "id": "comprehensive-albert",
   "metadata": {},
   "source": [
    "## Visualization and Prediction With Weibull Method"
   ]
  },
  {
   "cell_type": "markdown",
   "id": "protective-recycling",
   "metadata": {},
   "source": [
    "After fitting a Weibull Regression Model, we can:\n",
    "\n",
    "- Visualize it\n",
    "- Predict with it"
   ]
  },
  {
   "cell_type": "markdown",
   "id": "turned-burlington",
   "metadata": {},
   "source": [
    "### `aft.plot()`"
   ]
  },
  {
   "cell_type": "markdown",
   "id": "mysterious-balloon",
   "metadata": {},
   "source": [
    "- This is an alternative way to view the model coefficient other than `aft.summary`\n",
    "- Returns a plot of the coefficients and their ranges from the 95% CI"
   ]
  },
  {
   "cell_type": "code",
   "execution_count": 29,
   "id": "broad-fault",
   "metadata": {},
   "outputs": [],
   "source": [
    "# Import the libraries\n",
    "from lifelines import WeibullAFTFitter\n",
    "import pandas as pd\n",
    "import numpy as np\n",
    "import matplotlib.pyplot as plt"
   ]
  },
  {
   "cell_type": "code",
   "execution_count": 30,
   "id": "personal-ideal",
   "metadata": {},
   "outputs": [
    {
     "data": {
      "text/html": [
       "<div>\n",
       "<style scoped>\n",
       "    .dataframe tbody tr th:only-of-type {\n",
       "        vertical-align: middle;\n",
       "    }\n",
       "\n",
       "    .dataframe tbody tr th {\n",
       "        vertical-align: top;\n",
       "    }\n",
       "\n",
       "    .dataframe thead th {\n",
       "        text-align: right;\n",
       "    }\n",
       "</style>\n",
       "<table border=\"1\" class=\"dataframe\">\n",
       "  <thead>\n",
       "    <tr style=\"text-align: right;\">\n",
       "      <th></th>\n",
       "      <th>week</th>\n",
       "      <th>arrest</th>\n",
       "      <th>fin</th>\n",
       "      <th>age</th>\n",
       "      <th>race</th>\n",
       "      <th>wexp</th>\n",
       "      <th>mar</th>\n",
       "      <th>paro</th>\n",
       "      <th>prio</th>\n",
       "    </tr>\n",
       "  </thead>\n",
       "  <tbody>\n",
       "    <tr>\n",
       "      <th>0</th>\n",
       "      <td>20</td>\n",
       "      <td>1</td>\n",
       "      <td>0</td>\n",
       "      <td>27</td>\n",
       "      <td>1</td>\n",
       "      <td>0</td>\n",
       "      <td>0</td>\n",
       "      <td>1</td>\n",
       "      <td>3</td>\n",
       "    </tr>\n",
       "    <tr>\n",
       "      <th>1</th>\n",
       "      <td>17</td>\n",
       "      <td>1</td>\n",
       "      <td>0</td>\n",
       "      <td>18</td>\n",
       "      <td>1</td>\n",
       "      <td>0</td>\n",
       "      <td>0</td>\n",
       "      <td>1</td>\n",
       "      <td>8</td>\n",
       "    </tr>\n",
       "    <tr>\n",
       "      <th>2</th>\n",
       "      <td>25</td>\n",
       "      <td>1</td>\n",
       "      <td>0</td>\n",
       "      <td>19</td>\n",
       "      <td>0</td>\n",
       "      <td>1</td>\n",
       "      <td>0</td>\n",
       "      <td>1</td>\n",
       "      <td>13</td>\n",
       "    </tr>\n",
       "    <tr>\n",
       "      <th>3</th>\n",
       "      <td>52</td>\n",
       "      <td>0</td>\n",
       "      <td>1</td>\n",
       "      <td>23</td>\n",
       "      <td>1</td>\n",
       "      <td>1</td>\n",
       "      <td>1</td>\n",
       "      <td>1</td>\n",
       "      <td>1</td>\n",
       "    </tr>\n",
       "    <tr>\n",
       "      <th>4</th>\n",
       "      <td>52</td>\n",
       "      <td>0</td>\n",
       "      <td>0</td>\n",
       "      <td>19</td>\n",
       "      <td>0</td>\n",
       "      <td>1</td>\n",
       "      <td>0</td>\n",
       "      <td>1</td>\n",
       "      <td>3</td>\n",
       "    </tr>\n",
       "  </tbody>\n",
       "</table>\n",
       "</div>"
      ],
      "text/plain": [
       "   week  arrest  fin  age  race  wexp  mar  paro  prio\n",
       "0    20       1    0   27     1     0    0     1     3\n",
       "1    17       1    0   18     1     0    0     1     8\n",
       "2    25       1    0   19     0     1    0     1    13\n",
       "3    52       0    1   23     1     1    1     1     1\n",
       "4    52       0    0   19     0     1    0     1     3"
      ]
     },
     "metadata": {},
     "output_type": "display_data"
    },
    {
     "data": {
      "text/plain": [
       "(432, 9)"
      ]
     },
     "metadata": {},
     "output_type": "display_data"
    }
   ],
   "source": [
    "# Our dataset\n",
    "prison = pd.read_csv(\"data/prison-recidivism.csv\")\n",
    "prison = prison.drop(columns=[\"index\"])\n",
    "display(prison.head())\n",
    "display(prison.shape)"
   ]
  },
  {
   "cell_type": "code",
   "execution_count": 31,
   "id": "characteristic-lawyer",
   "metadata": {},
   "outputs": [],
   "source": [
    "# Instantiate the fitter\n",
    "aft = WeibullAFTFitter()"
   ]
  },
  {
   "cell_type": "code",
   "execution_count": 32,
   "id": "chicken-tourist",
   "metadata": {},
   "outputs": [
    {
     "data": {
      "text/plain": [
       "<lifelines.WeibullAFTFitter: fitted with 432 total observations, 318 right-censored observations>"
      ]
     },
     "execution_count": 32,
     "metadata": {},
     "output_type": "execute_result"
    }
   ],
   "source": [
    "# Fit on the data: This is a right-censored dataset\n",
    "# Note: We only use the names of the columns here\n",
    "aft.fit(\n",
    "    df=prison,                       # Dataframe\n",
    "    duration_col=\"week\",             # Duration\n",
    "    event_col=\"arrest\"               # Censorship\n",
    ")"
   ]
  },
  {
   "cell_type": "code",
   "execution_count": 33,
   "id": "dangerous-poison",
   "metadata": {},
   "outputs": [
    {
     "data": {
      "image/png": "[encoded data removed]",
      "text/plain": [
       "<Figure size 432x288 with 1 Axes>"
      ]
     },
     "metadata": {
      "needs_background": "light"
     },
     "output_type": "display_data"
    }
   ],
   "source": [
    "# Plotting to view the coefficients\n",
    "aft.plot()\n",
    "plt.show();"
   ]
  },
  {
   "cell_type": "markdown",
   "id": "premium-sheriff",
   "metadata": {},
   "source": [
    "**Keep in mind that we should use $e^{coef}$ and not $coef$ themselves for interpreting the change effects**"
   ]
  },
  {
   "cell_type": "markdown",
   "id": "acting-holocaust",
   "metadata": {},
   "source": [
    "### `aft.plot_partial_effects_on_outcome()`"
   ]
  },
  {
   "cell_type": "markdown",
   "id": "anonymous-produce",
   "metadata": {},
   "source": [
    "- This allows to see how the coefficients manifest on the survival functions\n",
    "- Returns a plot comparing:\n",
    "  - The baseline survival curve\n",
    "  - What happens when covariates are varied over rules"
   ]
  },
  {
   "cell_type": "markdown",
   "id": "pleased-orleans",
   "metadata": {},
   "source": [
    "- This is helpful to visualize changes as we vary specific covariates, all else being held equal\n",
    "- It takes at least 2 arguments:\n",
    "  - `covariates` - Name of the covariates from the original dataset that we wish to vary\n",
    "  - `values` - Values that we want the covariates to take on"
   ]
  },
  {
   "cell_type": "markdown",
   "id": "strategic-preference",
   "metadata": {},
   "source": [
    "**Baseline Survival Curve** - Predicted Survival Curve at all average values in the original dataset"
   ]
  },
  {
   "cell_type": "code",
   "execution_count": 34,
   "id": "recovered-handbook",
   "metadata": {},
   "outputs": [
    {
     "data": {
      "image/png": "[encoded data removed]",
      "text/plain": [
       "<Figure size 432x288 with 1 Axes>"
      ]
     },
     "metadata": {
      "needs_background": "light"
     },
     "output_type": "display_data"
    }
   ],
   "source": [
    "# Checking the effect of varying age\n",
    "covariates = [\"age\"]\n",
    "values = [5,10,15,20,25]\n",
    "\n",
    "aft.plot_partial_effects_on_outcome(covariates, values)\n",
    "plt.show()"
   ]
  },
  {
   "cell_type": "markdown",
   "id": "altered-dodge",
   "metadata": {},
   "source": [
    "### How to plot partial effects?"
   ]
  },
  {
   "cell_type": "markdown",
   "id": "younger-syndrome",
   "metadata": {},
   "source": [
    "**Hard-code the values**\n",
    "\n",
    "```python\n",
    "aft.plot_partial_effects_on_outcome(\n",
    "    covariates=\"some_var\",\n",
    "    values=[5, 10, 15, 20, 25]\n",
    ")\n",
    "```\n",
    "\n",
    "**Use a range function**\n",
    "\n",
    "```python\n",
    "aft.plot_partial_effects_on_outcome(\n",
    "    covariates=\"some_var\",\n",
    "    values=np.arange(10)\n",
    ")\n",
    "```\n",
    "\n",
    "**For Multiple covariates, we need to specify each values**\n",
    "\n",
    "```python\n",
    "aft.plot_partial_effects_on_outcome(\n",
    "    covariates=[\"var1\", \"var2\"],\n",
    "    values=[\n",
    "        [1, 2],\n",
    "        [1, 3],\n",
    "        [2, 3]\n",
    "    ]\n",
    ")\n",
    "```\n",
    "\n",
    "**Custom Formula**\n",
    "\n",
    "All the necessary transformation will be made internally and automatically"
   ]
  },
  {
   "cell_type": "markdown",
   "id": "utility-jumping",
   "metadata": {},
   "source": [
    "### Predict Survival Functions"
   ]
  },
  {
   "cell_type": "markdown",
   "id": "sound-ethnic",
   "metadata": {},
   "source": [
    "- Individual might have different survival curves based on their covariates values"
   ]
  },
  {
   "cell_type": "markdown",
   "id": "fifty-february",
   "metadata": {},
   "source": [
    "<img src=\"images/predicting-with-survival-model.png\" width=80%>"
   ]
  },
  {
   "cell_type": "markdown",
   "id": "advised-lecture",
   "metadata": {},
   "source": [
    "```python\n",
    "# Predict new individual survival functions based on covariate values\n",
    "aft.predict_survival_function(covariates<list>)\n",
    "\n",
    "# Predict median survival durations of individuals based on covariate values\n",
    "aft.predict_median(covariates<list>)\n",
    "```"
   ]
  },
  {
   "cell_type": "markdown",
   "id": "meaningful-cooper",
   "metadata": {},
   "source": [
    "**Both methods assume that subjects are new to the study**\n",
    "\n",
    "- **But we could also pass the current duration of subjects to the `conditional_after` parameter to specify existing durations if known**\n",
    "- Prediction made would then be after the existing durations\n",
    "\n",
    "```python\n",
    "# Predict new individual survival functions based on covariate values\n",
    "aft.predict_survival_function(covariates<list>, conditional_after<duration>)\n",
    "\n",
    "# Predict median survival durations of individuals based on covariate values\n",
    "aft.predict_median(covariates<list>, conditional_after<duration>)\n",
    "```"
   ]
  },
  {
   "cell_type": "markdown",
   "id": "swiss-fantasy",
   "metadata": {},
   "source": [
    "**Example**\n",
    "\n",
    "```python\n",
    "aft.predict_median(new_subject) # => 4.8\n",
    "aft.predict_median(new_subject, conditional_after=[2]) # => 2.8\n",
    "```"
   ]
  },
  {
   "cell_type": "markdown",
   "id": "competitive-generator",
   "metadata": {},
   "source": [
    "### Application with the `prison` dataset"
   ]
  },
  {
   "cell_type": "code",
   "execution_count": 35,
   "id": "suitable-writer",
   "metadata": {},
   "outputs": [],
   "source": [
    "# Import the libraries\n",
    "from lifelines import WeibullAFTFitter\n",
    "import pandas as pd\n",
    "import numpy as np\n",
    "import matplotlib.pyplot as plt"
   ]
  },
  {
   "cell_type": "code",
   "execution_count": 36,
   "id": "productive-police",
   "metadata": {},
   "outputs": [
    {
     "data": {
      "text/html": [
       "<div>\n",
       "<style scoped>\n",
       "    .dataframe tbody tr th:only-of-type {\n",
       "        vertical-align: middle;\n",
       "    }\n",
       "\n",
       "    .dataframe tbody tr th {\n",
       "        vertical-align: top;\n",
       "    }\n",
       "\n",
       "    .dataframe thead th {\n",
       "        text-align: right;\n",
       "    }\n",
       "</style>\n",
       "<table border=\"1\" class=\"dataframe\">\n",
       "  <thead>\n",
       "    <tr style=\"text-align: right;\">\n",
       "      <th></th>\n",
       "      <th>week</th>\n",
       "      <th>arrest</th>\n",
       "      <th>fin</th>\n",
       "      <th>age</th>\n",
       "      <th>wexp</th>\n",
       "      <th>mar</th>\n",
       "      <th>paro</th>\n",
       "      <th>prio</th>\n",
       "    </tr>\n",
       "  </thead>\n",
       "  <tbody>\n",
       "    <tr>\n",
       "      <th>0</th>\n",
       "      <td>20</td>\n",
       "      <td>1</td>\n",
       "      <td>0</td>\n",
       "      <td>27</td>\n",
       "      <td>0</td>\n",
       "      <td>0</td>\n",
       "      <td>1</td>\n",
       "      <td>3</td>\n",
       "    </tr>\n",
       "    <tr>\n",
       "      <th>1</th>\n",
       "      <td>17</td>\n",
       "      <td>1</td>\n",
       "      <td>0</td>\n",
       "      <td>18</td>\n",
       "      <td>0</td>\n",
       "      <td>0</td>\n",
       "      <td>1</td>\n",
       "      <td>8</td>\n",
       "    </tr>\n",
       "    <tr>\n",
       "      <th>2</th>\n",
       "      <td>25</td>\n",
       "      <td>1</td>\n",
       "      <td>0</td>\n",
       "      <td>19</td>\n",
       "      <td>1</td>\n",
       "      <td>0</td>\n",
       "      <td>1</td>\n",
       "      <td>13</td>\n",
       "    </tr>\n",
       "    <tr>\n",
       "      <th>3</th>\n",
       "      <td>52</td>\n",
       "      <td>0</td>\n",
       "      <td>1</td>\n",
       "      <td>23</td>\n",
       "      <td>1</td>\n",
       "      <td>1</td>\n",
       "      <td>1</td>\n",
       "      <td>1</td>\n",
       "    </tr>\n",
       "    <tr>\n",
       "      <th>4</th>\n",
       "      <td>52</td>\n",
       "      <td>0</td>\n",
       "      <td>0</td>\n",
       "      <td>19</td>\n",
       "      <td>1</td>\n",
       "      <td>0</td>\n",
       "      <td>1</td>\n",
       "      <td>3</td>\n",
       "    </tr>\n",
       "  </tbody>\n",
       "</table>\n",
       "</div>"
      ],
      "text/plain": [
       "   week  arrest  fin  age  wexp  mar  paro  prio\n",
       "0    20       1    0   27     0    0     1     3\n",
       "1    17       1    0   18     0    0     1     8\n",
       "2    25       1    0   19     1    0     1    13\n",
       "3    52       0    1   23     1    1     1     1\n",
       "4    52       0    0   19     1    0     1     3"
      ]
     },
     "metadata": {},
     "output_type": "display_data"
    },
    {
     "data": {
      "text/plain": [
       "(432, 8)"
      ]
     },
     "metadata": {},
     "output_type": "display_data"
    }
   ],
   "source": [
    "# Our dataset\n",
    "prison = pd.read_csv(\"data/prison-recidivism.csv\")\n",
    "\n",
    "# We will exclude race\n",
    "prison = prison.drop(columns=[\"index\", \"race\"])\n",
    "display(prison.head())\n",
    "display(prison.shape)"
   ]
  },
  {
   "cell_type": "markdown",
   "id": "brown-aquatic",
   "metadata": {},
   "source": [
    "`prio` - Number of convictions prior to current incarceration\n",
    "\n",
    "Visualize how different values of `prio` impact the baseline survival function modeled with `WeibullAFTFitter`"
   ]
  },
  {
   "cell_type": "code",
   "execution_count": 37,
   "id": "ranking-copying",
   "metadata": {},
   "outputs": [],
   "source": [
    "# Instantiate the fitter\n",
    "aft = WeibullAFTFitter()"
   ]
  },
  {
   "cell_type": "code",
   "execution_count": 38,
   "id": "false-missile",
   "metadata": {},
   "outputs": [
    {
     "data": {
      "text/plain": [
       "<lifelines.WeibullAFTFitter: fitted with 432 total observations, 318 right-censored observations>"
      ]
     },
     "execution_count": 38,
     "metadata": {},
     "output_type": "execute_result"
    }
   ],
   "source": [
    "# Fit on the data: This is a right-censored dataset\n",
    "# Note: We only use the names of the columns here\n",
    "aft.fit(\n",
    "    df=prison,                       # Dataframe\n",
    "    duration_col=\"week\",             # Duration\n",
    "    event_col=\"arrest\"               # Censorship\n",
    ")"
   ]
  },
  {
   "cell_type": "code",
   "execution_count": 39,
   "id": "religious-clearance",
   "metadata": {},
   "outputs": [
    {
     "data": {
      "image/png": "[encoded data removed]",
      "text/plain": [
       "<Figure size 432x288 with 1 Axes>"
      ]
     },
     "metadata": {
      "needs_background": "light"
     },
     "output_type": "display_data"
    }
   ],
   "source": [
    "# Plot the survival functions for when prio takes on values 0, 3, 5, and 8. Display the plot.\n",
    "covariates = [\"prio\"]\n",
    "values = [0,3,5,8]\n",
    "\n",
    "aft.plot_partial_effects_on_outcome(covariates, values)\n",
    "plt.show()"
   ]
  },
  {
   "cell_type": "markdown",
   "id": "outstanding-julian",
   "metadata": {},
   "source": [
    "We can infer that the average value range for `prio` in the original data is between 0 and 3"
   ]
  },
  {
   "cell_type": "markdown",
   "id": "higher-things",
   "metadata": {},
   "source": [
    "**Prediction Case**: We developed a survival regression model using covariates about each released convict, including their marital status, prior arrests, etc. Ten new convicts are about to be released, and we will use the model to predict their median time to re-arrest"
   ]
  },
  {
   "cell_type": "code",
   "execution_count": 40,
   "id": "ceramic-azerbaijan",
   "metadata": {},
   "outputs": [
    {
     "data": {
      "text/html": [
       "<div>\n",
       "<style scoped>\n",
       "    .dataframe tbody tr th:only-of-type {\n",
       "        vertical-align: middle;\n",
       "    }\n",
       "\n",
       "    .dataframe tbody tr th {\n",
       "        vertical-align: top;\n",
       "    }\n",
       "\n",
       "    .dataframe thead th {\n",
       "        text-align: right;\n",
       "    }\n",
       "</style>\n",
       "<table border=\"1\" class=\"dataframe\">\n",
       "  <thead>\n",
       "    <tr style=\"text-align: right;\">\n",
       "      <th></th>\n",
       "      <th>week</th>\n",
       "      <th>arrest</th>\n",
       "      <th>fin</th>\n",
       "      <th>age</th>\n",
       "      <th>wexp</th>\n",
       "      <th>mar</th>\n",
       "      <th>paro</th>\n",
       "      <th>prio</th>\n",
       "    </tr>\n",
       "  </thead>\n",
       "  <tbody>\n",
       "    <tr>\n",
       "      <th>0</th>\n",
       "      <td>0</td>\n",
       "      <td>0</td>\n",
       "      <td>0</td>\n",
       "      <td>23</td>\n",
       "      <td>0</td>\n",
       "      <td>0</td>\n",
       "      <td>0</td>\n",
       "      <td>10</td>\n",
       "    </tr>\n",
       "    <tr>\n",
       "      <th>1</th>\n",
       "      <td>0</td>\n",
       "      <td>0</td>\n",
       "      <td>0</td>\n",
       "      <td>24</td>\n",
       "      <td>0</td>\n",
       "      <td>0</td>\n",
       "      <td>0</td>\n",
       "      <td>9</td>\n",
       "    </tr>\n",
       "    <tr>\n",
       "      <th>2</th>\n",
       "      <td>0</td>\n",
       "      <td>0</td>\n",
       "      <td>0</td>\n",
       "      <td>22</td>\n",
       "      <td>0</td>\n",
       "      <td>0</td>\n",
       "      <td>0</td>\n",
       "      <td>0</td>\n",
       "    </tr>\n",
       "    <tr>\n",
       "      <th>3</th>\n",
       "      <td>0</td>\n",
       "      <td>0</td>\n",
       "      <td>0</td>\n",
       "      <td>41</td>\n",
       "      <td>0</td>\n",
       "      <td>0</td>\n",
       "      <td>0</td>\n",
       "      <td>17</td>\n",
       "    </tr>\n",
       "    <tr>\n",
       "      <th>4</th>\n",
       "      <td>0</td>\n",
       "      <td>0</td>\n",
       "      <td>0</td>\n",
       "      <td>41</td>\n",
       "      <td>0</td>\n",
       "      <td>0</td>\n",
       "      <td>0</td>\n",
       "      <td>9</td>\n",
       "    </tr>\n",
       "  </tbody>\n",
       "</table>\n",
       "</div>"
      ],
      "text/plain": [
       "   week  arrest  fin  age  wexp  mar  paro  prio\n",
       "0     0       0    0   23     0    0     0    10\n",
       "1     0       0    0   24     0    0     0     9\n",
       "2     0       0    0   22     0    0     0     0\n",
       "3     0       0    0   41     0    0     0    17\n",
       "4     0       0    0   41     0    0     0     9"
      ]
     },
     "execution_count": 40,
     "metadata": {},
     "output_type": "execute_result"
    }
   ],
   "source": [
    "prison_new = pd.DataFrame({\n",
    "    \"week\": [0, 0, 0, 0, 0, 0, 0, 0, 0, 0],\n",
    "    \"arrest\": [0, 0, 0, 0, 0, 0, 0, 0, 0, 0],\n",
    "    \"fin\": [0, 0, 0, 0, 0, 0, 0, 0, 0, 0],\n",
    "    \"age\": [23, 24, 22, 41, 41, 35, 18, 29, 24, 35],\n",
    "    \"wexp\": [0, 0, 0, 0, 0, 0, 0, 0, 0, 0],\n",
    "    \"mar\": [0, 0, 0, 0, 0, 0, 0, 0, 0, 0],\n",
    "    \"paro\": [0, 0, 0, 0, 0, 0, 0, 0, 0, 0],\n",
    "    \"prio\": [10, 9, 0, 17, 9, 8, 15, 14, 8, 10]\n",
    "})\n",
    "prison_new.head()"
   ]
  },
  {
   "cell_type": "code",
   "execution_count": 41,
   "id": "embedded-cutting",
   "metadata": {},
   "outputs": [
    {
     "name": "stdout",
     "output_type": "stream",
     "text": [
      "0    45.627352\n",
      "1    50.655736\n",
      "2    83.628782\n",
      "3    59.603596\n",
      "4    99.921910\n",
      "5    83.864910\n",
      "6    27.052565\n",
      "7    44.787839\n",
      "8    54.035250\n",
      "9    73.702670\n",
      "dtype: float64\n"
     ]
    }
   ],
   "source": [
    "# Predict median time-to-arrest of new data\n",
    "aft_pred = aft.predict_median(\n",
    "    prison_new\n",
    "    #conditional_after=prison_new[\"prio\"]\n",
    ")\n",
    "\n",
    "print(aft_pred)"
   ]
  },
  {
   "cell_type": "code",
   "execution_count": 42,
   "id": "organizational-philip",
   "metadata": {},
   "outputs": [
    {
     "name": "stdout",
     "output_type": "stream",
     "text": [
      "On average, the median number of weeks for new released convicts to be arrested is:  62.28806105269115\n"
     ]
    }
   ],
   "source": [
    "# Print average predicted time to arrest\n",
    "print(\"On average, the median number of weeks for new released convicts to be arrested is: \", np.mean(aft_pred))"
   ]
  },
  {
   "cell_type": "markdown",
   "id": "early-sleep",
   "metadata": {},
   "source": [
    "We could also predict percentiles, expectations, and other survival function statistics\n",
    "\n",
    "**For more prediction options, checkout [here](https://lifelines.readthedocs.io/en/latest/fitters/regression/WeibullAFTFitter.html#lifelines.fitters.weibull_aft_fitter.WeibullAFTFitter.predict_median)**"
   ]
  },
  {
   "cell_type": "markdown",
   "id": "subsequent-spotlight",
   "metadata": {},
   "source": [
    "## Other Distributions and Model Selection"
   ]
  },
  {
   "cell_type": "markdown",
   "id": "injured-circus",
   "metadata": {},
   "source": [
    "There is a variety of models for Survival Modeling\n",
    "\n",
    "- We can effectively and scallably compare their performance"
   ]
  },
  {
   "cell_type": "markdown",
   "id": "several-ownership",
   "metadata": {},
   "source": [
    "### Which Model Fits the Data Best?"
   ]
  },
  {
   "cell_type": "markdown",
   "id": "foster-savage",
   "metadata": {},
   "source": [
    "- It is not always clear what distribution underlies a Time-to-Event dataset\n",
    "- Here, we applied 4 different parametric models\n",
    "  - Comparing to the K-M Survival Curve as a baseline\n",
    "\n",
    "<img src=\"images/4-parametric-models.png\" width=100%>"
   ]
  },
  {
   "cell_type": "markdown",
   "id": "desperate-sampling",
   "metadata": {},
   "source": [
    "### Parametrics vs Non-Parametric"
   ]
  },
  {
   "cell_type": "markdown",
   "id": "large-award",
   "metadata": {},
   "source": [
    "- Non-Parametric model (Kaplan-Meier Model)\n",
    "  - Ditribution-free\n",
    "  - Describes the data accurately\n",
    "  - Not smooth, nor continuous, nor differntiable\n",
    "  - Difficult to extrapolate from\n",
    "- Parametric Modeling (Weibull)\n",
    "  - Very effective when the distribution chosen is a good fit for the data\n",
    "  - Will usually give us more information\n",
    "  - When the wrong model is used, they lead to significant biased conclusions\n",
    "  - We often have to assess the goodness of fit of this model before using it"
   ]
  },
  {
   "cell_type": "markdown",
   "id": "early-breath",
   "metadata": {},
   "source": [
    "### Common Parametric Models"
   ]
  },
  {
   "cell_type": "markdown",
   "id": "united-lighting",
   "metadata": {},
   "source": [
    "- The Weibull Model `from lifelines import WeibullFitter`\n",
    "- The Exponential Model `from lifelines import ExponentialFitter`\n",
    "- The Gamme Model `from lifelines import GeneralizedGammaFitter`\n",
    "- The Log Normal Model `from lifelines import LogNormalFitter`\n",
    "- The Log Logistic Model `from lifelines import LogLogisticFitter`"
   ]
  },
  {
   "cell_type": "markdown",
   "id": "composite-rolling",
   "metadata": {},
   "source": [
    "It is important to have a general framework for comparing them"
   ]
  },
  {
   "cell_type": "markdown",
   "id": "cultural-uncertainty",
   "metadata": {},
   "source": [
    "### The Akaike Information Criterion (AIC)"
   ]
  },
  {
   "cell_type": "markdown",
   "id": "several-visiting",
   "metadata": {},
   "source": [
    "An estimator of **prediction error** and **relative quality of statistical models** for a given dataset\n",
    "\n",
    "- Estimates the amount of information loss by a given model \n",
    "- Penalizes large number of estimated parameters\n",
    "  - The less information a model loses, the higher the quality of that model\n",
    "  - The fewer parameters (less complex) a model is, the higher the quality of the data\n",
    "- Given a set of models, we could compare their AIC values\n",
    "  - The one with the **minimum AIC value** is the preferred model"
   ]
  },
  {
   "cell_type": "markdown",
   "id": "fitting-depression",
   "metadata": {},
   "source": [
    "#### Using the AIC for Model Selection"
   ]
  },
  {
   "cell_type": "code",
   "execution_count": 43,
   "id": "measured-tenant",
   "metadata": {},
   "outputs": [],
   "source": [
    "# Import the libraries\n",
    "from lifelines import WeibullFitter, ExponentialFitter, LogNormalFitter\n",
    "import pandas as pd\n",
    "import numpy as np\n",
    "import matplotlib.pyplot as plt"
   ]
  },
  {
   "cell_type": "code",
   "execution_count": 44,
   "id": "designed-enforcement",
   "metadata": {},
   "outputs": [
    {
     "data": {
      "text/html": [
       "<div>\n",
       "<style scoped>\n",
       "    .dataframe tbody tr th:only-of-type {\n",
       "        vertical-align: middle;\n",
       "    }\n",
       "\n",
       "    .dataframe tbody tr th {\n",
       "        vertical-align: top;\n",
       "    }\n",
       "\n",
       "    .dataframe thead th {\n",
       "        text-align: right;\n",
       "    }\n",
       "</style>\n",
       "<table border=\"1\" class=\"dataframe\">\n",
       "  <thead>\n",
       "    <tr style=\"text-align: right;\">\n",
       "      <th></th>\n",
       "      <th>week</th>\n",
       "      <th>arrest</th>\n",
       "      <th>fin</th>\n",
       "      <th>age</th>\n",
       "      <th>wexp</th>\n",
       "      <th>mar</th>\n",
       "      <th>paro</th>\n",
       "      <th>prio</th>\n",
       "    </tr>\n",
       "  </thead>\n",
       "  <tbody>\n",
       "    <tr>\n",
       "      <th>0</th>\n",
       "      <td>20</td>\n",
       "      <td>1</td>\n",
       "      <td>0</td>\n",
       "      <td>27</td>\n",
       "      <td>0</td>\n",
       "      <td>0</td>\n",
       "      <td>1</td>\n",
       "      <td>3</td>\n",
       "    </tr>\n",
       "    <tr>\n",
       "      <th>1</th>\n",
       "      <td>17</td>\n",
       "      <td>1</td>\n",
       "      <td>0</td>\n",
       "      <td>18</td>\n",
       "      <td>0</td>\n",
       "      <td>0</td>\n",
       "      <td>1</td>\n",
       "      <td>8</td>\n",
       "    </tr>\n",
       "    <tr>\n",
       "      <th>2</th>\n",
       "      <td>25</td>\n",
       "      <td>1</td>\n",
       "      <td>0</td>\n",
       "      <td>19</td>\n",
       "      <td>1</td>\n",
       "      <td>0</td>\n",
       "      <td>1</td>\n",
       "      <td>13</td>\n",
       "    </tr>\n",
       "    <tr>\n",
       "      <th>3</th>\n",
       "      <td>52</td>\n",
       "      <td>0</td>\n",
       "      <td>1</td>\n",
       "      <td>23</td>\n",
       "      <td>1</td>\n",
       "      <td>1</td>\n",
       "      <td>1</td>\n",
       "      <td>1</td>\n",
       "    </tr>\n",
       "    <tr>\n",
       "      <th>4</th>\n",
       "      <td>52</td>\n",
       "      <td>0</td>\n",
       "      <td>0</td>\n",
       "      <td>19</td>\n",
       "      <td>1</td>\n",
       "      <td>0</td>\n",
       "      <td>1</td>\n",
       "      <td>3</td>\n",
       "    </tr>\n",
       "  </tbody>\n",
       "</table>\n",
       "</div>"
      ],
      "text/plain": [
       "   week  arrest  fin  age  wexp  mar  paro  prio\n",
       "0    20       1    0   27     0    0     1     3\n",
       "1    17       1    0   18     0    0     1     8\n",
       "2    25       1    0   19     1    0     1    13\n",
       "3    52       0    1   23     1    1     1     1\n",
       "4    52       0    0   19     1    0     1     3"
      ]
     },
     "metadata": {},
     "output_type": "display_data"
    },
    {
     "data": {
      "text/plain": [
       "(432, 8)"
      ]
     },
     "metadata": {},
     "output_type": "display_data"
    }
   ],
   "source": [
    "# Our dataset\n",
    "prison = pd.read_csv(\"data/prison-recidivism.csv\")\n",
    "\n",
    "# We will exclude race\n",
    "prison = prison.drop(columns=[\"index\", \"race\"])\n",
    "display(prison.head())\n",
    "display(prison.shape)"
   ]
  },
  {
   "cell_type": "code",
   "execution_count": 45,
   "id": "emerging-champagne",
   "metadata": {},
   "outputs": [],
   "source": [
    "# Instantiate the fitters\n",
    "wbf = WeibullFitter()\n",
    "exf = ExponentialFitter()\n",
    "lnf = LogNormalFitter()"
   ]
  },
  {
   "cell_type": "code",
   "execution_count": 46,
   "id": "collected-method",
   "metadata": {},
   "outputs": [
    {
     "data": {
      "text/plain": [
       "<lifelines.LogNormalFitter:\"LogNormal_estimate\", fitted with 432 total observations, 318 right-censored observations>"
      ]
     },
     "execution_count": 46,
     "metadata": {},
     "output_type": "execute_result"
    }
   ],
   "source": [
    "# Fit on the data: This is a right-censored dataset\n",
    "wbf.fit(\n",
    "    durations=prison[\"week\"],        # Duration\n",
    "    event_observed=prison[\"arrest\"]  # Censorship\n",
    ")\n",
    "exf.fit(\n",
    "    durations=prison[\"week\"],        # Duration\n",
    "    event_observed=prison[\"arrest\"]  # Censorship\n",
    ")\n",
    "lnf.fit(\n",
    "    durations=prison[\"week\"],        # Duration\n",
    "    event_observed=prison[\"arrest\"]  # Censorship\n",
    ")"
   ]
  },
  {
   "cell_type": "code",
   "execution_count": 47,
   "id": "catholic-nursing",
   "metadata": {},
   "outputs": [
    {
     "name": "stdout",
     "output_type": "stream",
     "text": [
      "Weibull AIC: 1397.248793895584\n",
      "Exponential AIC: 1405.9540519867492\n",
      "Log Normal AIC: 1399.8208496762338\n"
     ]
    }
   ],
   "source": [
    "# Print the AIC values\n",
    "print(\"Weibull AIC:\", wbf.AIC_)\n",
    "print(\"Exponential AIC:\", exf.AIC_)\n",
    "print(\"Log Normal AIC:\", lnf.AIC_)"
   ]
  },
  {
   "cell_type": "markdown",
   "id": "shaped-charter",
   "metadata": {},
   "source": [
    "Weibull has the lowest AIC value with 1397"
   ]
  },
  {
   "cell_type": "markdown",
   "id": "victorian-stroke",
   "metadata": {},
   "source": [
    "### Using `find_best_parametric_model()`"
   ]
  },
  {
   "cell_type": "markdown",
   "id": "official-language",
   "metadata": {},
   "source": [
    "This is a convenient function that allows us to find the best fit model\n",
    "\n",
    "- Built-in lifelines function to automate AIC comparisons between parametric models\n",
    "- Iterates through all available models in the lifelines library\n",
    "- We can specify `AIC` as the scoring method\n",
    "  - The function will return the model with the lowest AIC and the AIC value\n",
    "  - Need arguments: `event_times`: durations, `event_observed`: censorship, `scoring_method`: scoring method"
   ]
  },
  {
   "cell_type": "code",
   "execution_count": 48,
   "id": "hired-workstation",
   "metadata": {},
   "outputs": [],
   "source": [
    "# Import the libraries\n",
    "from lifelines.utils import find_best_parametric_model"
   ]
  },
  {
   "cell_type": "code",
   "execution_count": 49,
   "id": "geographic-march",
   "metadata": {},
   "outputs": [
    {
     "name": "stdout",
     "output_type": "stream",
     "text": [
      "<lifelines.WeibullFitter:\"Weibull_estimate\", fitted with 432 total observations, 318 right-censored observations>\n",
      "1397.248793895584\n"
     ]
    }
   ],
   "source": [
    "# Find the best model for our dataset: This might take a while to run\n",
    "best_model, best_aic_ = find_best_parametric_model(\n",
    "    event_times=prison[\"week\"],\n",
    "    event_observed=prison[\"arrest\"],\n",
    "    scoring_method=\"AIC\"\n",
    ")\n",
    "\n",
    "print(best_model)\n",
    "print(best_aic_)"
   ]
  },
  {
   "cell_type": "markdown",
   "id": "historic-opera",
   "metadata": {},
   "source": [
    "### Using the QQ Plot"
   ]
  },
  {
   "cell_type": "markdown",
   "id": "contained-pocket",
   "metadata": {},
   "source": [
    "This is another method to gauge goodness of fit\n",
    "\n",
    "- But more subjective, and sometimes, the differences are subtle\n",
    "- Compares 2 probability distributions by plotting their quantiles against each other\n",
    "- If the distributions are similar, the points in the QQ plot will approximately lie on the line `y = x`\n",
    "\n",
    "<img src=\"images/qq-plot.png\" width=60%>"
   ]
  },
  {
   "cell_type": "markdown",
   "id": "turkish-curve",
   "metadata": {},
   "source": [
    "#### Using the QQ Plot for Model Selection"
   ]
  },
  {
   "cell_type": "code",
   "execution_count": 50,
   "id": "anticipated-level",
   "metadata": {},
   "outputs": [],
   "source": [
    "# Import the libraries\n",
    "from lifelines import WeibullFitter, ExponentialFitter, LogNormalFitter, LogLogisticFitter\n",
    "from lifelines.plotting import qq_plot\n",
    "import pandas as pd\n",
    "import numpy as np\n",
    "import matplotlib.pyplot as plt"
   ]
  },
  {
   "cell_type": "code",
   "execution_count": 51,
   "id": "fleet-relation",
   "metadata": {},
   "outputs": [
    {
     "data": {
      "text/html": [
       "<div>\n",
       "<style scoped>\n",
       "    .dataframe tbody tr th:only-of-type {\n",
       "        vertical-align: middle;\n",
       "    }\n",
       "\n",
       "    .dataframe tbody tr th {\n",
       "        vertical-align: top;\n",
       "    }\n",
       "\n",
       "    .dataframe thead th {\n",
       "        text-align: right;\n",
       "    }\n",
       "</style>\n",
       "<table border=\"1\" class=\"dataframe\">\n",
       "  <thead>\n",
       "    <tr style=\"text-align: right;\">\n",
       "      <th></th>\n",
       "      <th>week</th>\n",
       "      <th>arrest</th>\n",
       "      <th>fin</th>\n",
       "      <th>age</th>\n",
       "      <th>wexp</th>\n",
       "      <th>mar</th>\n",
       "      <th>paro</th>\n",
       "      <th>prio</th>\n",
       "    </tr>\n",
       "  </thead>\n",
       "  <tbody>\n",
       "    <tr>\n",
       "      <th>0</th>\n",
       "      <td>20</td>\n",
       "      <td>1</td>\n",
       "      <td>0</td>\n",
       "      <td>27</td>\n",
       "      <td>0</td>\n",
       "      <td>0</td>\n",
       "      <td>1</td>\n",
       "      <td>3</td>\n",
       "    </tr>\n",
       "    <tr>\n",
       "      <th>1</th>\n",
       "      <td>17</td>\n",
       "      <td>1</td>\n",
       "      <td>0</td>\n",
       "      <td>18</td>\n",
       "      <td>0</td>\n",
       "      <td>0</td>\n",
       "      <td>1</td>\n",
       "      <td>8</td>\n",
       "    </tr>\n",
       "    <tr>\n",
       "      <th>2</th>\n",
       "      <td>25</td>\n",
       "      <td>1</td>\n",
       "      <td>0</td>\n",
       "      <td>19</td>\n",
       "      <td>1</td>\n",
       "      <td>0</td>\n",
       "      <td>1</td>\n",
       "      <td>13</td>\n",
       "    </tr>\n",
       "    <tr>\n",
       "      <th>3</th>\n",
       "      <td>52</td>\n",
       "      <td>0</td>\n",
       "      <td>1</td>\n",
       "      <td>23</td>\n",
       "      <td>1</td>\n",
       "      <td>1</td>\n",
       "      <td>1</td>\n",
       "      <td>1</td>\n",
       "    </tr>\n",
       "    <tr>\n",
       "      <th>4</th>\n",
       "      <td>52</td>\n",
       "      <td>0</td>\n",
       "      <td>0</td>\n",
       "      <td>19</td>\n",
       "      <td>1</td>\n",
       "      <td>0</td>\n",
       "      <td>1</td>\n",
       "      <td>3</td>\n",
       "    </tr>\n",
       "  </tbody>\n",
       "</table>\n",
       "</div>"
      ],
      "text/plain": [
       "   week  arrest  fin  age  wexp  mar  paro  prio\n",
       "0    20       1    0   27     0    0     1     3\n",
       "1    17       1    0   18     0    0     1     8\n",
       "2    25       1    0   19     1    0     1    13\n",
       "3    52       0    1   23     1    1     1     1\n",
       "4    52       0    0   19     1    0     1     3"
      ]
     },
     "metadata": {},
     "output_type": "display_data"
    },
    {
     "data": {
      "text/plain": [
       "(432, 8)"
      ]
     },
     "metadata": {},
     "output_type": "display_data"
    }
   ],
   "source": [
    "# Our dataset\n",
    "prison = pd.read_csv(\"data/prison-recidivism.csv\")\n",
    "\n",
    "# We will exclude race\n",
    "prison = prison.drop(columns=[\"index\", \"race\"])\n",
    "display(prison.head())\n",
    "display(prison.shape)"
   ]
  },
  {
   "cell_type": "code",
   "execution_count": 52,
   "id": "national-elizabeth",
   "metadata": {},
   "outputs": [],
   "source": [
    "# Instantiate the models\n",
    "wbf = WeibullFitter()\n",
    "exf = ExponentialFitter()\n",
    "lnf = LogNormalFitter()\n",
    "llf = LogLogisticFitter()"
   ]
  },
  {
   "cell_type": "code",
   "execution_count": 53,
   "id": "broadband-enclosure",
   "metadata": {},
   "outputs": [],
   "source": [
    "# Instantiate, fit, and Plot each model using the `qq_plot` function\n",
    "for model in [wbf, exf, lnf, llf]:\n",
    "    model.fit(\n",
    "        durations=prison[\"week\"],        # Duration\n",
    "        event_observed=prison[\"arrest\"]  # Censorship\n",
    "    )"
   ]
  },
  {
   "cell_type": "code",
   "execution_count": 54,
   "id": "offshore-consistency",
   "metadata": {},
   "outputs": [
    {
     "data": {
      "image/png": "[encoded data removed]",
      "text/plain": [
       "<Figure size 432x288 with 1 Axes>"
      ]
     },
     "metadata": {
      "needs_background": "light"
     },
     "output_type": "display_data"
    }
   ],
   "source": [
    "# The QQ PLot closest to y = x is preferred\n",
    "qq_plot(wbf);"
   ]
  },
  {
   "cell_type": "code",
   "execution_count": 55,
   "id": "welcome-genome",
   "metadata": {},
   "outputs": [
    {
     "data": {
      "image/png": "[encoded data removed]",
      "text/plain": [
       "<Figure size 432x288 with 1 Axes>"
      ]
     },
     "metadata": {
      "needs_background": "light"
     },
     "output_type": "display_data"
    }
   ],
   "source": [
    "# The QQ PLot closest to y = x is preferred\n",
    "qq_plot(exf);"
   ]
  },
  {
   "cell_type": "code",
   "execution_count": 56,
   "id": "comprehensive-workstation",
   "metadata": {},
   "outputs": [
    {
     "data": {
      "image/png": "[encoded data removed]",
      "text/plain": [
       "<Figure size 432x288 with 1 Axes>"
      ]
     },
     "metadata": {
      "needs_background": "light"
     },
     "output_type": "display_data"
    }
   ],
   "source": [
    "# The QQ PLot closest to y = x is preferred\n",
    "qq_plot(lnf);"
   ]
  },
  {
   "cell_type": "code",
   "execution_count": 57,
   "id": "invalid-underwear",
   "metadata": {},
   "outputs": [
    {
     "data": {
      "image/png": "[encoded data removed]",
      "text/plain": [
       "<Figure size 432x288 with 1 Axes>"
      ]
     },
     "metadata": {
      "needs_background": "light"
     },
     "output_type": "display_data"
    }
   ],
   "source": [
    "# The QQ PLot closest to y = x is preferred\n",
    "qq_plot(llf);"
   ]
  },
  {
   "cell_type": "code",
   "execution_count": null,
   "id": "armed-aberdeen",
   "metadata": {},
   "outputs": [],
   "source": []
  }
 ],
 "metadata": {
  "kernelspec": {
   "display_name": "Python 3",
   "language": "python",
   "name": "python3"
  },
  "language_info": {
   "codemirror_mode": {
    "name": "ipython",
    "version": 3
   },
   "file_extension": ".py",
   "mimetype": "text/x-python",
   "name": "python",
   "nbconvert_exporter": "python",
   "pygments_lexer": "ipython3",
   "version": "3.8.8"
  },
  "toc": {
   "base_numbering": 1,
   "nav_menu": {},
   "number_sections": true,
   "sideBar": true,
   "skip_h1_title": true,
   "title_cell": "Table of Contents",
   "title_sidebar": "Contents",
   "toc_cell": false,
   "toc_position": {
    "height": "calc(100% - 180px)",
    "left": "10px",
    "top": "150px",
    "width": "198px"
   },
   "toc_section_display": true,
   "toc_window_display": true
  },
  "varInspector": {
   "cols": {
    "lenName": 16,
    "lenType": 16,
    "lenVar": 40
   },
   "kernels_config": {
    "python": {
     "delete_cmd_postfix": "",
     "delete_cmd_prefix": "del ",
     "library": "var_list.py",
     "varRefreshCmd": "print(var_dic_list())"
    },
    "r": {
     "delete_cmd_postfix": ") ",
     "delete_cmd_prefix": "rm(",
     "library": "var_list.r",
     "varRefreshCmd": "cat(var_dic_list()) "
    }
   },
   "types_to_exclude": [
    "module",
    "function",
    "builtin_function_or_method",
    "instance",
    "_Feature"
   ],
   "window_display": false
  }
 },
 "nbformat": 4,
 "nbformat_minor": 5
}
