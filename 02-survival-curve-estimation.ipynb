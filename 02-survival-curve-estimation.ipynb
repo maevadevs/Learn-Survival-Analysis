{
 "cells": [
  {
   "cell_type": "markdown",
   "id": "brave-egypt",
   "metadata": {},
   "source": [
    "# Survival Curve Estimation"
   ]
  },
  {
   "cell_type": "markdown",
   "id": "important-lender",
   "metadata": {},
   "source": [
    "- How the **Kaplan-Meier** model works and how to fit, visualize, and interpret it\n",
    "- Apply this model to explore how categorical variables affect survival\n",
    "- Learn how to supplement your analysis using hypothesis testing methods like the log-rank test"
   ]
  },
  {
   "cell_type": "markdown",
   "id": "threatened-ceremony",
   "metadata": {},
   "source": [
    "## Kaplan-Meier Estimator"
   ]
  },
  {
   "cell_type": "markdown",
   "id": "derived-saturday",
   "metadata": {},
   "source": [
    "The most widely used method for estimating survival functions\n",
    "\n",
    "- Also known as the **Product-Limit Estimator**/**K-M Estimator**\n",
    "- Computes survival probabilities and estimates survival functions\n",
    "- It is a **Non-parametric method** \n",
    "  - Construct survival curve solely from collected data\n",
    "  - Does not assume the underlying distribution has specific parameter"
   ]
  },
  {
   "cell_type": "markdown",
   "id": "tested-clone",
   "metadata": {},
   "source": [
    "### The Math Intuition"
   ]
  },
  {
   "cell_type": "markdown",
   "id": "decent-retrieval",
   "metadata": {},
   "source": [
    "- The **K-M Estimator** is built on the rule of probability\n",
    "- Given a duration time $t_i$, we can measure the number of events $d_i$ that happened at $t_i$ and the number of individuals $n_i$ that survived up to $t_i$"
   ]
  },
  {
   "cell_type": "markdown",
   "id": "surgical-making",
   "metadata": {},
   "source": [
    "$$S(t)=P_{i:t_i\\leq{t}}(1-\\frac{d_i}{n_i})$$"
   ]
  },
  {
   "cell_type": "markdown",
   "id": "adjacent-treat",
   "metadata": {},
   "source": [
    "$\\frac{d_i}{n_i}$ is the percent of chance of an event happening at $t_i$"
   ]
  },
  {
   "cell_type": "markdown",
   "id": "north-wyoming",
   "metadata": {},
   "source": [
    "$1 - \\frac{d_i}{n_i}$ is the percent of chance of survival at $t_i$"
   ]
  },
  {
   "cell_type": "markdown",
   "id": "indirect-roommate",
   "metadata": {},
   "source": [
    "### Why is it called the Product-Limit Estimator?"
   ]
  },
  {
   "cell_type": "markdown",
   "id": "municipal-rouge",
   "metadata": {},
   "source": [
    "Suppose we have events at 3 times: 1, 2, 3"
   ]
  },
  {
   "cell_type": "markdown",
   "id": "blessed-mitchell",
   "metadata": {},
   "source": [
    "The survival rate at $t=2$ is:"
   ]
  },
  {
   "cell_type": "markdown",
   "id": "vocational-jenny",
   "metadata": {},
   "source": [
    "$$S(t=2)=(1-\\frac{d_1}{n_1}) \\cdot (1-\\frac{d_2}{n_2})$$"
   ]
  },
  {
   "cell_type": "markdown",
   "id": "personal-porcelain",
   "metadata": {},
   "source": [
    "The survival rate at $t=3$ is:\n",
    "\n",
    "$$S(t=3) = S(t=2) \\cdot (1-\\frac{d_3}{n_3})$$"
   ]
  },
  {
   "cell_type": "markdown",
   "id": "australian-mediterranean",
   "metadata": {},
   "source": [
    "This intuitive property is behind the name **Product-Limit Estimator**\n",
    "\n",
    "- *The Survival Rate at time $t$ is equal to the product of the percentage of chance of surviving at time $t$ and each prior time*"
   ]
  },
  {
   "cell_type": "markdown",
   "id": "compound-despite",
   "metadata": {},
   "source": [
    "### Assumptions to Keep in Mind"
   ]
  },
  {
   "cell_type": "markdown",
   "id": "promotional-extent",
   "metadata": {},
   "source": [
    "When using K-M Estimator, the data **must satisfy the following conditions**:\n",
    "\n",
    "- The events are **Unambiguously defined** (happens clearly at a specified time)\n",
    "- **Survival probabilities are comparable in all subjects** (do not depend on when they entered the study or not)\n",
    "- **Censorship is non-informative** (censored observations have the same survival prospects as observations that continue)"
   ]
  },
  {
   "cell_type": "markdown",
   "id": "manufactured-hudson",
   "metadata": {},
   "source": [
    "### Kaplan-Meier Estimator With `lifelines`"
   ]
  },
  {
   "cell_type": "code",
   "execution_count": 1,
   "id": "matched-assignment",
   "metadata": {},
   "outputs": [],
   "source": [
    "# Import the KaplanMeierFitter\n",
    "from lifelines import KaplanMeierFitter\n",
    "import pandas as pd"
   ]
  },
  {
   "cell_type": "code",
   "execution_count": 2,
   "id": "advised-advertising",
   "metadata": {},
   "outputs": [
    {
     "data": {
      "text/html": [
       "<div>\n",
       "<style scoped>\n",
       "    .dataframe tbody tr th:only-of-type {\n",
       "        vertical-align: middle;\n",
       "    }\n",
       "\n",
       "    .dataframe tbody tr th {\n",
       "        vertical-align: top;\n",
       "    }\n",
       "\n",
       "    .dataframe thead th {\n",
       "        text-align: right;\n",
       "    }\n",
       "</style>\n",
       "<table border=\"1\" class=\"dataframe\">\n",
       "  <thead>\n",
       "    <tr style=\"text-align: right;\">\n",
       "      <th></th>\n",
       "      <th>ctryname</th>\n",
       "      <th>cowcode2</th>\n",
       "      <th>politycode</th>\n",
       "      <th>un_region_name</th>\n",
       "      <th>un_continent_name</th>\n",
       "      <th>ehead</th>\n",
       "      <th>leaderspellreg</th>\n",
       "      <th>democracy</th>\n",
       "      <th>regime</th>\n",
       "      <th>start_year</th>\n",
       "      <th>duration</th>\n",
       "      <th>observed</th>\n",
       "    </tr>\n",
       "  </thead>\n",
       "  <tbody>\n",
       "    <tr>\n",
       "      <th>0</th>\n",
       "      <td>Afghanistan</td>\n",
       "      <td>700</td>\n",
       "      <td>700.0</td>\n",
       "      <td>Southern Asia</td>\n",
       "      <td>Asia</td>\n",
       "      <td>Mohammad Zahir Shah</td>\n",
       "      <td>Mohammad Zahir Shah.Afghanistan.1946.1952.Mona...</td>\n",
       "      <td>Non-democracy</td>\n",
       "      <td>Monarchy</td>\n",
       "      <td>1946</td>\n",
       "      <td>7</td>\n",
       "      <td>1</td>\n",
       "    </tr>\n",
       "    <tr>\n",
       "      <th>1</th>\n",
       "      <td>Afghanistan</td>\n",
       "      <td>700</td>\n",
       "      <td>700.0</td>\n",
       "      <td>Southern Asia</td>\n",
       "      <td>Asia</td>\n",
       "      <td>Sardar Mohammad Daoud</td>\n",
       "      <td>Sardar Mohammad Daoud.Afghanistan.1953.1962.Ci...</td>\n",
       "      <td>Non-democracy</td>\n",
       "      <td>Civilian Dict</td>\n",
       "      <td>1953</td>\n",
       "      <td>10</td>\n",
       "      <td>1</td>\n",
       "    </tr>\n",
       "    <tr>\n",
       "      <th>2</th>\n",
       "      <td>Afghanistan</td>\n",
       "      <td>700</td>\n",
       "      <td>700.0</td>\n",
       "      <td>Southern Asia</td>\n",
       "      <td>Asia</td>\n",
       "      <td>Mohammad Zahir Shah</td>\n",
       "      <td>Mohammad Zahir Shah.Afghanistan.1963.1972.Mona...</td>\n",
       "      <td>Non-democracy</td>\n",
       "      <td>Monarchy</td>\n",
       "      <td>1963</td>\n",
       "      <td>10</td>\n",
       "      <td>1</td>\n",
       "    </tr>\n",
       "    <tr>\n",
       "      <th>3</th>\n",
       "      <td>Afghanistan</td>\n",
       "      <td>700</td>\n",
       "      <td>700.0</td>\n",
       "      <td>Southern Asia</td>\n",
       "      <td>Asia</td>\n",
       "      <td>Sardar Mohammad Daoud</td>\n",
       "      <td>Sardar Mohammad Daoud.Afghanistan.1973.1977.Ci...</td>\n",
       "      <td>Non-democracy</td>\n",
       "      <td>Civilian Dict</td>\n",
       "      <td>1973</td>\n",
       "      <td>5</td>\n",
       "      <td>0</td>\n",
       "    </tr>\n",
       "    <tr>\n",
       "      <th>4</th>\n",
       "      <td>Afghanistan</td>\n",
       "      <td>700</td>\n",
       "      <td>700.0</td>\n",
       "      <td>Southern Asia</td>\n",
       "      <td>Asia</td>\n",
       "      <td>Nur Mohammad Taraki</td>\n",
       "      <td>Nur Mohammad Taraki.Afghanistan.1978.1978.Civi...</td>\n",
       "      <td>Non-democracy</td>\n",
       "      <td>Civilian Dict</td>\n",
       "      <td>1978</td>\n",
       "      <td>1</td>\n",
       "      <td>0</td>\n",
       "    </tr>\n",
       "  </tbody>\n",
       "</table>\n",
       "</div>"
      ],
      "text/plain": [
       "      ctryname  cowcode2  politycode un_region_name un_continent_name  \\\n",
       "0  Afghanistan       700       700.0  Southern Asia              Asia   \n",
       "1  Afghanistan       700       700.0  Southern Asia              Asia   \n",
       "2  Afghanistan       700       700.0  Southern Asia              Asia   \n",
       "3  Afghanistan       700       700.0  Southern Asia              Asia   \n",
       "4  Afghanistan       700       700.0  Southern Asia              Asia   \n",
       "\n",
       "                   ehead                                     leaderspellreg  \\\n",
       "0    Mohammad Zahir Shah  Mohammad Zahir Shah.Afghanistan.1946.1952.Mona...   \n",
       "1  Sardar Mohammad Daoud  Sardar Mohammad Daoud.Afghanistan.1953.1962.Ci...   \n",
       "2    Mohammad Zahir Shah  Mohammad Zahir Shah.Afghanistan.1963.1972.Mona...   \n",
       "3  Sardar Mohammad Daoud  Sardar Mohammad Daoud.Afghanistan.1973.1977.Ci...   \n",
       "4    Nur Mohammad Taraki  Nur Mohammad Taraki.Afghanistan.1978.1978.Civi...   \n",
       "\n",
       "       democracy         regime  start_year  duration  observed  \n",
       "0  Non-democracy       Monarchy        1946         7         1  \n",
       "1  Non-democracy  Civilian Dict        1953        10         1  \n",
       "2  Non-democracy       Monarchy        1963        10         1  \n",
       "3  Non-democracy  Civilian Dict        1973         5         0  \n",
       "4  Non-democracy  Civilian Dict        1978         1         0  "
      ]
     },
     "metadata": {},
     "output_type": "display_data"
    },
    {
     "data": {
      "text/plain": [
       "(1808, 12)"
      ]
     },
     "metadata": {},
     "output_type": "display_data"
    }
   ],
   "source": [
    "# Our dataset\n",
    "regimes = pd.read_csv(\"data/regimes.csv\")\n",
    "display(regimes.head())\n",
    "display(regimes.shape)"
   ]
  },
  {
   "cell_type": "code",
   "execution_count": 3,
   "id": "excellent-driver",
   "metadata": {},
   "outputs": [],
   "source": [
    "# Instantiate a KaplanMeierFitter class\n",
    "kmf = KaplanMeierFitter()"
   ]
  },
  {
   "cell_type": "code",
   "execution_count": 4,
   "id": "rental-confidentiality",
   "metadata": {},
   "outputs": [
    {
     "data": {
      "text/plain": [
       "<lifelines.KaplanMeierFitter:\"KM_estimate\", fitted with 1808 total observations, 340 right-censored observations>"
      ]
     },
     "execution_count": 4,
     "metadata": {},
     "output_type": "execute_result"
    }
   ],
   "source": [
    "# Fit on the data\n",
    "kmf.fit(\n",
    "    durations=regimes[\"duration\"],      # Duration\n",
    "    event_observed=regimes[\"observed\"]  # Censorship\n",
    ")"
   ]
  },
  {
   "cell_type": "markdown",
   "id": "prospective-vinyl",
   "metadata": {},
   "source": [
    "**The fitted `kmf` model contains valuable information**"
   ]
  },
  {
   "cell_type": "code",
   "execution_count": 5,
   "id": "aggregate-alliance",
   "metadata": {},
   "outputs": [
    {
     "name": "stdout",
     "output_type": "stream",
     "text": [
      "4.0\n"
     ]
    }
   ],
   "source": [
    "# What is the median survival time? (Median lifetime of a regime)\n",
    "print(kmf.median_survival_time_)"
   ]
  },
  {
   "cell_type": "code",
   "execution_count": 6,
   "id": "incoming-grocery",
   "metadata": {},
   "outputs": [
    {
     "name": "stdout",
     "output_type": "stream",
     "text": [
      "          KM_estimate\n",
      "timeline             \n",
      "0.0          1.000000\n",
      "1.0          0.721792\n",
      "2.0          0.601973\n",
      "3.0          0.510929\n",
      "4.0          0.418835\n",
      "5.0          0.334008\n",
      "6.0          0.280902\n",
      "7.0          0.256825\n",
      "8.0          0.221975\n",
      "9.0          0.205147\n",
      "10.0         0.181350\n",
      "11.0         0.161200\n",
      "12.0         0.150332\n",
      "13.0         0.139197\n",
      "14.0         0.124896\n",
      "15.0         0.117845\n",
      "16.0         0.113521\n",
      "17.0         0.108010\n",
      "18.0         0.099792\n",
      "19.0         0.093632\n",
      "20.0         0.090994\n",
      "21.0         0.085479\n",
      "22.0         0.078473\n",
      "23.0         0.074113\n",
      "24.0         0.071088\n",
      "25.0         0.069543\n",
      "26.0         0.066231\n",
      "27.0         0.062745\n",
      "28.0         0.060900\n",
      "29.0         0.056971\n",
      "30.0         0.052751\n",
      "31.0         0.050353\n",
      "32.0         0.043160\n",
      "33.0         0.038364\n",
      "34.0         0.038364\n",
      "35.0         0.030143\n",
      "36.0         0.030143\n",
      "38.0         0.030143\n",
      "39.0         0.030143\n",
      "40.0         0.030143\n",
      "42.0         0.030143\n",
      "44.0         0.030143\n",
      "46.0         0.030143\n",
      "47.0         0.015072\n"
     ]
    }
   ],
   "source": [
    "# What is the probability of survival at each unit of time? (Probability that the regime will keep on living on per year)\n",
    "print(kmf.survival_function_)"
   ]
  },
  {
   "cell_type": "markdown",
   "id": "published-reservoir",
   "metadata": {},
   "source": [
    "We can predict a future survival probability using the model"
   ]
  },
  {
   "cell_type": "code",
   "execution_count": 7,
   "id": "norwegian-taste",
   "metadata": {},
   "outputs": [
    {
     "name": "stdout",
     "output_type": "stream",
     "text": [
      "0.015071681623194312\n"
     ]
    }
   ],
   "source": [
    "# What is the survival probability at a specific time? (Prediction of survival at a specific time)\n",
    "print(kmf.predict(100)) # What is the probability that a regime will be alive in 100 years"
   ]
  },
  {
   "cell_type": "markdown",
   "id": "changing-median",
   "metadata": {},
   "source": [
    "### Benefits and Limitations of K-M Estimator"
   ]
  },
  {
   "cell_type": "markdown",
   "id": "built-burden",
   "metadata": {},
   "source": [
    "Benefits | Limitations\n",
    ":--------|:-----------\n",
    "Intuitive interpretation of survival probabilities | Survival curve is usually not smooth\n",
    "Flexible to use on any time-to-event data | If 50%+ of the data is censored, `.median_survival_time_` cannot be calculated (`inf`)\n",
    "Usually the first model to attempt on time-to-event data | Not effective for analyzing the covariance of survival functions"
   ]
  },
  {
   "cell_type": "markdown",
   "id": "characteristic-sister",
   "metadata": {},
   "source": [
    "**Note: Do not remove Censored Data just so you can run K-M**\n",
    "\n",
    "- Removing censored data from survival analysis will lead to a biased survival function"
   ]
  },
  {
   "cell_type": "markdown",
   "id": "reported-disposition",
   "metadata": {},
   "source": [
    "### Application on `echocardiogram` Data"
   ]
  },
  {
   "cell_type": "markdown",
   "id": "wrong-financing",
   "metadata": {},
   "source": [
    "- **Does pericardial effusion, fluid build-up around the heart, affects heart attack patients' survival outcomes?**\n",
    "- **Compare survival distributions from patients with and without pericardial effusion**"
   ]
  },
  {
   "cell_type": "code",
   "execution_count": 8,
   "id": "fancy-notion",
   "metadata": {},
   "outputs": [
    {
     "data": {
      "text/html": [
       "<div>\n",
       "<style scoped>\n",
       "    .dataframe tbody tr th:only-of-type {\n",
       "        vertical-align: middle;\n",
       "    }\n",
       "\n",
       "    .dataframe tbody tr th {\n",
       "        vertical-align: top;\n",
       "    }\n",
       "\n",
       "    .dataframe thead th {\n",
       "        text-align: right;\n",
       "    }\n",
       "</style>\n",
       "<table border=\"1\" class=\"dataframe\">\n",
       "  <thead>\n",
       "    <tr style=\"text-align: right;\">\n",
       "      <th></th>\n",
       "      <th>survival</th>\n",
       "      <th>alive</th>\n",
       "      <th>age</th>\n",
       "      <th>pericardialeffusion</th>\n",
       "      <th>fractionalshortening</th>\n",
       "      <th>epss</th>\n",
       "      <th>lvdd</th>\n",
       "      <th>wallmotion-score</th>\n",
       "      <th>wallmotion-index</th>\n",
       "      <th>mult</th>\n",
       "      <th>name</th>\n",
       "      <th>group</th>\n",
       "      <th>aliveat1</th>\n",
       "    </tr>\n",
       "  </thead>\n",
       "  <tbody>\n",
       "    <tr>\n",
       "      <th>0</th>\n",
       "      <td>11.0</td>\n",
       "      <td>0.0</td>\n",
       "      <td>71.0</td>\n",
       "      <td>0.0</td>\n",
       "      <td>0.260</td>\n",
       "      <td>9.000</td>\n",
       "      <td>4.600</td>\n",
       "      <td>14.0</td>\n",
       "      <td>1.00</td>\n",
       "      <td>1.000</td>\n",
       "      <td>name</td>\n",
       "      <td>1</td>\n",
       "      <td>0.0</td>\n",
       "    </tr>\n",
       "    <tr>\n",
       "      <th>1</th>\n",
       "      <td>19.0</td>\n",
       "      <td>0.0</td>\n",
       "      <td>72.0</td>\n",
       "      <td>0.0</td>\n",
       "      <td>0.380</td>\n",
       "      <td>6.000</td>\n",
       "      <td>4.100</td>\n",
       "      <td>14.0</td>\n",
       "      <td>1.70</td>\n",
       "      <td>0.588</td>\n",
       "      <td>name</td>\n",
       "      <td>1</td>\n",
       "      <td>0.0</td>\n",
       "    </tr>\n",
       "    <tr>\n",
       "      <th>2</th>\n",
       "      <td>16.0</td>\n",
       "      <td>0.0</td>\n",
       "      <td>55.0</td>\n",
       "      <td>0.0</td>\n",
       "      <td>0.260</td>\n",
       "      <td>4.000</td>\n",
       "      <td>3.420</td>\n",
       "      <td>14.0</td>\n",
       "      <td>1.00</td>\n",
       "      <td>1.000</td>\n",
       "      <td>name</td>\n",
       "      <td>1</td>\n",
       "      <td>0.0</td>\n",
       "    </tr>\n",
       "    <tr>\n",
       "      <th>3</th>\n",
       "      <td>57.0</td>\n",
       "      <td>0.0</td>\n",
       "      <td>60.0</td>\n",
       "      <td>0.0</td>\n",
       "      <td>0.253</td>\n",
       "      <td>12.062</td>\n",
       "      <td>4.603</td>\n",
       "      <td>16.0</td>\n",
       "      <td>1.45</td>\n",
       "      <td>0.788</td>\n",
       "      <td>name</td>\n",
       "      <td>1</td>\n",
       "      <td>0.0</td>\n",
       "    </tr>\n",
       "    <tr>\n",
       "      <th>4</th>\n",
       "      <td>19.0</td>\n",
       "      <td>1.0</td>\n",
       "      <td>57.0</td>\n",
       "      <td>0.0</td>\n",
       "      <td>0.160</td>\n",
       "      <td>22.000</td>\n",
       "      <td>5.750</td>\n",
       "      <td>18.0</td>\n",
       "      <td>2.25</td>\n",
       "      <td>0.571</td>\n",
       "      <td>name</td>\n",
       "      <td>1</td>\n",
       "      <td>0.0</td>\n",
       "    </tr>\n",
       "  </tbody>\n",
       "</table>\n",
       "</div>"
      ],
      "text/plain": [
       "   survival  alive   age  pericardialeffusion  fractionalshortening    epss  \\\n",
       "0      11.0    0.0  71.0                  0.0                 0.260   9.000   \n",
       "1      19.0    0.0  72.0                  0.0                 0.380   6.000   \n",
       "2      16.0    0.0  55.0                  0.0                 0.260   4.000   \n",
       "3      57.0    0.0  60.0                  0.0                 0.253  12.062   \n",
       "4      19.0    1.0  57.0                  0.0                 0.160  22.000   \n",
       "\n",
       "    lvdd  wallmotion-score  wallmotion-index   mult  name group  aliveat1  \n",
       "0  4.600              14.0              1.00  1.000  name     1       0.0  \n",
       "1  4.100              14.0              1.70  0.588  name     1       0.0  \n",
       "2  3.420              14.0              1.00  1.000  name     1       0.0  \n",
       "3  4.603              16.0              1.45  0.788  name     1       0.0  \n",
       "4  5.750              18.0              2.25  0.571  name     1       0.0  "
      ]
     },
     "metadata": {},
     "output_type": "display_data"
    },
    {
     "data": {
      "text/plain": [
       "(133, 13)"
      ]
     },
     "metadata": {},
     "output_type": "display_data"
    }
   ],
   "source": [
    "# Our dataset\n",
    "echocardiogram = pd.read_csv(\"data/echocardiogram.csv\")\n",
    "display(echocardiogram.head())\n",
    "display(echocardiogram.shape)"
   ]
  },
  {
   "cell_type": "code",
   "execution_count": 9,
   "id": "failing-alaska",
   "metadata": {},
   "outputs": [
    {
     "data": {
      "text/html": [
       "<div>\n",
       "<style scoped>\n",
       "    .dataframe tbody tr th:only-of-type {\n",
       "        vertical-align: middle;\n",
       "    }\n",
       "\n",
       "    .dataframe tbody tr th {\n",
       "        vertical-align: top;\n",
       "    }\n",
       "\n",
       "    .dataframe thead th {\n",
       "        text-align: right;\n",
       "    }\n",
       "</style>\n",
       "<table border=\"1\" class=\"dataframe\">\n",
       "  <thead>\n",
       "    <tr style=\"text-align: right;\">\n",
       "      <th></th>\n",
       "      <th>survival</th>\n",
       "      <th>alive</th>\n",
       "      <th>age</th>\n",
       "      <th>pericardialeffusion</th>\n",
       "      <th>name</th>\n",
       "      <th>observed</th>\n",
       "    </tr>\n",
       "  </thead>\n",
       "  <tbody>\n",
       "    <tr>\n",
       "      <th>0</th>\n",
       "      <td>11.0</td>\n",
       "      <td>0.0</td>\n",
       "      <td>71.0</td>\n",
       "      <td>0.0</td>\n",
       "      <td>name</td>\n",
       "      <td>1</td>\n",
       "    </tr>\n",
       "    <tr>\n",
       "      <th>1</th>\n",
       "      <td>19.0</td>\n",
       "      <td>0.0</td>\n",
       "      <td>72.0</td>\n",
       "      <td>0.0</td>\n",
       "      <td>name</td>\n",
       "      <td>1</td>\n",
       "    </tr>\n",
       "    <tr>\n",
       "      <th>2</th>\n",
       "      <td>16.0</td>\n",
       "      <td>0.0</td>\n",
       "      <td>55.0</td>\n",
       "      <td>0.0</td>\n",
       "      <td>name</td>\n",
       "      <td>1</td>\n",
       "    </tr>\n",
       "    <tr>\n",
       "      <th>3</th>\n",
       "      <td>57.0</td>\n",
       "      <td>0.0</td>\n",
       "      <td>60.0</td>\n",
       "      <td>0.0</td>\n",
       "      <td>name</td>\n",
       "      <td>1</td>\n",
       "    </tr>\n",
       "    <tr>\n",
       "      <th>4</th>\n",
       "      <td>19.0</td>\n",
       "      <td>1.0</td>\n",
       "      <td>57.0</td>\n",
       "      <td>0.0</td>\n",
       "      <td>name</td>\n",
       "      <td>1</td>\n",
       "    </tr>\n",
       "  </tbody>\n",
       "</table>\n",
       "</div>"
      ],
      "text/plain": [
       "   survival  alive   age  pericardialeffusion  name  observed\n",
       "0      11.0    0.0  71.0                  0.0  name         1\n",
       "1      19.0    0.0  72.0                  0.0  name         1\n",
       "2      16.0    0.0  55.0                  0.0  name         1\n",
       "3      57.0    0.0  60.0                  0.0  name         1\n",
       "4      19.0    1.0  57.0                  0.0  name         1"
      ]
     },
     "metadata": {},
     "output_type": "display_data"
    },
    {
     "data": {
      "text/plain": [
       "(125, 6)"
      ]
     },
     "metadata": {},
     "output_type": "display_data"
    }
   ],
   "source": [
    "# Only keep the needed columns\n",
    "echocardiogram = echocardiogram[[\"survival\", \"alive\", \"age\", \"pericardialeffusion\", \"name\"]]\n",
    "echocardiogram[\"observed\"] = 1 # Assuming no censorship\n",
    "\n",
    "# Dropping the NA's for now\n",
    "echocardiogram = echocardiogram.dropna(axis=\"index\")\n",
    "\n",
    "display(echocardiogram.head())\n",
    "display(echocardiogram.shape)"
   ]
  },
  {
   "cell_type": "code",
   "execution_count": 10,
   "id": "weighted-boxing",
   "metadata": {},
   "outputs": [
    {
     "data": {
      "text/html": [
       "<div>\n",
       "<style scoped>\n",
       "    .dataframe tbody tr th:only-of-type {\n",
       "        vertical-align: middle;\n",
       "    }\n",
       "\n",
       "    .dataframe tbody tr th {\n",
       "        vertical-align: top;\n",
       "    }\n",
       "\n",
       "    .dataframe thead th {\n",
       "        text-align: right;\n",
       "    }\n",
       "</style>\n",
       "<table border=\"1\" class=\"dataframe\">\n",
       "  <thead>\n",
       "    <tr style=\"text-align: right;\">\n",
       "      <th></th>\n",
       "      <th>survival</th>\n",
       "      <th>alive</th>\n",
       "      <th>age</th>\n",
       "      <th>pericardialeffusion</th>\n",
       "      <th>name</th>\n",
       "      <th>observed</th>\n",
       "    </tr>\n",
       "  </thead>\n",
       "  <tbody>\n",
       "    <tr>\n",
       "      <th>11</th>\n",
       "      <td>52.0</td>\n",
       "      <td>0.0</td>\n",
       "      <td>62.000</td>\n",
       "      <td>1.0</td>\n",
       "      <td>name</td>\n",
       "      <td>1</td>\n",
       "    </tr>\n",
       "    <tr>\n",
       "      <th>15</th>\n",
       "      <td>24.0</td>\n",
       "      <td>0.0</td>\n",
       "      <td>55.000</td>\n",
       "      <td>1.0</td>\n",
       "      <td>name</td>\n",
       "      <td>1</td>\n",
       "    </tr>\n",
       "    <tr>\n",
       "      <th>16</th>\n",
       "      <td>0.5</td>\n",
       "      <td>1.0</td>\n",
       "      <td>69.000</td>\n",
       "      <td>1.0</td>\n",
       "      <td>name</td>\n",
       "      <td>1</td>\n",
       "    </tr>\n",
       "    <tr>\n",
       "      <th>17</th>\n",
       "      <td>0.5</td>\n",
       "      <td>1.0</td>\n",
       "      <td>62.529</td>\n",
       "      <td>1.0</td>\n",
       "      <td>name</td>\n",
       "      <td>1</td>\n",
       "    </tr>\n",
       "    <tr>\n",
       "      <th>19</th>\n",
       "      <td>1.0</td>\n",
       "      <td>1.0</td>\n",
       "      <td>66.000</td>\n",
       "      <td>1.0</td>\n",
       "      <td>name</td>\n",
       "      <td>1</td>\n",
       "    </tr>\n",
       "  </tbody>\n",
       "</table>\n",
       "</div>"
      ],
      "text/plain": [
       "    survival  alive     age  pericardialeffusion  name  observed\n",
       "11      52.0    0.0  62.000                  1.0  name         1\n",
       "15      24.0    0.0  55.000                  1.0  name         1\n",
       "16       0.5    1.0  69.000                  1.0  name         1\n",
       "17       0.5    1.0  62.529                  1.0  name         1\n",
       "19       1.0    1.0  66.000                  1.0  name         1"
      ]
     },
     "metadata": {},
     "output_type": "display_data"
    },
    {
     "data": {
      "text/plain": [
       "(24, 6)"
      ]
     },
     "metadata": {},
     "output_type": "display_data"
    }
   ],
   "source": [
    "# Patients with pericardial effusion\n",
    "has_pericardial_effusion = echocardiogram[echocardiogram[\"pericardialeffusion\"] == 1]\n",
    "display(has_pericardial_effusion.head())\n",
    "display(has_pericardial_effusion.shape)"
   ]
  },
  {
   "cell_type": "code",
   "execution_count": 11,
   "id": "ahead-compensation",
   "metadata": {},
   "outputs": [
    {
     "data": {
      "text/html": [
       "<div>\n",
       "<style scoped>\n",
       "    .dataframe tbody tr th:only-of-type {\n",
       "        vertical-align: middle;\n",
       "    }\n",
       "\n",
       "    .dataframe tbody tr th {\n",
       "        vertical-align: top;\n",
       "    }\n",
       "\n",
       "    .dataframe thead th {\n",
       "        text-align: right;\n",
       "    }\n",
       "</style>\n",
       "<table border=\"1\" class=\"dataframe\">\n",
       "  <thead>\n",
       "    <tr style=\"text-align: right;\">\n",
       "      <th></th>\n",
       "      <th>survival</th>\n",
       "      <th>alive</th>\n",
       "      <th>age</th>\n",
       "      <th>pericardialeffusion</th>\n",
       "      <th>name</th>\n",
       "      <th>observed</th>\n",
       "    </tr>\n",
       "  </thead>\n",
       "  <tbody>\n",
       "    <tr>\n",
       "      <th>0</th>\n",
       "      <td>11.0</td>\n",
       "      <td>0.0</td>\n",
       "      <td>71.0</td>\n",
       "      <td>0.0</td>\n",
       "      <td>name</td>\n",
       "      <td>1</td>\n",
       "    </tr>\n",
       "    <tr>\n",
       "      <th>1</th>\n",
       "      <td>19.0</td>\n",
       "      <td>0.0</td>\n",
       "      <td>72.0</td>\n",
       "      <td>0.0</td>\n",
       "      <td>name</td>\n",
       "      <td>1</td>\n",
       "    </tr>\n",
       "    <tr>\n",
       "      <th>2</th>\n",
       "      <td>16.0</td>\n",
       "      <td>0.0</td>\n",
       "      <td>55.0</td>\n",
       "      <td>0.0</td>\n",
       "      <td>name</td>\n",
       "      <td>1</td>\n",
       "    </tr>\n",
       "    <tr>\n",
       "      <th>3</th>\n",
       "      <td>57.0</td>\n",
       "      <td>0.0</td>\n",
       "      <td>60.0</td>\n",
       "      <td>0.0</td>\n",
       "      <td>name</td>\n",
       "      <td>1</td>\n",
       "    </tr>\n",
       "    <tr>\n",
       "      <th>4</th>\n",
       "      <td>19.0</td>\n",
       "      <td>1.0</td>\n",
       "      <td>57.0</td>\n",
       "      <td>0.0</td>\n",
       "      <td>name</td>\n",
       "      <td>1</td>\n",
       "    </tr>\n",
       "    <tr>\n",
       "      <th>...</th>\n",
       "      <td>...</td>\n",
       "      <td>...</td>\n",
       "      <td>...</td>\n",
       "      <td>...</td>\n",
       "      <td>...</td>\n",
       "      <td>...</td>\n",
       "    </tr>\n",
       "    <tr>\n",
       "      <th>128</th>\n",
       "      <td>7.5</td>\n",
       "      <td>1.0</td>\n",
       "      <td>64.0</td>\n",
       "      <td>0.0</td>\n",
       "      <td>name</td>\n",
       "      <td>1</td>\n",
       "    </tr>\n",
       "    <tr>\n",
       "      <th>129</th>\n",
       "      <td>41.0</td>\n",
       "      <td>0.0</td>\n",
       "      <td>64.0</td>\n",
       "      <td>0.0</td>\n",
       "      <td>name</td>\n",
       "      <td>1</td>\n",
       "    </tr>\n",
       "    <tr>\n",
       "      <th>130</th>\n",
       "      <td>36.0</td>\n",
       "      <td>0.0</td>\n",
       "      <td>69.0</td>\n",
       "      <td>0.0</td>\n",
       "      <td>name</td>\n",
       "      <td>1</td>\n",
       "    </tr>\n",
       "    <tr>\n",
       "      <th>131</th>\n",
       "      <td>22.0</td>\n",
       "      <td>0.0</td>\n",
       "      <td>57.0</td>\n",
       "      <td>0.0</td>\n",
       "      <td>name</td>\n",
       "      <td>1</td>\n",
       "    </tr>\n",
       "    <tr>\n",
       "      <th>132</th>\n",
       "      <td>20.0</td>\n",
       "      <td>0.0</td>\n",
       "      <td>62.0</td>\n",
       "      <td>0.0</td>\n",
       "      <td>name</td>\n",
       "      <td>1</td>\n",
       "    </tr>\n",
       "  </tbody>\n",
       "</table>\n",
       "<p>101 rows × 6 columns</p>\n",
       "</div>"
      ],
      "text/plain": [
       "     survival  alive   age  pericardialeffusion  name  observed\n",
       "0        11.0    0.0  71.0                  0.0  name         1\n",
       "1        19.0    0.0  72.0                  0.0  name         1\n",
       "2        16.0    0.0  55.0                  0.0  name         1\n",
       "3        57.0    0.0  60.0                  0.0  name         1\n",
       "4        19.0    1.0  57.0                  0.0  name         1\n",
       "..        ...    ...   ...                  ...   ...       ...\n",
       "128       7.5    1.0  64.0                  0.0  name         1\n",
       "129      41.0    0.0  64.0                  0.0  name         1\n",
       "130      36.0    0.0  69.0                  0.0  name         1\n",
       "131      22.0    0.0  57.0                  0.0  name         1\n",
       "132      20.0    0.0  62.0                  0.0  name         1\n",
       "\n",
       "[101 rows x 6 columns]"
      ]
     },
     "metadata": {},
     "output_type": "display_data"
    },
    {
     "data": {
      "text/plain": [
       "(101, 6)"
      ]
     },
     "metadata": {},
     "output_type": "display_data"
    }
   ],
   "source": [
    "# Patients without pericardial effusion\n",
    "none_pericardial_effusion = echocardiogram[echocardiogram[\"pericardialeffusion\"] == 0]\n",
    "display(none_pericardial_effusion)\n",
    "display(none_pericardial_effusion.shape)"
   ]
  },
  {
   "cell_type": "code",
   "execution_count": 12,
   "id": "republican-identifier",
   "metadata": {},
   "outputs": [
    {
     "data": {
      "text/plain": [
       "<lifelines.KaplanMeierFitter:\"KM_estimate\", fitted with 24 total observations, 0 right-censored observations>"
      ]
     },
     "execution_count": 12,
     "metadata": {},
     "output_type": "execute_result"
    }
   ],
   "source": [
    "# Instantiate Kaplan Meier object for patients with and without pericardial effusion\n",
    "kmf_has_pe = KaplanMeierFitter()\n",
    "kmf_no_pe = KaplanMeierFitter()\n",
    "\n",
    "# Fit Kaplan Meier estimators to each DataFrame\n",
    "kmf_has_pe.fit(\n",
    "    durations=has_pericardial_effusion[\"survival\"], \n",
    "    event_observed=has_pericardial_effusion[\"observed\"]\n",
    ")"
   ]
  },
  {
   "cell_type": "code",
   "execution_count": 13,
   "id": "compliant-leonard",
   "metadata": {},
   "outputs": [
    {
     "data": {
      "text/plain": [
       "<lifelines.KaplanMeierFitter:\"KM_estimate\", fitted with 101 total observations, 0 right-censored observations>"
      ]
     },
     "execution_count": 13,
     "metadata": {},
     "output_type": "execute_result"
    }
   ],
   "source": [
    "# Fit the model\n",
    "kmf_no_pe.fit(\n",
    "    durations=none_pericardial_effusion[\"survival\"], \n",
    "    event_observed=none_pericardial_effusion[\"observed\"]\n",
    ")"
   ]
  },
  {
   "cell_type": "code",
   "execution_count": 14,
   "id": "controversial-passing",
   "metadata": {},
   "outputs": [
    {
     "name": "stdout",
     "output_type": "stream",
     "text": [
      "The median survival duration (months) of patients with pericardial effusion:  12.0\n",
      "The median survival duration (months) of patients without pericardial effusion:  25.0\n"
     ]
    }
   ],
   "source": [
    "# Print out the median survival duration of each group\n",
    "print(\"The median survival duration (months) of patients with pericardial effusion: \", kmf_has_pe.median_survival_time_)\n",
    "print(\"The median survival duration (months) of patients without pericardial effusion: \", kmf_no_pe.median_survival_time_)"
   ]
  },
  {
   "cell_type": "markdown",
   "id": "martial-parks",
   "metadata": {},
   "source": [
    "## Visualizing K-M Model"
   ]
  },
  {
   "cell_type": "markdown",
   "id": "protective-xerox",
   "metadata": {},
   "source": [
    "### How to Construct a K-M Survival Curve?"
   ]
  },
  {
   "cell_type": "markdown",
   "id": "tested-immune",
   "metadata": {},
   "source": [
    "Let's consider a *Toy* data with $n=5$"
   ]
  },
  {
   "cell_type": "code",
   "execution_count": 15,
   "id": "worse-level",
   "metadata": {},
   "outputs": [
    {
     "data": {
      "text/html": [
       "<div>\n",
       "<style scoped>\n",
       "    .dataframe tbody tr th:only-of-type {\n",
       "        vertical-align: middle;\n",
       "    }\n",
       "\n",
       "    .dataframe tbody tr th {\n",
       "        vertical-align: top;\n",
       "    }\n",
       "\n",
       "    .dataframe thead th {\n",
       "        text-align: right;\n",
       "    }\n",
       "</style>\n",
       "<table border=\"1\" class=\"dataframe\">\n",
       "  <thead>\n",
       "    <tr style=\"text-align: right;\">\n",
       "      <th></th>\n",
       "      <th>duration</th>\n",
       "      <th>observed</th>\n",
       "    </tr>\n",
       "  </thead>\n",
       "  <tbody>\n",
       "    <tr>\n",
       "      <th>0</th>\n",
       "      <td>2</td>\n",
       "      <td>1</td>\n",
       "    </tr>\n",
       "    <tr>\n",
       "      <th>1</th>\n",
       "      <td>5</td>\n",
       "      <td>0</td>\n",
       "    </tr>\n",
       "    <tr>\n",
       "      <th>2</th>\n",
       "      <td>3</td>\n",
       "      <td>1</td>\n",
       "    </tr>\n",
       "    <tr>\n",
       "      <th>3</th>\n",
       "      <td>5</td>\n",
       "      <td>1</td>\n",
       "    </tr>\n",
       "    <tr>\n",
       "      <th>4</th>\n",
       "      <td>2</td>\n",
       "      <td>0</td>\n",
       "    </tr>\n",
       "  </tbody>\n",
       "</table>\n",
       "</div>"
      ],
      "text/plain": [
       "   duration  observed\n",
       "0         2         1\n",
       "1         5         0\n",
       "2         3         1\n",
       "3         5         1\n",
       "4         2         0"
      ]
     },
     "execution_count": 15,
     "metadata": {},
     "output_type": "execute_result"
    }
   ],
   "source": [
    "toys = pd.DataFrame([{\n",
    "    \"duration\": 2,\n",
    "    \"observed\": 1\n",
    "}, {\n",
    "    \"duration\": 5,\n",
    "    \"observed\": 0\n",
    "}, {\n",
    "    \"duration\": 3,\n",
    "    \"observed\": 1\n",
    "}, {\n",
    "    \"duration\": 5,\n",
    "    \"observed\": 1\n",
    "}, {\n",
    "    \"duration\": 2,\n",
    "    \"observed\": 0\n",
    "}])\n",
    "\n",
    "toys"
   ]
  },
  {
   "cell_type": "markdown",
   "id": "annoying-transition",
   "metadata": {},
   "source": [
    "#### Steps"
   ]
  },
  {
   "cell_type": "markdown",
   "id": "ranging-vertical",
   "metadata": {},
   "source": [
    "1. Sort the duration $T$ in increasing order: If tied, uncensored data before censored data\n",
    "\n",
    "- Here, we use `+` to denote censored data"
   ]
  },
  {
   "cell_type": "markdown",
   "id": "subsequent-friendship",
   "metadata": {},
   "source": [
    "<img src=\"images/survival-curve-arranged-durations.png\" width=9%>"
   ]
  },
  {
   "cell_type": "markdown",
   "id": "perceived-moldova",
   "metadata": {},
   "source": [
    "2. For each $t_i$, find: $d_i$, $n_i$, and $(1-\\frac{d_i}{n_i})$\n",
    "  - `d_i`: Number of events at time $i$ (Here, one event per time). If subject is censored, count as `0`\n",
    "  - `n_i`: Number of subjects that survived up to (but not including) time $i$ (still at risk)\n",
    "    - **Exclude Censored**: If a subject is censored at a prior time, it is no longer at risk"
   ]
  },
  {
   "cell_type": "markdown",
   "id": "boring-geology",
   "metadata": {},
   "source": [
    "<img src=\"images/survival-curve-step-2.png\" width=30%>"
   ]
  },
  {
   "cell_type": "markdown",
   "id": "unexpected-logistics",
   "metadata": {},
   "source": [
    "3. For each $t_i$, multiply $(1-\\frac{d_i}{n_i}) \\cdot S(t_{i-1}) ... \\cdot S(t_0)$\n",
    "  - If a subject is censored, it counts as 0 events\n",
    "  - Now, we can calculate the percentage of survival at each time\n",
    "  - Multiply each one with its prior times"
   ]
  },
  {
   "cell_type": "markdown",
   "id": "awful-corps",
   "metadata": {},
   "source": [
    "<img src=\"images/construct-km-curve.png\" width=40%>"
   ]
  },
  {
   "cell_type": "markdown",
   "id": "neural-upper",
   "metadata": {},
   "source": [
    "Plotting the **Survival Curve**\n",
    "\n",
    "- Survival Probabilities on $y$-axis\n",
    "- Time/Duration on $x$-axis"
   ]
  },
  {
   "cell_type": "markdown",
   "id": "bronze-scroll",
   "metadata": {},
   "source": [
    "<img src=\"images/survival-probability-plot.png\" width=40%>"
   ]
  },
  {
   "cell_type": "markdown",
   "id": "informative-murray",
   "metadata": {},
   "source": [
    "### Interpreting the Survival Curve"
   ]
  },
  {
   "cell_type": "markdown",
   "id": "synthetic-anniversary",
   "metadata": {},
   "source": [
    "The survival probabilities at each time between the start ($t=0$) and end ($t=5$) of observation\n",
    "\n",
    "- **Common Misconception: If the survival drops to 0, not subject survived**\n",
    "  - The curve will drop to 0 as long as the last observation is not censored (true event duration is known)"
   ]
  },
  {
   "cell_type": "markdown",
   "id": "worthy-publicity",
   "metadata": {},
   "source": [
    "### Plotting the K-M Survival Curve"
   ]
  },
  {
   "cell_type": "markdown",
   "id": "settled-zambia",
   "metadata": {},
   "source": [
    "- Real-life datasets are much larger\n",
    "- There is no need to plot by hand: We can use libraries"
   ]
  },
  {
   "cell_type": "code",
   "execution_count": 16,
   "id": "continued-psychiatry",
   "metadata": {},
   "outputs": [],
   "source": [
    "# Import libraries needed\n",
    "from lifelines import KaplanMeierFitter\n",
    "import pandas as pd\n",
    "import matplotlib.pyplot as plt"
   ]
  },
  {
   "cell_type": "code",
   "execution_count": 17,
   "id": "fixed-genome",
   "metadata": {},
   "outputs": [
    {
     "data": {
      "text/html": [
       "<div>\n",
       "<style scoped>\n",
       "    .dataframe tbody tr th:only-of-type {\n",
       "        vertical-align: middle;\n",
       "    }\n",
       "\n",
       "    .dataframe tbody tr th {\n",
       "        vertical-align: top;\n",
       "    }\n",
       "\n",
       "    .dataframe thead th {\n",
       "        text-align: right;\n",
       "    }\n",
       "</style>\n",
       "<table border=\"1\" class=\"dataframe\">\n",
       "  <thead>\n",
       "    <tr style=\"text-align: right;\">\n",
       "      <th></th>\n",
       "      <th>ctryname</th>\n",
       "      <th>cowcode2</th>\n",
       "      <th>politycode</th>\n",
       "      <th>un_region_name</th>\n",
       "      <th>un_continent_name</th>\n",
       "      <th>ehead</th>\n",
       "      <th>leaderspellreg</th>\n",
       "      <th>democracy</th>\n",
       "      <th>regime</th>\n",
       "      <th>start_year</th>\n",
       "      <th>duration</th>\n",
       "      <th>observed</th>\n",
       "    </tr>\n",
       "  </thead>\n",
       "  <tbody>\n",
       "    <tr>\n",
       "      <th>0</th>\n",
       "      <td>Afghanistan</td>\n",
       "      <td>700</td>\n",
       "      <td>700.0</td>\n",
       "      <td>Southern Asia</td>\n",
       "      <td>Asia</td>\n",
       "      <td>Mohammad Zahir Shah</td>\n",
       "      <td>Mohammad Zahir Shah.Afghanistan.1946.1952.Mona...</td>\n",
       "      <td>Non-democracy</td>\n",
       "      <td>Monarchy</td>\n",
       "      <td>1946</td>\n",
       "      <td>7</td>\n",
       "      <td>1</td>\n",
       "    </tr>\n",
       "    <tr>\n",
       "      <th>1</th>\n",
       "      <td>Afghanistan</td>\n",
       "      <td>700</td>\n",
       "      <td>700.0</td>\n",
       "      <td>Southern Asia</td>\n",
       "      <td>Asia</td>\n",
       "      <td>Sardar Mohammad Daoud</td>\n",
       "      <td>Sardar Mohammad Daoud.Afghanistan.1953.1962.Ci...</td>\n",
       "      <td>Non-democracy</td>\n",
       "      <td>Civilian Dict</td>\n",
       "      <td>1953</td>\n",
       "      <td>10</td>\n",
       "      <td>1</td>\n",
       "    </tr>\n",
       "    <tr>\n",
       "      <th>2</th>\n",
       "      <td>Afghanistan</td>\n",
       "      <td>700</td>\n",
       "      <td>700.0</td>\n",
       "      <td>Southern Asia</td>\n",
       "      <td>Asia</td>\n",
       "      <td>Mohammad Zahir Shah</td>\n",
       "      <td>Mohammad Zahir Shah.Afghanistan.1963.1972.Mona...</td>\n",
       "      <td>Non-democracy</td>\n",
       "      <td>Monarchy</td>\n",
       "      <td>1963</td>\n",
       "      <td>10</td>\n",
       "      <td>1</td>\n",
       "    </tr>\n",
       "    <tr>\n",
       "      <th>3</th>\n",
       "      <td>Afghanistan</td>\n",
       "      <td>700</td>\n",
       "      <td>700.0</td>\n",
       "      <td>Southern Asia</td>\n",
       "      <td>Asia</td>\n",
       "      <td>Sardar Mohammad Daoud</td>\n",
       "      <td>Sardar Mohammad Daoud.Afghanistan.1973.1977.Ci...</td>\n",
       "      <td>Non-democracy</td>\n",
       "      <td>Civilian Dict</td>\n",
       "      <td>1973</td>\n",
       "      <td>5</td>\n",
       "      <td>0</td>\n",
       "    </tr>\n",
       "    <tr>\n",
       "      <th>4</th>\n",
       "      <td>Afghanistan</td>\n",
       "      <td>700</td>\n",
       "      <td>700.0</td>\n",
       "      <td>Southern Asia</td>\n",
       "      <td>Asia</td>\n",
       "      <td>Nur Mohammad Taraki</td>\n",
       "      <td>Nur Mohammad Taraki.Afghanistan.1978.1978.Civi...</td>\n",
       "      <td>Non-democracy</td>\n",
       "      <td>Civilian Dict</td>\n",
       "      <td>1978</td>\n",
       "      <td>1</td>\n",
       "      <td>0</td>\n",
       "    </tr>\n",
       "  </tbody>\n",
       "</table>\n",
       "</div>"
      ],
      "text/plain": [
       "      ctryname  cowcode2  politycode un_region_name un_continent_name  \\\n",
       "0  Afghanistan       700       700.0  Southern Asia              Asia   \n",
       "1  Afghanistan       700       700.0  Southern Asia              Asia   \n",
       "2  Afghanistan       700       700.0  Southern Asia              Asia   \n",
       "3  Afghanistan       700       700.0  Southern Asia              Asia   \n",
       "4  Afghanistan       700       700.0  Southern Asia              Asia   \n",
       "\n",
       "                   ehead                                     leaderspellreg  \\\n",
       "0    Mohammad Zahir Shah  Mohammad Zahir Shah.Afghanistan.1946.1952.Mona...   \n",
       "1  Sardar Mohammad Daoud  Sardar Mohammad Daoud.Afghanistan.1953.1962.Ci...   \n",
       "2    Mohammad Zahir Shah  Mohammad Zahir Shah.Afghanistan.1963.1972.Mona...   \n",
       "3  Sardar Mohammad Daoud  Sardar Mohammad Daoud.Afghanistan.1973.1977.Ci...   \n",
       "4    Nur Mohammad Taraki  Nur Mohammad Taraki.Afghanistan.1978.1978.Civi...   \n",
       "\n",
       "       democracy         regime  start_year  duration  observed  \n",
       "0  Non-democracy       Monarchy        1946         7         1  \n",
       "1  Non-democracy  Civilian Dict        1953        10         1  \n",
       "2  Non-democracy       Monarchy        1963        10         1  \n",
       "3  Non-democracy  Civilian Dict        1973         5         0  \n",
       "4  Non-democracy  Civilian Dict        1978         1         0  "
      ]
     },
     "metadata": {},
     "output_type": "display_data"
    },
    {
     "data": {
      "text/plain": [
       "(1808, 12)"
      ]
     },
     "metadata": {},
     "output_type": "display_data"
    }
   ],
   "source": [
    "# Our dataset\n",
    "regimes = pd.read_csv(\"data/regimes.csv\")\n",
    "display(regimes.head())\n",
    "display(regimes.shape)"
   ]
  },
  {
   "cell_type": "code",
   "execution_count": 18,
   "id": "meaningful-allen",
   "metadata": {},
   "outputs": [],
   "source": [
    "# Instantiate a KaplanMeierFitter class\n",
    "kmf = KaplanMeierFitter()"
   ]
  },
  {
   "cell_type": "code",
   "execution_count": 19,
   "id": "finite-sponsorship",
   "metadata": {},
   "outputs": [
    {
     "data": {
      "text/plain": [
       "<lifelines.KaplanMeierFitter:\"KM_estimate\", fitted with 1808 total observations, 340 right-censored observations>"
      ]
     },
     "execution_count": 19,
     "metadata": {},
     "output_type": "execute_result"
    }
   ],
   "source": [
    "# Fit the model\n",
    "kmf.fit(\n",
    "    durations=regimes[\"duration\"], \n",
    "    event_observed=regimes[\"observed\"]\n",
    ")"
   ]
  },
  {
   "cell_type": "code",
   "execution_count": 20,
   "id": "common-pension",
   "metadata": {},
   "outputs": [
    {
     "data": {
      "image/png": "[encoded data removed]",
      "text/plain": [
       "<Figure size 432x288 with 1 Axes>"
      ]
     },
     "metadata": {
      "needs_background": "light"
     },
     "output_type": "display_data"
    }
   ],
   "source": [
    "# Plotting the survival function point-estimates as a continuous line\n",
    "kmf.survival_function_.plot()\n",
    "plt.show();"
   ]
  },
  {
   "cell_type": "markdown",
   "id": "english-farmer",
   "metadata": {},
   "source": [
    "We can also plot with a 95% Confidence-Interval"
   ]
  },
  {
   "cell_type": "code",
   "execution_count": 21,
   "id": "hispanic-sailing",
   "metadata": {},
   "outputs": [
    {
     "data": {
      "image/png": "[encoded data removed]",
      "text/plain": [
       "<Figure size 432x288 with 1 Axes>"
      ]
     },
     "metadata": {
      "needs_background": "light"
     },
     "output_type": "display_data"
    }
   ],
   "source": [
    "# Plotting the survival function with 95% CI\n",
    "kmf.plot_survival_function()\n",
    "plt.show();\n",
    "# Same thing as using:\n",
    "# kmf.plot()\n",
    "# plt.show();"
   ]
  },
  {
   "cell_type": "markdown",
   "id": "apart-september",
   "metadata": {},
   "source": [
    "Or, we can plot as stepped line without the CI"
   ]
  },
  {
   "cell_type": "code",
   "execution_count": 22,
   "id": "laughing-austria",
   "metadata": {},
   "outputs": [
    {
     "data": {
      "image/png": "[encoded data removed]",
      "text/plain": [
       "<Figure size 432x288 with 1 Axes>"
      ]
     },
     "metadata": {
      "needs_background": "light"
     },
     "output_type": "display_data"
    }
   ],
   "source": [
    "# Plotting the survival function as stepped line wihtout CI\n",
    "kmf.plot_survival_function(ci_show=False)\n",
    "plt.show();"
   ]
  },
  {
   "cell_type": "markdown",
   "id": "korean-duplicate",
   "metadata": {},
   "source": [
    "#### Why is the CI Useful?"
   ]
  },
  {
   "cell_type": "markdown",
   "id": "opposite-footwear",
   "metadata": {},
   "source": [
    "- A way to quantify how uncertain we are about each point estimate of survival probabilities\n",
    "  - **Wide CI** = Less-certain, often due to smaller sample size\n",
    "  - **Narrow CI** = More-certain, often due to larger sample size"
   ]
  },
  {
   "cell_type": "markdown",
   "id": "informational-church",
   "metadata": {},
   "source": [
    "- As the curve progress, the CI can get wider as there are less and less at-risk cases\n",
    "- As long as the last observation is not censored, the curve will drop to 0"
   ]
  },
  {
   "cell_type": "markdown",
   "id": "divine-prompt",
   "metadata": {},
   "source": [
    "## Applying Survival Analysis to Groups"
   ]
  },
  {
   "cell_type": "markdown",
   "id": "otherwise-testimony",
   "metadata": {},
   "source": [
    " We can compare survival analysis functions between groups of data\n",
    " \n",
    " - We could group the observations by a specific categorical column\n",
    " - **E.g. Is there a difference between the regimes survival in Asia vs Europe?**\n",
    " - We can use different dimensions for grouping as well\n",
    " - In clinical trials, the attributes can be the type of treatment assignement (**Treatment vs Placebo**)"
   ]
  },
  {
   "cell_type": "markdown",
   "id": "conventional-negotiation",
   "metadata": {},
   "source": [
    "### Types of Survival Group Comparisons"
   ]
  },
  {
   "cell_type": "markdown",
   "id": "institutional-olive",
   "metadata": {},
   "source": [
    "- **Are any point-estimates or survival statistics different?**\n",
    "  - Compare 2 groups survival probabilities at specific time\n",
    "  - Compare total proportion of survived subjects across 2 groups\n",
    "- **Are the underlying survival distributions different?**\n",
    "  - Requires formal hypothesis testing\n",
    "- **How much does an attribute affect survival?**\n",
    "  - Requires regression-based modeling frameworks"
   ]
  },
  {
   "cell_type": "markdown",
   "id": "shared-kazakhstan",
   "metadata": {},
   "source": [
    "### Visualizing Group"
   ]
  },
  {
   "cell_type": "markdown",
   "id": "opponent-borough",
   "metadata": {},
   "source": [
    "We can fit KM survival function to each group and visualize side-by-side\n",
    "\n",
    "- Simple to execute and interpret\n",
    "- Non-parametric: Flexible for different type of time-to-event data\n",
    "- Useful to illustrate the differences in Survival Distribution functions"
   ]
  },
  {
   "cell_type": "markdown",
   "id": "affected-array",
   "metadata": {},
   "source": [
    "**Note: Create a Boolean mask for each group (dummy variables)**"
   ]
  },
  {
   "cell_type": "code",
   "execution_count": 23,
   "id": "direct-glory",
   "metadata": {},
   "outputs": [
    {
     "data": {
      "text/html": [
       "<div>\n",
       "<style scoped>\n",
       "    .dataframe tbody tr th:only-of-type {\n",
       "        vertical-align: middle;\n",
       "    }\n",
       "\n",
       "    .dataframe tbody tr th {\n",
       "        vertical-align: top;\n",
       "    }\n",
       "\n",
       "    .dataframe thead th {\n",
       "        text-align: right;\n",
       "    }\n",
       "</style>\n",
       "<table border=\"1\" class=\"dataframe\">\n",
       "  <thead>\n",
       "    <tr style=\"text-align: right;\">\n",
       "      <th></th>\n",
       "      <th>ctryname</th>\n",
       "      <th>cowcode2</th>\n",
       "      <th>politycode</th>\n",
       "      <th>un_region_name</th>\n",
       "      <th>un_continent_name</th>\n",
       "      <th>ehead</th>\n",
       "      <th>leaderspellreg</th>\n",
       "      <th>democracy</th>\n",
       "      <th>regime</th>\n",
       "      <th>start_year</th>\n",
       "      <th>duration</th>\n",
       "      <th>observed</th>\n",
       "    </tr>\n",
       "  </thead>\n",
       "  <tbody>\n",
       "    <tr>\n",
       "      <th>0</th>\n",
       "      <td>Afghanistan</td>\n",
       "      <td>700</td>\n",
       "      <td>700.0</td>\n",
       "      <td>Southern Asia</td>\n",
       "      <td>Asia</td>\n",
       "      <td>Mohammad Zahir Shah</td>\n",
       "      <td>Mohammad Zahir Shah.Afghanistan.1946.1952.Mona...</td>\n",
       "      <td>Non-democracy</td>\n",
       "      <td>Monarchy</td>\n",
       "      <td>1946</td>\n",
       "      <td>7</td>\n",
       "      <td>1</td>\n",
       "    </tr>\n",
       "    <tr>\n",
       "      <th>1</th>\n",
       "      <td>Afghanistan</td>\n",
       "      <td>700</td>\n",
       "      <td>700.0</td>\n",
       "      <td>Southern Asia</td>\n",
       "      <td>Asia</td>\n",
       "      <td>Sardar Mohammad Daoud</td>\n",
       "      <td>Sardar Mohammad Daoud.Afghanistan.1953.1962.Ci...</td>\n",
       "      <td>Non-democracy</td>\n",
       "      <td>Civilian Dict</td>\n",
       "      <td>1953</td>\n",
       "      <td>10</td>\n",
       "      <td>1</td>\n",
       "    </tr>\n",
       "    <tr>\n",
       "      <th>2</th>\n",
       "      <td>Afghanistan</td>\n",
       "      <td>700</td>\n",
       "      <td>700.0</td>\n",
       "      <td>Southern Asia</td>\n",
       "      <td>Asia</td>\n",
       "      <td>Mohammad Zahir Shah</td>\n",
       "      <td>Mohammad Zahir Shah.Afghanistan.1963.1972.Mona...</td>\n",
       "      <td>Non-democracy</td>\n",
       "      <td>Monarchy</td>\n",
       "      <td>1963</td>\n",
       "      <td>10</td>\n",
       "      <td>1</td>\n",
       "    </tr>\n",
       "    <tr>\n",
       "      <th>3</th>\n",
       "      <td>Afghanistan</td>\n",
       "      <td>700</td>\n",
       "      <td>700.0</td>\n",
       "      <td>Southern Asia</td>\n",
       "      <td>Asia</td>\n",
       "      <td>Sardar Mohammad Daoud</td>\n",
       "      <td>Sardar Mohammad Daoud.Afghanistan.1973.1977.Ci...</td>\n",
       "      <td>Non-democracy</td>\n",
       "      <td>Civilian Dict</td>\n",
       "      <td>1973</td>\n",
       "      <td>5</td>\n",
       "      <td>0</td>\n",
       "    </tr>\n",
       "    <tr>\n",
       "      <th>4</th>\n",
       "      <td>Afghanistan</td>\n",
       "      <td>700</td>\n",
       "      <td>700.0</td>\n",
       "      <td>Southern Asia</td>\n",
       "      <td>Asia</td>\n",
       "      <td>Nur Mohammad Taraki</td>\n",
       "      <td>Nur Mohammad Taraki.Afghanistan.1978.1978.Civi...</td>\n",
       "      <td>Non-democracy</td>\n",
       "      <td>Civilian Dict</td>\n",
       "      <td>1978</td>\n",
       "      <td>1</td>\n",
       "      <td>0</td>\n",
       "    </tr>\n",
       "  </tbody>\n",
       "</table>\n",
       "</div>"
      ],
      "text/plain": [
       "      ctryname  cowcode2  politycode un_region_name un_continent_name  \\\n",
       "0  Afghanistan       700       700.0  Southern Asia              Asia   \n",
       "1  Afghanistan       700       700.0  Southern Asia              Asia   \n",
       "2  Afghanistan       700       700.0  Southern Asia              Asia   \n",
       "3  Afghanistan       700       700.0  Southern Asia              Asia   \n",
       "4  Afghanistan       700       700.0  Southern Asia              Asia   \n",
       "\n",
       "                   ehead                                     leaderspellreg  \\\n",
       "0    Mohammad Zahir Shah  Mohammad Zahir Shah.Afghanistan.1946.1952.Mona...   \n",
       "1  Sardar Mohammad Daoud  Sardar Mohammad Daoud.Afghanistan.1953.1962.Ci...   \n",
       "2    Mohammad Zahir Shah  Mohammad Zahir Shah.Afghanistan.1963.1972.Mona...   \n",
       "3  Sardar Mohammad Daoud  Sardar Mohammad Daoud.Afghanistan.1973.1977.Ci...   \n",
       "4    Nur Mohammad Taraki  Nur Mohammad Taraki.Afghanistan.1978.1978.Civi...   \n",
       "\n",
       "       democracy         regime  start_year  duration  observed  \n",
       "0  Non-democracy       Monarchy        1946         7         1  \n",
       "1  Non-democracy  Civilian Dict        1953        10         1  \n",
       "2  Non-democracy       Monarchy        1963        10         1  \n",
       "3  Non-democracy  Civilian Dict        1973         5         0  \n",
       "4  Non-democracy  Civilian Dict        1978         1         0  "
      ]
     },
     "metadata": {},
     "output_type": "display_data"
    },
    {
     "data": {
      "text/plain": [
       "(1808, 12)"
      ]
     },
     "metadata": {},
     "output_type": "display_data"
    }
   ],
   "source": [
    "# Our dataset\n",
    "regimes = pd.read_csv(\"data/regimes.csv\")\n",
    "display(regimes.head())\n",
    "display(regimes.shape)"
   ]
  },
  {
   "cell_type": "code",
   "execution_count": 24,
   "id": "tight-shark",
   "metadata": {},
   "outputs": [
    {
     "data": {
      "text/plain": [
       "array(['Asia', 'Europe', 'Africa', 'Americas', 'Oceania'], dtype=object)"
      ]
     },
     "execution_count": 24,
     "metadata": {},
     "output_type": "execute_result"
    }
   ],
   "source": [
    "# How many groups do we have for continent?\n",
    "regimes[\"un_continent_name\"].unique()"
   ]
  },
  {
   "cell_type": "code",
   "execution_count": 25,
   "id": "facial-potato",
   "metadata": {},
   "outputs": [],
   "source": [
    "# Creating Boolean Masks\n",
    "asia = (regimes[\"un_continent_name\"] == \"Asia\")\n",
    "europe = (regimes[\"un_continent_name\"] == \"Europe\")\n",
    "africa = (regimes[\"un_continent_name\"] == \"Africa\")\n",
    "americas = (regimes[\"un_continent_name\"] == \"Americas\")\n",
    "oceania = (regimes[\"un_continent_name\"] == \"Oceania\")"
   ]
  },
  {
   "cell_type": "code",
   "execution_count": 26,
   "id": "dominican-description",
   "metadata": {},
   "outputs": [],
   "source": [
    "# Instantiate a KaplanMeierFitter class\n",
    "kmf = KaplanMeierFitter()"
   ]
  },
  {
   "cell_type": "code",
   "execution_count": 27,
   "id": "encouraging-classroom",
   "metadata": {},
   "outputs": [
    {
     "data": {
      "image/png": "[encoded data removed]",
      "text/plain": [
       "<Figure size 432x288 with 1 Axes>"
      ]
     },
     "metadata": {
      "needs_background": "light"
     },
     "output_type": "display_data"
    }
   ],
   "source": [
    "continents = [(asia, \"Asia\"), (europe, \"Europe\"), (africa, \"Africa\"), (americas, \"Americas\"), (oceania, \"Oceania\")]\n",
    "\n",
    "# Creating the figure and fitting\n",
    "ax = plt.subplot(111)\n",
    "\n",
    "# Fit the model with unique label one by one\n",
    "for cont, lbl in continents:\n",
    "    kmf.fit(\n",
    "        durations=regimes[cont][\"duration\"],\n",
    "        event_observed=regimes[cont][\"observed\"],\n",
    "        label=lbl\n",
    "    )\n",
    "\n",
    "    # Plot on the figure\n",
    "    kmf.plot_survival_function(ax=ax)\n",
    "    \n",
    "# Show the figure\n",
    "plt.show();"
   ]
  },
  {
   "cell_type": "markdown",
   "id": "sharing-disability",
   "metadata": {},
   "source": [
    "### Interpreting Groups' Survival Curves"
   ]
  },
  {
   "cell_type": "markdown",
   "id": "harmful-insert",
   "metadata": {},
   "source": [
    "- Looking at the slopes, regimes in Europe and Oceania dies off faster than regimes in Asia and Africa\n",
    "- Looking at Proportion: At any given duration, a higher proportion of regimes in Europe die off than regimes in Africa \n",
    "- If the Confidence Intervals overlap, it is less likely that there is a real differences between the curves\n",
    "  - Mostly difference due to chance\n",
    "  - Without Confidence Intervals, there is a big gap between the survival curves\n",
    "  - The Confidence Intervals show that the observed gap might not be due to real differences in their survival functions\n",
    "  - **However, just because the CI overlap does not mean that there is no difference**\n",
    "  - **We should be careful about areas where the confidence intervals overlap**\n",
    "    - **We need more formal hypothesis testing or regression-based methods to make a conclusion**"
   ]
  },
  {
   "cell_type": "markdown",
   "id": "personalized-richmond",
   "metadata": {},
   "source": [
    "### The log-rank test"
   ]
  },
  {
   "cell_type": "markdown",
   "id": "violent-punishment",
   "metadata": {},
   "source": [
    "This is about comparing scientifically whether the groups' survival distributions are identical or not\n",
    "\n",
    "- Before you finalize your conclusion from looking at the grah, it's important to scientifically test your hypothesis\n",
    "- You will use the log-rank test and inspect the p-value to make a decision"
   ]
  },
  {
   "cell_type": "markdown",
   "id": "korean-feelings",
   "metadata": {},
   "source": [
    "#### Hypothesis Testing"
   ]
  },
  {
   "cell_type": "markdown",
   "id": "behavioral-chemistry",
   "metadata": {},
   "source": [
    "- **Hypothesis Testing** is the standard method for statistical inference\n",
    "- Test if our hypothesis is valid by figuring out the probability that the results happened by chance"
   ]
  },
  {
   "cell_type": "markdown",
   "id": "partial-latest",
   "metadata": {},
   "source": [
    "<img src=\"images/hypothesis-testing.png\" width=40%>"
   ]
  },
  {
   "cell_type": "markdown",
   "id": "emerging-merit",
   "metadata": {},
   "source": [
    "##### Example of Hypothesis Testing"
   ]
  },
  {
   "cell_type": "markdown",
   "id": "fatal-sampling",
   "metadata": {},
   "source": [
    "- $H_0$: California and Nevada residents have the same average income\n",
    "- $H_1$: California and Nevada residents do not have the same average income\n",
    "- **$p$-value**: What is the probability that the data would have occured if $H_0$ was true?\n",
    "  - If $p$ is small, we reject $H_0$ and accept $H_1$\n",
    "  - If $p$ is large, we cannot reject $H_0$"
   ]
  },
  {
   "cell_type": "markdown",
   "id": "popular-uzbekistan",
   "metadata": {},
   "source": [
    "#### Log-Rank Test and Hypothesis Testing"
   ]
  },
  {
   "cell_type": "markdown",
   "id": "simplified-wayne",
   "metadata": {},
   "source": [
    "**Log-rank Test**: Test the $H_0$ that *there is no difference in survival between 2 or more independant groups*\n",
    "\n",
    "- Compares survival probabilities $S_i$ between groups at each time $t$: $S_1(t)$ vs $S_2(t)$ vs ... $S_i(t)$\n",
    "- Survival curves for each groups are estimated separately using K-M estimator\n",
    "- Their Survival Probabilities are compared\n",
    "- For 2 groups $A$ and $B$:\n",
    "  - $H_0: S_A(t) = S_B(t)$\n",
    "  - $H_1: S_A(t) \\neq S_B(t)$\n",
    "  - $p$-Value: If $S_A(t) = S_B(t)$, what's the probability of our data occuring?"
   ]
  },
  {
   "cell_type": "markdown",
   "id": "precious-catalog",
   "metadata": {},
   "source": [
    "<img src=\"images/multiple-survival-curves.png\" width=40%>"
   ]
  },
  {
   "cell_type": "raw",
   "id": "demanding-persian",
   "metadata": {},
   "source": [
    "# Import the log-rank test\n",
    "from lifelines.statistics import logrank_test"
   ]
  },
  {
   "cell_type": "markdown",
   "id": "falling-anthony",
   "metadata": {},
   "source": [
    "This function has 4 required parameters:\n",
    "\n",
    "- `durations` for each group,\n",
    "- `event_observed` for each group"
   ]
  },
  {
   "cell_type": "raw",
   "id": "neither-listening",
   "metadata": {},
   "source": [
    "logrank_test(\n",
    "    durations_A=lstA, # List of event durations for the first group\n",
    "    durations_B=lstB, # List of event durations for the second group\n",
    "    event_observed_A=eoA, # List of censorship flags for the first group\n",
    "    event_observed_B=eoB # List of censorship flags for the second group\n",
    ")"
   ]
  },
  {
   "cell_type": "markdown",
   "id": "global-crack",
   "metadata": {},
   "source": [
    "This function returns a statistical result object\n",
    "\n",
    "- `.print_summary()` - Method to prints all the test results\n",
    "- `.p_value` - Attribute for the resulting p-value\n",
    "- `.test_statistic` - Attribute for the test statistic"
   ]
  },
  {
   "cell_type": "markdown",
   "id": "confused-prospect",
   "metadata": {},
   "source": [
    "**Note**\n",
    "\n",
    "- The Log-rank test is *Non-parametric*\n",
    "- The Log-rank test does not assume the shape of the data\n",
    "- **When using `lifelines`, the dataset *must be* right-censored (subject #3 below)**\n",
    "  - We have not observed the result of some subjects when the measurement period ends\n",
    "  - If there is no censorship, there is no need for the test\n",
    "  - But we can only apply for right-censored data\n",
    "- Censorship should be non-informative\n",
    "  - Censorship is not related to survival duration and outcomes\n",
    "- For log-rank test for groups > 2, use:\n",
    "  - `pairwise_logrank_test()` - Compare all possible pairs of survival curves\n",
    "  - `multivariate_logrank_test()`"
   ]
  },
  {
   "cell_type": "markdown",
   "id": "roman-shaft",
   "metadata": {},
   "source": [
    "<img src=\"images/applying-log-rank-test.png\" width=40%>"
   ]
  }
 ],
 "metadata": {
  "kernelspec": {
   "display_name": "Python 3",
   "language": "python",
   "name": "python3"
  },
  "language_info": {
   "codemirror_mode": {
    "name": "ipython",
    "version": 3
   },
   "file_extension": ".py",
   "mimetype": "text/x-python",
   "name": "python",
   "nbconvert_exporter": "python",
   "pygments_lexer": "ipython3",
   "version": "3.8.8"
  },
  "toc": {
   "base_numbering": 1,
   "nav_menu": {},
   "number_sections": true,
   "sideBar": true,
   "skip_h1_title": true,
   "title_cell": "Table of Contents",
   "title_sidebar": "Contents",
   "toc_cell": false,
   "toc_position": {
    "height": "calc(100% - 180px)",
    "left": "10px",
    "top": "150px",
    "width": "242px"
   },
   "toc_section_display": true,
   "toc_window_display": true
  },
  "varInspector": {
   "cols": {
    "lenName": 16,
    "lenType": 16,
    "lenVar": 40
   },
   "kernels_config": {
    "python": {
     "delete_cmd_postfix": "",
     "delete_cmd_prefix": "del ",
     "library": "var_list.py",
     "varRefreshCmd": "print(var_dic_list())"
    },
    "r": {
     "delete_cmd_postfix": ") ",
     "delete_cmd_prefix": "rm(",
     "library": "var_list.r",
     "varRefreshCmd": "cat(var_dic_list()) "
    }
   },
   "types_to_exclude": [
    "module",
    "function",
    "builtin_function_or_method",
    "instance",
    "_Feature"
   ],
   "window_display": false
  }
 },
 "nbformat": 4,
 "nbformat_minor": 5
}
