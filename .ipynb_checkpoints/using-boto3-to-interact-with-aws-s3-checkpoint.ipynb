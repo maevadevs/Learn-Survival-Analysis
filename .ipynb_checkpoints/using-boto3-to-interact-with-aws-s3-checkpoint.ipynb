{
 "cells": [
  {
   "cell_type": "markdown",
   "id": "abstract-minister",
   "metadata": {},
   "source": [
    "# Using `boto3` to interact with AWS S3"
   ]
  },
  {
   "cell_type": "code",
   "execution_count": null,
   "id": "rural-vinyl",
   "metadata": {},
   "outputs": [],
   "source": [
    "import boto3"
   ]
  },
  {
   "cell_type": "code",
   "execution_count": null,
   "id": "rural-newport",
   "metadata": {},
   "outputs": [],
   "source": [
    "# Define AWS resource: S3\n",
    "# boto3 automatically picks up your local aws config file for authentication\n",
    "s3 = boto3.resource(\"s3\")"
   ]
  },
  {
   "cell_type": "code",
   "execution_count": null,
   "id": "stuffed-acceptance",
   "metadata": {},
   "outputs": [],
   "source": [
    "# Define the S3 Bucket\n",
    "bucket = s3.Bucket(\"nyc-tlc\")"
   ]
  },
  {
   "cell_type": "code",
   "execution_count": null,
   "id": "speaking-protocol",
   "metadata": {},
   "outputs": [],
   "source": [
    "# Download a file from the S3 bucket\n",
    "bucket.download_file(\n",
    "    \"trip data/yellow_tripdata_2019-12.csv\", # Bucket Source\n",
    "    \"./aws-downloaded-file-yellow_tripdata_2019-12.csv\" # Local Destination\n",
    ")"
   ]
  },
  {
   "cell_type": "code",
   "execution_count": null,
   "id": "informational-version",
   "metadata": {},
   "outputs": [],
   "source": [
    "# Running command to list the file\n",
    "!dir ."
   ]
  },
  {
   "cell_type": "code",
   "execution_count": null,
   "id": "civilian-leonard",
   "metadata": {},
   "outputs": [],
   "source": [
    "# We can also read the data straight from S3 -- Using S3fs\n",
    "# Still reading the config file\n",
    "# But does not use boto3 anymore\n",
    "import pandas as pd\n",
    "df = pd.read_csv(\"s3://nyc-tlc/trip data/yellow_tripdata_2019-12.csv\")\n",
    "df.head()"
   ]
  }
 ],
 "metadata": {
  "kernelspec": {
   "display_name": "Python 3",
   "language": "python",
   "name": "python3"
  },
  "language_info": {
   "codemirror_mode": {
    "name": "ipython",
    "version": 3
   },
   "file_extension": ".py",
   "mimetype": "text/x-python",
   "name": "python",
   "nbconvert_exporter": "python",
   "pygments_lexer": "ipython3",
   "version": "3.8.8"
  },
  "toc": {
   "base_numbering": 1,
   "nav_menu": {},
   "number_sections": true,
   "sideBar": true,
   "skip_h1_title": true,
   "title_cell": "Table of Contents",
   "title_sidebar": "Contents",
   "toc_cell": false,
   "toc_position": {},
   "toc_section_display": true,
   "toc_window_display": true
  },
  "varInspector": {
   "cols": {
    "lenName": 16,
    "lenType": 16,
    "lenVar": 40
   },
   "kernels_config": {
    "python": {
     "delete_cmd_postfix": "",
     "delete_cmd_prefix": "del ",
     "library": "var_list.py",
     "varRefreshCmd": "print(var_dic_list())"
    },
    "r": {
     "delete_cmd_postfix": ") ",
     "delete_cmd_prefix": "rm(",
     "library": "var_list.r",
     "varRefreshCmd": "cat(var_dic_list()) "
    }
   },
   "types_to_exclude": [
    "module",
    "function",
    "builtin_function_or_method",
    "instance",
    "_Feature"
   ],
   "window_display": false
  }
 },
 "nbformat": 4,
 "nbformat_minor": 5
}
