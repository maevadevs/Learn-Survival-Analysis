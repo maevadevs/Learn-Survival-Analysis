{
 "cells": [
  {
   "cell_type": "markdown",
   "id": "simple-input",
   "metadata": {},
   "source": [
    "# Introduction To Survival Analysis"
   ]
  },
  {
   "cell_type": "markdown",
   "id": "vocal-relations",
   "metadata": {},
   "source": [
    "## Overview of Survival Analysis"
   ]
  },
  {
   "cell_type": "markdown",
   "id": "measured-colors",
   "metadata": {},
   "source": [
    "- Derived from clinical works about survival outcomes\n",
    "- But despite its name, it is not limited to studies about actual clinical survivals\n",
    "- It is a branch of statistics focused on analyzing **Time-to-an-event**\n",
    "- Widely used in Biostatistics and Medical Research\n",
    "- Broad applications across many industries\n",
    "- *Note: The **Event** is not always negative*"
   ]
  },
  {
   "cell_type": "markdown",
   "id": "contemporary-description",
   "metadata": {},
   "source": [
    "**Example of Survival Analysis:**\n",
    "\n",
    "- Time until equipment failure (Engineering)\n",
    "- Time until loan default (Finance)\n",
    "- Time until free trial users convert to paid users (Marketing)\n",
    "- Time until a tree bear its first fruit (Agriculture)\n",
    "- How long does it take for flu symptoms to show after exposure? (Medical)\n",
    "- Do salary and work-life balance influence the speed of employee turnover? (HR)\n",
    "- Predict battery failure time (Engineering)"
   ]
  },
  {
   "cell_type": "markdown",
   "id": "contemporary-curve",
   "metadata": {},
   "source": [
    "## Goals of Survival Analysis"
   ]
  },
  {
   "cell_type": "markdown",
   "id": "digital-friday",
   "metadata": {},
   "source": [
    "- To robustly estimate the time-until-an-event (*Time-to-Death-from-Birth*)\n",
    "- To help us draw insights from time-to-event distributions\n",
    "- To model survival distributions\n",
    "- To build plots of survival curves\n",
    "- To predict survival durations"
   ]
  },
  {
   "cell_type": "markdown",
   "id": "wanted-meeting",
   "metadata": {},
   "source": [
    "## Use Cases of Survival Analysis\n",
    "\n",
    "- What proportion of the subjects will experience an event?\n",
    "- Estimate the time-until-event in a population\n",
    "- At what rate will the event happen to the population?\n",
    "- What factors increase/decrease survival?\n",
    "- Predict probability of event occurence for subjects"
   ]
  },
  {
   "cell_type": "markdown",
   "id": "listed-melissa",
   "metadata": {},
   "source": [
    "### Example: Battery Life"
   ]
  },
  {
   "cell_type": "markdown",
   "id": "apparent-assistant",
   "metadata": {},
   "source": [
    "<img src=\"images/battery-example.png\" width=40%>"
   ]
  },
  {
   "cell_type": "markdown",
   "id": "laughing-purple",
   "metadata": {},
   "source": [
    "- **Duration**: How long has the battery been in use?\n",
    "- **Dead**: Is the battery already dead?\n",
    "- Each battery only lives once\n",
    "  - Has no bearing on any other battery's survival"
   ]
  },
  {
   "cell_type": "markdown",
   "id": "muslim-sullivan",
   "metadata": {},
   "source": [
    "## Definitions"
   ]
  },
  {
   "cell_type": "markdown",
   "id": "blocked-missouri",
   "metadata": {},
   "source": [
    "- **Event**: Any event of interest that could happen after a specific time (**Must be clear, unambiguous, and binary**)\n",
    "- **Birth**: The start of the time-measurement of the *Event*\n",
    "- **Death**: The occurence of the *Event*\n",
    "- **Survival**: The *Event* does not occur during the time-measurement\n",
    "- **Survival Duration**: The time until the *Event* occurs (or the end of the observation)"
   ]
  },
  {
   "cell_type": "markdown",
   "id": "noticed-ranking",
   "metadata": {},
   "source": [
    "- We are relying on the survival rate to make inferences on the underlying survival pattern\n",
    "- Analysis is structured around using *Time-To-Event* data"
   ]
  },
  {
   "cell_type": "markdown",
   "id": "funded-touch",
   "metadata": {},
   "source": [
    "<img src=\"images/time-to-event-data.png\" width=30%>"
   ]
  },
  {
   "cell_type": "markdown",
   "id": "comparative-dealing",
   "metadata": {},
   "source": [
    "<img src=\"images/time-to-event-data-table.png\" width=30%>"
   ]
  },
  {
   "cell_type": "markdown",
   "id": "assigned-curtis",
   "metadata": {},
   "source": [
    "**Time-to-Event Data** is typically consisting of a `Duration` and `Observed` column\n",
    "  - Must have a `duration` column: Time Measurement\n",
    "    - Specifies the survival duration or time-until-the-event\n",
    "    - Can be an actual `duration` single column\n",
    "    - Can be an interval of `start` and `end`\n",
    "  - Must have an `Observed` column\n",
    "    - Indicates if the event has been observed\n",
    "    - Is related to *Censorship*"
   ]
  },
  {
   "cell_type": "markdown",
   "id": "suitable-canberra",
   "metadata": {},
   "source": [
    "**Some Requirements:**\n",
    "\n",
    "- **Event must be clearly defined and binary**\n",
    "  - Must be clear, unambiguous, and binary\n",
    "  - Did it happen or did it not? \n",
    "  - Cannot be *partially happened*\n",
    "- **There should be abundant data for when the event occured**\n",
    "  - In order to fully understand the survival pattern"
   ]
  },
  {
   "cell_type": "markdown",
   "id": "novel-study",
   "metadata": {},
   "source": [
    "## Why Use Survival Analysis?"
   ]
  },
  {
   "cell_type": "markdown",
   "id": "sapphire-individual",
   "metadata": {},
   "source": [
    "What if we wanted to get the average battery lifetime from the above dataset?"
   ]
  },
  {
   "cell_type": "markdown",
   "id": "passive-alloy",
   "metadata": {},
   "source": [
    "```python\n",
    "np.mean(batteries[\"Duration\"])\n",
    "```"
   ]
  },
  {
   "cell_type": "markdown",
   "id": "electrical-killing",
   "metadata": {},
   "source": [
    "**But this approach is flawed**\n",
    "\n",
    "- Even though we have a `Duration` column for the already-observed times, some batteries have not died (yet)\n",
    "  - $Duration \\neq Lifetime$\n",
    "  - We now the `Duration` but not the actual lifetime data\n",
    "  - This missing data is called **Censorship**\n",
    "  - Running the simple Mean would innapropriately unnaccount for Battery 1, 3, 4... because their lifetime has not been defined yet"
   ]
  },
  {
   "cell_type": "markdown",
   "id": "acute-bunny",
   "metadata": {},
   "source": [
    "## Censorship"
   ]
  },
  {
   "cell_type": "markdown",
   "id": "binary-negotiation",
   "metadata": {},
   "source": [
    "**Censorship** happens when the *Time-to-Event* (Survival Time) is only partially known. Possible causes are:\n",
    "\n",
    "1. The event has not yet occured at the end of the observation/the time of the analysis\n",
    "1. The individual's data is missing because of dropout/loss of contact (did the event ever occured, past or future?)"
   ]
  },
  {
   "cell_type": "markdown",
   "id": "mental-racing",
   "metadata": {},
   "source": [
    "<img src=\"images/battery-lifetime.png\" width=40%>"
   ]
  },
  {
   "cell_type": "markdown",
   "id": "difficult-workstation",
   "metadata": {},
   "source": [
    "### Types of Censorships"
   ]
  },
  {
   "cell_type": "markdown",
   "id": "golden-delicious",
   "metadata": {},
   "source": [
    "<img src=\"images/types-of-censorship.png\" width=40%>"
   ]
  },
  {
   "cell_type": "markdown",
   "id": "utility-logic",
   "metadata": {},
   "source": [
    "- **No Censorship**\n",
    "  - The event has occured\n",
    "  - Survival duration is known\n",
    "- **Right-Censored** (Most commmon)\n",
    "  - The event has not occured\n",
    "  - Survival duration > observed duration\n",
    "  - **Status of event occurence: Unknown/Beyond observation ($T_{ActualSurvival} > t_{observation}$)**\n",
    "- **Left-Censored**\n",
    "  - The event has occured\n",
    "  - Survival duration < observed duration\n",
    "  - **Status of event occurence: Unknown/Beyond observation ($T_{ActualSurvival} < t_{observation}$)**\n",
    "  - **A common misconception about censorship is that if the left-side of the duration is unknown, the data is left-censored**\n",
    "    - **This is not always true**\n",
    "- **Interval-Censored**\n",
    "  - The exact Survival Time is ambiguous (within a certain range but not exactly known)\n",
    "  - The event has occured\n",
    "  - The individuals come in and out of observation"
   ]
  },
  {
   "cell_type": "markdown",
   "id": "qualified-bangladesh",
   "metadata": {},
   "source": [
    "### Why is Censorship Bad?"
   ]
  },
  {
   "cell_type": "markdown",
   "id": "bored-extension",
   "metadata": {},
   "source": [
    "- Missing data can skew our result one way or another\n",
    "- We don't know the error terms for when applying regression (How can we minimize error?)\n",
    "- Survival Analysis tools are not for imputation\n",
    "  - Instead, uses probabilistic distribution to take censored data into account\n",
    "  - Models the probability of a survival duration being larger than a certain value\n",
    "\n",
    "$$Survival(t)=P(T>t)$$"
   ]
  },
  {
   "cell_type": "markdown",
   "id": "powered-reach",
   "metadata": {},
   "source": [
    "Censorship is not required to use Survival Analysis\n",
    "\n",
    "- But it can handle some censored data\n",
    "- But is is preferred that only limited data-points are censored"
   ]
  },
  {
   "cell_type": "markdown",
   "id": "statistical-magazine",
   "metadata": {},
   "source": [
    "<img src=\"images/censored-data.png\" width=40%>"
   ]
  },
  {
   "cell_type": "markdown",
   "id": "conscious-warning",
   "metadata": {},
   "source": [
    "<img src=\"images/uncensored-data.png\" width=40%>"
   ]
  },
  {
   "cell_type": "markdown",
   "id": "enclosed-canvas",
   "metadata": {},
   "source": [
    "### Checking for Censorship Issues"
   ]
  },
  {
   "cell_type": "markdown",
   "id": "fallen-dressing",
   "metadata": {},
   "source": [
    "- Are there columns that indicate censorship? Or a way to derive them from other columns? (Often Preprocessed)\n",
    "- What percentage of the data is censored?\n",
    "  - If more than 50% (rule of thumb), then Survival Analysis would not work well\n",
    "- Is the censorship non-informative and random?\n",
    "  - What causes the censorship?\n",
    "  - Will it have impact on the Survival Analysis? It should not have impact on the result\n",
    "  - E.g. Deteriorating Cancer patients might withdraw from the observation"
   ]
  },
  {
   "cell_type": "markdown",
   "id": "timely-toddler",
   "metadata": {},
   "source": [
    "## Survival Analysis Curve"
   ]
  },
  {
   "cell_type": "markdown",
   "id": "adjusted-spring",
   "metadata": {},
   "source": [
    "- $T$: Time for when an event of interest occurs\n",
    "- $t$: Any point in time during our observation\n",
    "\n",
    "$$Survival(t)=P(T>t)$$"
   ]
  },
  {
   "cell_type": "markdown",
   "id": "ahead-karma",
   "metadata": {},
   "source": [
    "**The Survival Probability Function**\n",
    "\n",
    "- It gives the porbability that the event time `T` happens after `t`\n",
    "- It is the probability of an individual surviving past the observation time `t`\n",
    "\n",
    "The **Survival Curve** visualizes this probability\n",
    "\n",
    "- We calculate what proportion of the population **has not** experienced the event at each point in time\n",
    "- It shows the probability of survival past any given time\n",
    "- If the dataset is large, it approaches the *True Survival Function* for the population"
   ]
  },
  {
   "cell_type": "markdown",
   "id": "therapeutic-short",
   "metadata": {},
   "source": [
    "<img src=\"images/survival-curve.png\" width=50%>"
   ]
  },
  {
   "cell_type": "markdown",
   "id": "banned-ticket",
   "metadata": {},
   "source": [
    "The Survival Curve contains a lot of information\n",
    "\n",
    "- $Point(a,b)$: The probability that an individual survives longer than $a$ is $b$\n",
    "- Vertical Distance: How much the survival probability changes when the time changes\n",
    "- Flatter Curve: Lower rate of event occurence\n",
    "- Steeper Curve: Higher rate of event occurence"
   ]
  },
  {
   "cell_type": "markdown",
   "id": "adult-barbados",
   "metadata": {},
   "source": [
    "### Non-Parametric vs Parametric Models"
   ]
  },
  {
   "cell_type": "markdown",
   "id": "baking-machine",
   "metadata": {},
   "source": [
    "Non-Parametric | Parametric\n",
    "---------------|-----------\n",
    "We make no assumption about the shape of the data | Make some assumptions about the shape of the data\n",
    "| Described with a limited set of parameters\n",
    "Empirically describes the data: Curve is usually not smooth | Smooth curve but the distribution needs to be a good description of the data"
   ]
  },
  {
   "cell_type": "markdown",
   "id": "active-compiler",
   "metadata": {},
   "source": [
    "### Drawing A Survival Curve"
   ]
  },
  {
   "cell_type": "markdown",
   "id": "signed-fleet",
   "metadata": {},
   "source": [
    "Using the `lifelines` package\n",
    "\n",
    "- Fit survival functions\n",
    "- Plot survival curves"
   ]
  },
  {
   "cell_type": "markdown",
   "id": "united-viking",
   "metadata": {},
   "source": [
    "```\n",
    "# Instantiate a Fitter\n",
    "kmf = lfl.KaplanMeierFitter()\n",
    "\n",
    "# Fitting\n",
    "kmf.fit(durations, event_observed)\n",
    "\n",
    "# Plotting\n",
    "kmf.plot_survival_function()\n",
    "plt.show();\n",
    "```"
   ]
  },
  {
   "cell_type": "code",
   "execution_count": 1,
   "id": "modern-retrieval",
   "metadata": {},
   "outputs": [],
   "source": [
    "import lifelines as lfl\n",
    "import matplotlib.pyplot as plt\n",
    "import pandas as pd"
   ]
  },
  {
   "cell_type": "code",
   "execution_count": 2,
   "id": "elegant-disorder",
   "metadata": {},
   "outputs": [
    {
     "data": {
      "text/html": [
       "<div>\n",
       "<style scoped>\n",
       "    .dataframe tbody tr th:only-of-type {\n",
       "        vertical-align: middle;\n",
       "    }\n",
       "\n",
       "    .dataframe tbody tr th {\n",
       "        vertical-align: top;\n",
       "    }\n",
       "\n",
       "    .dataframe thead th {\n",
       "        text-align: right;\n",
       "    }\n",
       "</style>\n",
       "<table border=\"1\" class=\"dataframe\">\n",
       "  <thead>\n",
       "    <tr style=\"text-align: right;\">\n",
       "      <th></th>\n",
       "      <th>ctryname</th>\n",
       "      <th>cowcode2</th>\n",
       "      <th>politycode</th>\n",
       "      <th>un_region_name</th>\n",
       "      <th>un_continent_name</th>\n",
       "      <th>ehead</th>\n",
       "      <th>leaderspellreg</th>\n",
       "      <th>democracy</th>\n",
       "      <th>regime</th>\n",
       "      <th>start_year</th>\n",
       "      <th>duration</th>\n",
       "      <th>observed</th>\n",
       "    </tr>\n",
       "  </thead>\n",
       "  <tbody>\n",
       "    <tr>\n",
       "      <th>0</th>\n",
       "      <td>Afghanistan</td>\n",
       "      <td>700</td>\n",
       "      <td>700.0</td>\n",
       "      <td>Southern Asia</td>\n",
       "      <td>Asia</td>\n",
       "      <td>Mohammad Zahir Shah</td>\n",
       "      <td>Mohammad Zahir Shah.Afghanistan.1946.1952.Mona...</td>\n",
       "      <td>Non-democracy</td>\n",
       "      <td>Monarchy</td>\n",
       "      <td>1946</td>\n",
       "      <td>7</td>\n",
       "      <td>1</td>\n",
       "    </tr>\n",
       "    <tr>\n",
       "      <th>1</th>\n",
       "      <td>Afghanistan</td>\n",
       "      <td>700</td>\n",
       "      <td>700.0</td>\n",
       "      <td>Southern Asia</td>\n",
       "      <td>Asia</td>\n",
       "      <td>Sardar Mohammad Daoud</td>\n",
       "      <td>Sardar Mohammad Daoud.Afghanistan.1953.1962.Ci...</td>\n",
       "      <td>Non-democracy</td>\n",
       "      <td>Civilian Dict</td>\n",
       "      <td>1953</td>\n",
       "      <td>10</td>\n",
       "      <td>1</td>\n",
       "    </tr>\n",
       "    <tr>\n",
       "      <th>2</th>\n",
       "      <td>Afghanistan</td>\n",
       "      <td>700</td>\n",
       "      <td>700.0</td>\n",
       "      <td>Southern Asia</td>\n",
       "      <td>Asia</td>\n",
       "      <td>Mohammad Zahir Shah</td>\n",
       "      <td>Mohammad Zahir Shah.Afghanistan.1963.1972.Mona...</td>\n",
       "      <td>Non-democracy</td>\n",
       "      <td>Monarchy</td>\n",
       "      <td>1963</td>\n",
       "      <td>10</td>\n",
       "      <td>1</td>\n",
       "    </tr>\n",
       "    <tr>\n",
       "      <th>3</th>\n",
       "      <td>Afghanistan</td>\n",
       "      <td>700</td>\n",
       "      <td>700.0</td>\n",
       "      <td>Southern Asia</td>\n",
       "      <td>Asia</td>\n",
       "      <td>Sardar Mohammad Daoud</td>\n",
       "      <td>Sardar Mohammad Daoud.Afghanistan.1973.1977.Ci...</td>\n",
       "      <td>Non-democracy</td>\n",
       "      <td>Civilian Dict</td>\n",
       "      <td>1973</td>\n",
       "      <td>5</td>\n",
       "      <td>0</td>\n",
       "    </tr>\n",
       "    <tr>\n",
       "      <th>4</th>\n",
       "      <td>Afghanistan</td>\n",
       "      <td>700</td>\n",
       "      <td>700.0</td>\n",
       "      <td>Southern Asia</td>\n",
       "      <td>Asia</td>\n",
       "      <td>Nur Mohammad Taraki</td>\n",
       "      <td>Nur Mohammad Taraki.Afghanistan.1978.1978.Civi...</td>\n",
       "      <td>Non-democracy</td>\n",
       "      <td>Civilian Dict</td>\n",
       "      <td>1978</td>\n",
       "      <td>1</td>\n",
       "      <td>0</td>\n",
       "    </tr>\n",
       "  </tbody>\n",
       "</table>\n",
       "</div>"
      ],
      "text/plain": [
       "      ctryname  cowcode2  politycode un_region_name un_continent_name  \\\n",
       "0  Afghanistan       700       700.0  Southern Asia              Asia   \n",
       "1  Afghanistan       700       700.0  Southern Asia              Asia   \n",
       "2  Afghanistan       700       700.0  Southern Asia              Asia   \n",
       "3  Afghanistan       700       700.0  Southern Asia              Asia   \n",
       "4  Afghanistan       700       700.0  Southern Asia              Asia   \n",
       "\n",
       "                   ehead                                     leaderspellreg  \\\n",
       "0    Mohammad Zahir Shah  Mohammad Zahir Shah.Afghanistan.1946.1952.Mona...   \n",
       "1  Sardar Mohammad Daoud  Sardar Mohammad Daoud.Afghanistan.1953.1962.Ci...   \n",
       "2    Mohammad Zahir Shah  Mohammad Zahir Shah.Afghanistan.1963.1972.Mona...   \n",
       "3  Sardar Mohammad Daoud  Sardar Mohammad Daoud.Afghanistan.1973.1977.Ci...   \n",
       "4    Nur Mohammad Taraki  Nur Mohammad Taraki.Afghanistan.1978.1978.Civi...   \n",
       "\n",
       "       democracy         regime  start_year  duration  observed  \n",
       "0  Non-democracy       Monarchy        1946         7         1  \n",
       "1  Non-democracy  Civilian Dict        1953        10         1  \n",
       "2  Non-democracy       Monarchy        1963        10         1  \n",
       "3  Non-democracy  Civilian Dict        1973         5         0  \n",
       "4  Non-democracy  Civilian Dict        1978         1         0  "
      ]
     },
     "metadata": {},
     "output_type": "display_data"
    },
    {
     "data": {
      "text/plain": [
       "(1808, 12)"
      ]
     },
     "metadata": {},
     "output_type": "display_data"
    }
   ],
   "source": [
    "regimes = pd.read_csv(\"data/regimes.csv\")\n",
    "display(regimes.head())\n",
    "display(regimes.shape)"
   ]
  },
  {
   "cell_type": "code",
   "execution_count": 3,
   "id": "instrumental-memorial",
   "metadata": {},
   "outputs": [],
   "source": [
    "# Instantiate a Fitter\n",
    "regimes_kmf = lfl.KaplanMeierFitter()"
   ]
  },
  {
   "cell_type": "code",
   "execution_count": 4,
   "id": "middle-throw",
   "metadata": {},
   "outputs": [
    {
     "data": {
      "text/plain": [
       "<lifelines.KaplanMeierFitter:\"KM_estimate\", fitted with 1808 total observations, 340 right-censored observations>"
      ]
     },
     "execution_count": 4,
     "metadata": {},
     "output_type": "execute_result"
    }
   ],
   "source": [
    "# Fitting\n",
    "regimes_kmf.fit(\n",
    "    durations=regimes[\"duration\"], \n",
    "    event_observed=regimes[\"observed\"]\n",
    ")"
   ]
  },
  {
   "cell_type": "markdown",
   "id": "victorian-whole",
   "metadata": {},
   "source": [
    "- `durations` \n",
    "  - an array, list, pd.DataFrame or pd.Series \n",
    "  – length `n`\n",
    "  – duration subject was observed for\n",
    "- `event_observed` \n",
    "  - an array, list, pd.DataFrame, or pd.Series, optional \n",
    "  - `True` if the the death was observed\n",
    "  - `False` if the event was lost (right-censored)\n",
    "  - Defaults all `True` if `event_observed==None`"
   ]
  },
  {
   "cell_type": "code",
   "execution_count": 5,
   "id": "verified-badge",
   "metadata": {},
   "outputs": [
    {
     "data": {
      "image/png": "[encoded data removed]",
      "text/plain": [
       "<Figure size 432x288 with 1 Axes>"
      ]
     },
     "metadata": {
      "needs_background": "light"
     },
     "output_type": "display_data"
    }
   ],
   "source": [
    "# Plotting\n",
    "regimes_kmf.plot_survival_function()\n",
    "plt.show();"
   ]
  },
  {
   "cell_type": "markdown",
   "id": "lightweight-mattress",
   "metadata": {},
   "source": [
    "Use the survival curve you plotted to infer the probability:\n",
    "\n",
    "- What is the approximate median duration from all the regimes based on the survival curve? **~4**"
   ]
  }
 ],
 "metadata": {
  "kernelspec": {
   "display_name": "Python 3",
   "language": "python",
   "name": "python3"
  },
  "language_info": {
   "codemirror_mode": {
    "name": "ipython",
    "version": 3
   },
   "file_extension": ".py",
   "mimetype": "text/x-python",
   "name": "python",
   "nbconvert_exporter": "python",
   "pygments_lexer": "ipython3",
   "version": "3.8.8"
  },
  "toc": {
   "base_numbering": 1,
   "nav_menu": {},
   "number_sections": true,
   "sideBar": true,
   "skip_h1_title": true,
   "title_cell": "Table of Contents",
   "title_sidebar": "Contents",
   "toc_cell": false,
   "toc_position": {
    "height": "calc(100% - 180px)",
    "left": "10px",
    "top": "150px",
    "width": "256px"
   },
   "toc_section_display": true,
   "toc_window_display": true
  },
  "varInspector": {
   "cols": {
    "lenName": 16,
    "lenType": 16,
    "lenVar": 40
   },
   "kernels_config": {
    "python": {
     "delete_cmd_postfix": "",
     "delete_cmd_prefix": "del ",
     "library": "var_list.py",
     "varRefreshCmd": "print(var_dic_list())"
    },
    "r": {
     "delete_cmd_postfix": ") ",
     "delete_cmd_prefix": "rm(",
     "library": "var_list.r",
     "varRefreshCmd": "cat(var_dic_list()) "
    }
   },
   "types_to_exclude": [
    "module",
    "function",
    "builtin_function_or_method",
    "instance",
    "_Feature"
   ],
   "window_display": false
  }
 },
 "nbformat": 4,
 "nbformat_minor": 5
}
